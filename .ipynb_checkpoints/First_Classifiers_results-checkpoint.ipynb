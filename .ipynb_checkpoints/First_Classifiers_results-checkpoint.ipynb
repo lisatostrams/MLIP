{
 "cells": [
  {
   "cell_type": "markdown",
   "metadata": {},
   "source": [
    "# Decision tree classification\n",
    "\n",
    "First, we're starting off with a simple decision tree. Using only numerical values, we split the data on the cleanest seperation of class labels according to the gini index."
   ]
  },
  {
   "cell_type": "code",
   "execution_count": 1,
   "metadata": {},
   "outputs": [],
   "source": [
    "import numpy as np\n",
    "import pandas as pd\n",
    "import matplotlib.pyplot as plt\n",
    "\n",
    "data = pd.read_csv('Data/preprocessedTrain.csv') #import data\n",
    "X = data.loc[:, data.columns != 'AdoptionSpeed'] #create X without labels\n",
    "X = X.drop('Description',axis=1) #drop non numerical values\n",
    "X = X.drop('PetID',axis=1) #\n",
    "X = X.drop('RescuerID',axis=1)\n",
    "\n",
    "y = data['AdoptionSpeed'] #label vector\n",
    "\n",
    "attributeNames = list(X.columns.values) #for printing purposes\n",
    "classNames = ['sameDay','firstWeek','firstMonth','2nd3rdMonth','notAdopted']"
   ]
  },
  {
   "cell_type": "code",
   "execution_count": 2,
   "metadata": {},
   "outputs": [],
   "source": [
    "from sklearn import tree\n",
    "from Toolbox import treeprint\n",
    "from sklearn import model_selection\n",
    "import matplotlib.pyplot as plt\n",
    "\n",
    "test_proportion = 0.5  # set crossval proportion\n",
    "X_train, X_test, y_train, y_test = model_selection.train_test_split(X,y,test_size=test_proportion)\n",
    "levels = range(2,51)\n",
    "error = np.zeros((2,len(levels)))\n",
    "\n",
    "for t in levels:\n",
    "    dtc = tree.DecisionTreeClassifier(criterion='gini', max_depth=t) #train decision tree\n",
    "    dtc = dtc.fit(X_train,y_train)\n",
    "    \n",
    "    y_est_test = dtc.predict(X_test)\n",
    "    y_est_train = dtc.predict(X_train)\n",
    "    \n",
    "    test_class_error = 1-np.mean(y_est_test == y_test)\n",
    "    train_class_error = 1-np.mean(y_est_train == y_train)\n",
    "    error[0,t-2], error[1,t-2]= train_class_error, test_class_error\n"
   ]
  },
  {
   "cell_type": "code",
   "execution_count": 5,
   "metadata": {},
   "outputs": [
    {
     "data": {
      "image/png": "[encoded data removed]",
      "text/plain": [
       "<Figure size 432x288 with 1 Axes>"
      ]
     },
     "metadata": {
      "needs_background": "light"
     },
     "output_type": "display_data"
    },
    {
     "name": "stdout",
     "output_type": "stream",
     "text": [
      "Lowest average error is 0.3448 at 39 using 50.0 percent for testing\n",
      "Lowest unweighted error is 0.3448 at 39\n",
      "Lowest test error is 0.6242 at 5\n"
     ]
    }
   ],
   "source": [
    "plt.plot(levels, error[0,:])\n",
    "plt.plot(levels, error[1,:])\n",
    "plt.xlabel('Model complexity (max tree depth)')\n",
    "plt.ylabel('Error (misclassification rate)')\n",
    "plt.legend(['Error_train','Error_test']) \n",
    "plt.title('Cross validation over tree depth')\n",
    "plt.show()  \n",
    "errorSum = test_proportion*error[1,:] + (1-test_proportion)*error[0,:] # mean error\n",
    "error_equal = sum(error)\n",
    "print('Lowest average error is {:.4f} at {} using {} percent for testing'.format(min(errorSum), np.argmin(errorSum),test_proportion*100))\n",
    "print('Lowest unweighted error is {:.4f} at {}'.format(min(error_equal)/2,np.argmin(error_equal)))\n",
    "print('Lowest test error is {:.4f} at {}'.format(min(error[1,:]),np.argmin(error[1,:])))\n",
    "\n",
    "dtc = tree.DecisionTreeClassifier(criterion='gini', max_depth=np.argmin(errorSum)) #find relevant attributes\n",
    "dtc = dtc.fit(X,y)\n",
    "\n",
    "attribute_importance = [(attributeNames[i],dtc.feature_importances_[i]) for i in range(len(attributeNames))]\n",
    "attributes_sorted = sorted(attribute_importance, key=lambda item: item[1], reverse=True)"
   ]
  },
  {
   "cell_type": "code",
   "execution_count": 6,
   "metadata": {},
   "outputs": [
    {
     "name": "stdout",
     "output_type": "stream",
     "text": [
      "Features in order of importance:\n",
      "PhotoAmt: 0.0929\n",
      "Age: 0.0917\n",
      "Breed1: 0.0686\n",
      "Color2: 0.0647\n",
      "Color1: 0.0552\n",
      "State: 0.0505\n",
      "Breed2: 0.0393\n",
      "FurLength: 0.0340\n",
      "Color3: 0.0321\n",
      "Gender: 0.0315\n",
      "adopt: 0.0314\n",
      "MaturitySize: 0.0314\n",
      "Vaccinated: 0.0292\n",
      "Quantity: 0.0289\n",
      "Fee: 0.0285\n",
      "Dewormed: 0.0277\n",
      "friend: 0.0230\n",
      "Sterilized: 0.0228\n",
      "love: 0.0214\n",
      "good: 0.0204\n",
      "play: 0.0198\n",
      "health: 0.0193\n",
      "activ: 0.0156\n",
      "vaccin: 0.0155\n",
      "cute: 0.0145\n",
      "ador: 0.0125\n",
      "sweet: 0.0120\n",
      "Name: 0.0111\n",
      "beaut: 0.0095\n",
      "VideoAmt: 0.0088\n",
      "abandon: 0.0087\n",
      "Health: 0.0069\n",
      "great: 0.0064\n",
      "fun: 0.0058\n",
      "best: 0.0034\n",
      "energ: 0.0032\n",
      "Type: 0.0021\n"
     ]
    }
   ],
   "source": [
    "print('Features in order of importance:')\n",
    "print(*['{}: {:.4f}'.format(i[0],i[1]) for i in attributes_sorted],sep='\\n')"
   ]
  },
  {
   "cell_type": "code",
   "execution_count": 7,
   "metadata": {
    "scrolled": false
   },
   "outputs": [
    {
     "name": "stdout",
     "output_type": "stream",
     "text": [
      "               |->5  firstWeek\n",
      "               |\n",
      "            |->4 then if Name =< 0.50: go to 5, else go to 6\n",
      "            |  |\n",
      "            |  |->6  2nd3rdMonth\n",
      "            |\n",
      "         |->3 then if Type =< 1.50: go to 4, else go to 7\n",
      "         |  |\n",
      "         |  |  |->8  notAdopted\n",
      "         |  |  |\n",
      "         |  |->7 else if Color3 =< 6.50: go to 8, else go to 9\n",
      "         |     |\n",
      "         |     |->9  notAdopted\n",
      "         |\n",
      "      |->2 then if PhotoAmt =< 0.50: go to 3, else go to 10\n",
      "      |  |\n",
      "      |  |     |->12  firstWeek\n",
      "      |  |     |\n",
      "      |  |  |->11 then if Quantity =< 3.50: go to 12, else go to 13\n",
      "      |  |  |  |\n",
      "      |  |  |  |->13  firstMonth\n",
      "      |  |  |\n",
      "      |  |->10 else if Breed2 =< 306.50: go to 11, else go to 14\n",
      "      |     |\n",
      "      |     |  |->15  2nd3rdMonth\n",
      "      |     |  |\n",
      "      |     |->14 else if Dewormed =< 2.50: go to 15, else go to 16\n",
      "      |        |\n",
      "      |        |->16  2nd3rdMonth\n",
      "      |\n",
      "   |->1 then if Breed1 =< 306.50: go to 2, else go to 17\n",
      "   |  |\n",
      "   |  |        |->20  firstMonth\n",
      "   |  |        |\n",
      "   |  |     |->19 then if Quantity =< 2.50: go to 20, else go to 21\n",
      "   |  |     |  |\n",
      "   |  |     |  |->21  notAdopted\n",
      "   |  |     |\n",
      "   |  |  |->18 then if PhotoAmt =< 6.50: go to 19, else go to 22\n",
      "   |  |  |  |\n",
      "   |  |  |  |  |->23  notAdopted\n",
      "   |  |  |  |  |\n",
      "   |  |  |  |->22 else if Sterilized =< 1.50: go to 23, else go to 24\n",
      "   |  |  |     |\n",
      "   |  |  |     |->24  2nd3rdMonth\n",
      "   |  |  |\n",
      "   |  |->17 else if Sterilized =< 2.50: go to 18, else go to 25\n",
      "   |     |\n",
      "   |     |     |->27  notAdopted\n",
      "   |     |     |\n",
      "   |     |  |->26 then if Vaccinated =< 1.50: go to 27, else go to 28\n",
      "   |     |  |  |\n",
      "   |     |  |  |->28  notAdopted\n",
      "   |     |  |\n",
      "   |     |->25 else if State =< 41325.50: go to 26, else go to 29\n",
      "   |        |\n",
      "   |        |  |->30  notAdopted\n",
      "   |        |  |\n",
      "   |        |->29 else if State =< 41326.50: go to 30, else go to 31\n",
      "   |           |\n",
      "   |           |->31  notAdopted\n",
      "   |\n",
      "if Age =< 3.50: go to 1, else go to 32\n",
      "   |\n",
      "   |           |->36  firstWeek\n",
      "   |           |\n",
      "   |        |->35 then if Age =< 61.00: go to 36, else go to 37\n",
      "   |        |  |\n",
      "   |        |  |->37  firstMonth\n",
      "   |        |\n",
      "   |     |->34 then if Breed2 =< 120.50: go to 35, else go to 38\n",
      "   |     |  |\n",
      "   |     |  |  |->39  notAdopted\n",
      "   |     |  |  |\n",
      "   |     |  |->38 else if PhotoAmt =< 5.50: go to 39, else go to 40\n",
      "   |     |     |\n",
      "   |     |     |->40  2nd3rdMonth\n",
      "   |     |\n",
      "   |  |->33 then if Breed1 =< 209.50: go to 34, else go to 41\n",
      "   |  |  |\n",
      "   |  |  |     |->43  firstMonth\n",
      "   |  |  |     |\n",
      "   |  |  |  |->42 then if Quantity =< 1.50: go to 43, else go to 44\n",
      "   |  |  |  |  |\n",
      "   |  |  |  |  |->44  notAdopted\n",
      "   |  |  |  |\n",
      "   |  |  |->41 else if Age =< 5.50: go to 42, else go to 45\n",
      "   |  |     |\n",
      "   |  |     |  |->46  notAdopted\n",
      "   |  |     |  |\n",
      "   |  |     |->45 else if FurLength =< 2.50: go to 46, else go to 47\n",
      "   |  |        |\n",
      "   |  |        |->47  firstWeek\n",
      "   |  |\n",
      "   |->32 else if Breed1 =< 303.50: go to 33, else go to 48\n",
      "      |\n",
      "      |        |->51  notAdopted\n",
      "      |        |\n",
      "      |     |->50 then if best =< 0.50: go to 51, else go to 52\n",
      "      |     |  |\n",
      "      |     |  |->52  firstMonth\n",
      "      |     |\n",
      "      |  |->49 then if PhotoAmt =< 0.50: go to 50, else go to 53\n",
      "      |  |  |\n",
      "      |  |  |  |->54  notAdopted\n",
      "      |  |  |  |\n",
      "      |  |  |->53 else if Age =< 5.50: go to 54, else go to 55\n",
      "      |  |     |\n",
      "      |  |     |->55  notAdopted\n",
      "      |  |\n",
      "      |->48 else if PhotoAmt =< 3.50: go to 49, else go to 56\n",
      "         |\n",
      "         |     |->58  notAdopted\n",
      "         |     |\n",
      "         |  |->57 then if Quantity =< 2.50: go to 58, else go to 59\n",
      "         |  |  |\n",
      "         |  |  |->59  notAdopted\n",
      "         |  |\n",
      "         |->56 else if Age =< 15.50: go to 57, else go to 60\n",
      "            |\n",
      "            |  |->61  notAdopted\n",
      "            |  |\n",
      "            |->60 else if Vaccinated =< 2.50: go to 61, else go to 62\n",
      "               |\n",
      "               |->62  notAdopted\n",
      "<----------------------->\n",
      "Tree Depth:  5\n"
     ]
    }
   ],
   "source": [
    "dtc = tree.DecisionTreeClassifier(criterion='gini', max_depth = 5)\n",
    "dtc = dtc.fit(X,y)\n",
    "\n",
    "\n",
    "treeprint.tree_print(dtc, attributeNames, classNames) #plot smol tree\n",
    "\n"
   ]
  },
  {
   "cell_type": "markdown",
   "metadata": {},
   "source": [
    "### Decision tree classifier results\n",
    "\n",
    "Based on the small decision tree, the most important factors in order are: Age, breed, photo. Other relevant factors are Vaccinated, certain key words in the description.\n",
    "\n",
    "Based on the error plots, the model does not generalize well to test data. "
   ]
  },
  {
   "cell_type": "markdown",
   "metadata": {},
   "source": [
    "# Random forest\n",
    "\n",
    "Now we try with a random forest of decision trees."
   ]
  },
  {
   "cell_type": "code",
   "execution_count": 8,
   "metadata": {},
   "outputs": [],
   "source": [
    "# Import the model we are using\n",
    "from sklearn.ensemble import RandomForestRegressor\n",
    "\n",
    "estimators = np.logspace(1,3,num=3,base=10)\n",
    "error = np.zeros((2,len(estimators)))\n",
    "\n",
    "for n_e in estimators:\n",
    "    rf = RandomForestRegressor(n_estimators = int(n_e))\n",
    "    # Train the model on training data\n",
    "    rf = rf.fit(X_train, y_train)\n",
    "    \n",
    "    y_est_test = rf.predict(X_test)\n",
    "    y_est_train = rf.predict(X_train)\n",
    "    \n",
    "    test_class_error = 1-np.mean(np.round(y_est_test,0) == y_test)\n",
    "    train_class_error = 1-np.mean(np.round(y_est_train,0) == y_train)\n",
    "    error[0,int(np.log10(n_e)-1)], error[1,int(np.log10(n_e)-1)]= train_class_error, test_class_error\n"
   ]
  },
  {
   "cell_type": "code",
   "execution_count": 9,
   "metadata": {},
   "outputs": [
    {
     "data": {
      "image/png": "[encoded data removed]",
      "text/plain": [
       "<Figure size 432x288 with 1 Axes>"
      ]
     },
     "metadata": {
      "needs_background": "light"
     },
     "output_type": "display_data"
    },
    {
     "name": "stdout",
     "output_type": "stream",
     "text": [
      "Lowest average error is 0.4644 at 1000.0 using 50.0 percent for testing\n",
      "Lowest unweighted error is 0.4644 at 1000.0\n",
      "Lowest test error is 0.6940 at 0\n",
      "[[0.26814301 0.226254   0.22225187]\n",
      " [0.69401094 0.70761638 0.70654929]]\n"
     ]
    }
   ],
   "source": [
    "plt.semilogx(estimators, error[0,:])\n",
    "plt.semilogx(estimators, error[1,:])\n",
    "plt.xlabel('Model complexity (max tree depth)')\n",
    "plt.ylabel('Error (misclassification rate)')\n",
    "plt.legend(['Error_train','Error_test']) \n",
    "plt.title('Cross validation over number of trees in forest')\n",
    "plt.show()  \n",
    "\n",
    "\n",
    "errorSum = test_proportion*error[1,:] + (1-test_proportion)*error[0,:] # mean error\n",
    "error_equal = sum(error)\n",
    "print('Lowest average error is {:.4f} at {} using {} percent for testing'.format(min(errorSum), estimators[np.argmin(errorSum)],test_proportion*100))\n",
    "print('Lowest unweighted error is {:.4f} at {}'.format(min(error_equal)/2,estimators[np.argmin(error_equal)]))\n",
    "print('Lowest test error is {:.4f} at {}'.format(min(error[1,:]),np.argmin(error[1,:])))\n",
    "\n",
    "print(error)"
   ]
  },
  {
   "cell_type": "code",
   "execution_count": null,
   "metadata": {},
   "outputs": [],
   "source": []
  },
  {
   "cell_type": "markdown",
   "metadata": {},
   "source": [
    "### Random forest results\n",
    "\n",
    "Does not seem to perform better than a single decision tree."
   ]
  },
  {
   "cell_type": "markdown",
   "metadata": {},
   "source": [
    "# Logistic regression\n",
    "\n",
    "First, create new dataset Xlr to be used by logistic regression. Transform categorical variables to dummy."
   ]
  },
  {
   "cell_type": "code",
   "execution_count": 5,
   "metadata": {},
   "outputs": [
    {
     "data": {
      "image/png": "[encoded data removed]",
      "text/plain": [
       "<matplotlib.figure.Figure at 0x20693fdf390>"
      ]
     },
     "metadata": {},
     "output_type": "display_data"
    },
    {
     "name": "stdout",
     "output_type": "stream",
     "text": [
      "Lowest average error is 0.6082 at 1e-06 using 50.0 percent for testing\n",
      "Lowest unweighted error is 0.6082 at 1e-06\n",
      "Lowest test error is 0.6320 at 0.01\n"
     ]
    }
   ],
   "source": [
    "Xlr = X\n",
    "\n",
    "dummy = ['State','Type','Breed1','Breed2','Gender','Color1','Color2','Color3','Vaccinated','Dewormed','Sterilized']\n",
    "for d in dummy:\n",
    "    one_hot = pd.get_dummies(Xlr[d],prefix=d)\n",
    "    # Drop column d as it is now encoded\n",
    "    Xlr = Xlr.drop(d,axis = 1)\n",
    "    # Join the encoded df\n",
    "    Xlr = Xlr.join(one_hot)\n",
    "\n",
    "test_proportion = 0.5  # set crossval proportion\n",
    "Xlr_train, Xlr_test, ylr_train, ylr_test = model_selection.train_test_split(Xlr,y,test_size=test_proportion)\n",
    "\n",
    "#%%\n",
    "from sklearn.linear_model import LogisticRegression\n",
    "\n",
    "tol = [1,0.1,1e-2,1e-3,1e-4,1e-5,1e-6,1e-7,1e-8]\n",
    "error = np.zeros((2,len(tol)))\n",
    "for t in tol:\n",
    "    logreg = LogisticRegression(tol=t,)\n",
    "    logreg.fit(Xlr_train, ylr_train)\n",
    "    y_est_test = logreg.predict(Xlr_test)\n",
    "    y_est_train = logreg.predict(Xlr_train)\n",
    "    \n",
    "    test_class_error = 1-np.mean(y_est_test == ylr_test)\n",
    "    train_class_error = 1-np.mean(y_est_train == ylr_train)\n",
    "    error[0,int(-np.log10(t))], error[1,int(-np.log10(t))]= train_class_error, test_class_error\n",
    "\n",
    "plt.semilogx(tol, error[0,:])\n",
    "plt.semilogx(tol, error[1,:])\n",
    "plt.xlabel('Convergence (tolerance)')\n",
    "plt.ylabel('Error (misclassification rate)')\n",
    "plt.legend(['Error_train','Error_test']) \n",
    "plt.title('Cross validation over tolerance level in line search')\n",
    "plt.show()  \n",
    "\n",
    "\n",
    "errorSum = test_proportion*error[1,:] + (1-test_proportion)*error[0,:] # mean error\n",
    "error_equal = sum(error)\n",
    "print('Lowest average error is {:.4f} at {} using {} percent for testing'.format(min(errorSum), tol[np.argmin(errorSum)],test_proportion*100))\n",
    "print('Lowest unweighted error is {:.4f} at {}'.format(min(error_equal)/2,tol[np.argmin(error_equal)]))\n",
    "print('Lowest test error is {:.4f} at {}'.format(min(error[1,:]),tol[np.argmin(error[1,:])]))\n"
   ]
  },
  {
   "cell_type": "markdown",
   "metadata": {},
   "source": [
    "# K-Nearest Neighbors"
   ]
  },
  {
   "cell_type": "code",
   "execution_count": 104,
   "metadata": {},
   "outputs": [
    {
     "name": "stdout",
     "output_type": "stream",
     "text": [
      "Test error k =  2 : 0.7166\n",
      "Training error k =  2 : 0.3533\n",
      "Test error k =  3 : 0.6916\n",
      "Training error k =  3 : 0.4061\n",
      "Test error k =  4 : 0.6783\n",
      "Training error k =  4 : 0.4317\n",
      "Test error k =  5 : 0.6740\n",
      "Training error k =  5 : 0.4629\n",
      "Test error k =  6 : 0.6745\n",
      "Training error k =  6 : 0.4867\n",
      "Test error k =  7 : 0.6651\n",
      "Training error k =  7 : 0.4953\n",
      "Test error k =  8 : 0.6669\n",
      "Training error k =  8 : 0.5004\n",
      "Test error k =  9 : 0.6633\n",
      "Training error k =  9 : 0.5175\n",
      "Test error k =  10 : 0.6588\n",
      "Training error k =  10 : 0.5243\n",
      "Test error k =  11 : 0.6580\n",
      "Training error k =  11 : 0.5366\n",
      "Test error k =  12 : 0.6587\n",
      "Training error k =  12 : 0.5372\n",
      "Test error k =  13 : 0.6577\n",
      "Training error k =  13 : 0.5502\n",
      "Test error k =  14 : 0.6580\n",
      "Training error k =  14 : 0.5594\n",
      "Test error k =  15 : 0.6535\n",
      "Training error k =  15 : 0.5624\n",
      "Test error k =  16 : 0.6544\n",
      "Training error k =  16 : 0.5684\n",
      "Lowest average error is 0.6535 at 2 using 50.0 percent for testing\n",
      "Lowest unweighted error is 0.5349 at 2\n",
      "Lowest test error is 0.6535 at 13\n"
     ]
    }
   ],
   "source": [
    "from sklearn.neighbors import KNeighborsClassifier\n",
    "ks = []\n",
    "y_est_tests = []\n",
    "y_est_trains = []\n",
    "test_class_errors = []\n",
    "train_class_errors = []\n",
    "for k in range(15):\n",
    "    ks.append(KNeighborsClassifier(k+2))\n",
    "    ks[k].fit(X_train, y_train)\n",
    "    \n",
    "    y_est_tests.append(ks[k].predict(X_test))\n",
    "    y_est_trains.append(ks[k].predict(X_train))\n",
    "    \n",
    "    test_class_errors.append(1-np.mean(np.round(y_est_tests[k],0) == y_test))\n",
    "    train_class_errors.append(1-np.mean(np.round(y_est_trains[k],0) == y_train))\n",
    "\n",
    "    print('Test error k = ', k+2 ,': {:.4f}'.format(test_class_errors[k]))\n",
    "    print('Training error k = ', k+2 ,': {:.4f}'.format(train_class_errors[k]))\n",
    "\n",
    "error = [train_class_errors, test_class_errors]\n",
    "error_equal = []\n",
    "for e in range(len(error[0])):\n",
    "    error_equal.append(error[0][e] + error[1][e])\n",
    "\n",
    "print('Lowest average error is {:.4f} at {} using {} percent for testing'.format(min(test_class_errors), np.argmin(train_class_errors)+2,test_proportion*100))\n",
    "print('Lowest unweighted error is {:.4f} at {}'.format(min(error_equal)/2,np.argmin(error_equal)+2))\n",
    "print('Lowest test error is {:.4f} at {}'.format(min(error[1]),np.argmin(error[1])))\n",
    "    "
   ]
  },
  {
   "cell_type": "code",
   "execution_count": 83,
   "metadata": {},
   "outputs": [
    {
     "data": {
      "image/png": "[encoded data removed]",
      "text/plain": [
       "<Figure size 432x288 with 1 Axes>"
      ]
     },
     "metadata": {
      "needs_background": "light"
     },
     "output_type": "display_data"
    }
   ],
   "source": [
    "plt.plot(range(1,len(ks)+2),train_class_errors)\n",
    "plt.plot(range(1,len(ks)+2),test_class_errors)\n",
    "plt.xlabel('k')\n",
    "plt.ylabel('Error (misclassification rate)')\n",
    "plt.legend(['Error_train','Error_test']) \n",
    "plt.title('Effectiveness through different k\\'s')\n",
    "plt.show()"
   ]
  },
  {
   "cell_type": "markdown",
   "metadata": {},
   "source": [
    "# Support Vector Machine"
   ]
  },
  {
   "cell_type": "code",
   "execution_count": 3,
   "metadata": {},
   "outputs": [
    {
     "ename": "NameError",
     "evalue": "name 'd' is not defined",
     "output_type": "error",
     "traceback": [
      "\u001b[1;31m---------------------------------------------------------------------------\u001b[0m",
      "\u001b[1;31mNameError\u001b[0m                                 Traceback (most recent call last)",
      "\u001b[1;32m<ipython-input-3-9c7b09dcc986>\u001b[0m in \u001b[0;36m<module>\u001b[1;34m()\u001b[0m\n\u001b[0;32m     13\u001b[0m     \u001b[0mtest_class_error\u001b[0m \u001b[1;33m=\u001b[0m \u001b[1;36m1\u001b[0m\u001b[1;33m-\u001b[0m\u001b[0mnp\u001b[0m\u001b[1;33m.\u001b[0m\u001b[0mmean\u001b[0m\u001b[1;33m(\u001b[0m\u001b[0my_est_test\u001b[0m \u001b[1;33m==\u001b[0m \u001b[0my_test\u001b[0m\u001b[1;33m)\u001b[0m\u001b[1;33m\u001b[0m\u001b[0m\n\u001b[0;32m     14\u001b[0m     \u001b[0mtrain_class_error\u001b[0m \u001b[1;33m=\u001b[0m \u001b[1;36m1\u001b[0m\u001b[1;33m-\u001b[0m\u001b[0mnp\u001b[0m\u001b[1;33m.\u001b[0m\u001b[0mmean\u001b[0m\u001b[1;33m(\u001b[0m\u001b[0my_est_train\u001b[0m \u001b[1;33m==\u001b[0m \u001b[0my_train\u001b[0m\u001b[1;33m)\u001b[0m\u001b[1;33m\u001b[0m\u001b[0m\n\u001b[1;32m---> 15\u001b[1;33m     \u001b[0merror\u001b[0m\u001b[1;33m[\u001b[0m\u001b[1;36m0\u001b[0m\u001b[1;33m,\u001b[0m\u001b[0mint\u001b[0m\u001b[1;33m(\u001b[0m\u001b[0md\u001b[0m\u001b[1;33m/\u001b[0m\u001b[1;36m2\u001b[0m\u001b[1;33m)\u001b[0m\u001b[1;33m]\u001b[0m\u001b[1;33m,\u001b[0m \u001b[0merror\u001b[0m\u001b[1;33m[\u001b[0m\u001b[1;36m1\u001b[0m\u001b[1;33m,\u001b[0m\u001b[0mint\u001b[0m\u001b[1;33m(\u001b[0m\u001b[0md\u001b[0m\u001b[1;33m/\u001b[0m\u001b[1;36m2\u001b[0m\u001b[1;33m)\u001b[0m\u001b[1;33m]\u001b[0m\u001b[1;33m=\u001b[0m \u001b[0mtrain_class_error\u001b[0m\u001b[1;33m,\u001b[0m \u001b[0mtest_class_error\u001b[0m\u001b[1;33m\u001b[0m\u001b[0m\n\u001b[0m\u001b[0;32m     16\u001b[0m \u001b[1;33m\u001b[0m\u001b[0m\n\u001b[0;32m     17\u001b[0m \u001b[0mplt\u001b[0m\u001b[1;33m.\u001b[0m\u001b[0mplot\u001b[0m\u001b[1;33m(\u001b[0m\u001b[0mdegree\u001b[0m\u001b[1;33m,\u001b[0m \u001b[0merror\u001b[0m\u001b[1;33m[\u001b[0m\u001b[1;36m0\u001b[0m\u001b[1;33m,\u001b[0m\u001b[1;33m:\u001b[0m\u001b[1;33m]\u001b[0m\u001b[1;33m)\u001b[0m\u001b[1;33m\u001b[0m\u001b[0m\n",
      "\u001b[1;31mNameError\u001b[0m: name 'd' is not defined"
     ]
    }
   ],
   "source": [
    "from sklearn.svm import SVC\n",
    "\n",
    "tol = [1,0.1,1e-2,1e-3,1e-4,1e-5,1e-6,1e-7,1e-8]\n",
    "error = np.zeros((2,len(tol)))\n",
    "for t in tol:\n",
    "    svm = SVC(tol=t)\n",
    "    # Train the model on training data\n",
    "    svm = svm.fit(X_train, y_train)\n",
    "    \n",
    "    y_est_test = svm.predict(X_test)\n",
    "    y_est_train = svm.predict(X_train)\n",
    "    \n",
    "    test_class_error = 1-np.mean(y_est_test == y_test)\n",
    "    train_class_error = 1-np.mean(y_est_train == y_train)\n",
    "    error[0,int(-np.log10(t))], error[1,int(-np.log10(t))]= train_class_error, test_class_error\n",
    "\n",
    "plt.plot(degree, error[0,:])\n",
    "plt.plot(degree, error[1,:])\n",
    "plt.xlabel('Model complexity (degree of polynomial)')\n",
    "plt.ylabel('Error (misclassification rate)')\n",
    "plt.legend(['Error_train','Error_test']) \n",
    "plt.title('Cross validation over polynomial degree')\n",
    "plt.show()  \n",
    "errorSum = test_proportion*error[1,:] + (1-test_proportion)*error[0,:] # mean error\n",
    "error_equal = sum(error)\n",
    "print('Lowest average error is {:.4f} at {} using {} percent for testing'.format(min(errorSum), degree[np.argmin(errorSum)],test_proportion*100))\n",
    "print('Lowest unweighted error is {:.4f} at {}'.format(min(error_equal)/2,degree[np.argmin(error_equal)]))\n",
    "print('Lowest test error is {:.4f} at {}'.format(min(error[1,:]),degree[np.argmin(error[1,:])]))"
   ]
  },
  {
   "cell_type": "markdown",
   "metadata": {},
   "source": [
    "# Naive Bayes"
   ]
  },
  {
   "cell_type": "code",
   "execution_count": 89,
   "metadata": {},
   "outputs": [
    {
     "name": "stdout",
     "output_type": "stream",
     "text": [
      "Test error: 0.7031\n",
      "Training error: 0.6885\n"
     ]
    }
   ],
   "source": [
    "from sklearn.naive_bayes import GaussianNB\n",
    "gnb = GaussianNB()\n",
    "gnb.fit(X_train, y_train)\n",
    "\n",
    "y_est_test = gnb.predict(X_test)\n",
    "y_est_train = gnb.predict(X_train)\n",
    "\n",
    "test_class_error = 1-np.mean(np.round(y_est_test,0) == y_test)\n",
    "train_class_error = 1-np.mean(np.round(y_est_train,0) == y_train)\n",
    "\n",
    "print('Test error: {:.4f}'.format(test_class_error))\n",
    "print('Training error: {:.4f}'.format(train_class_error))"
   ]
  }
 ],
 "metadata": {
  "kernelspec": {
   "display_name": "Python 3",
   "language": "python",
   "name": "python3"
  },
  "language_info": {
   "codemirror_mode": {
    "name": "ipython",
    "version": 3
   },
   "file_extension": ".py",
   "mimetype": "text/x-python",
   "name": "python",
   "nbconvert_exporter": "python",
   "pygments_lexer": "ipython3",
   "version": "3.6.4"
  }
 },
 "nbformat": 4,
 "nbformat_minor": 2
}
