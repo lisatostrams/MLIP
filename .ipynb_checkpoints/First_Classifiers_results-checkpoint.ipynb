{
 "cells": [
  {
   "cell_type": "markdown",
   "metadata": {},
   "source": [
    "# Decision tree classification\n",
    "\n",
    "First, we're starting off with a simple decision tree. Using only numerical values, we split the data on the cleanest seperation of class labels according to the gini index."
   ]
  },
  {
   "cell_type": "code",
<<<<<<< HEAD
   "execution_count": 1,
=======
   "execution_count": 33,
>>>>>>> MajorityVote
   "metadata": {},
   "outputs": [],
   "source": [
    "import numpy as np\n",
    "import pandas as pd\n",
    "import matplotlib.pyplot as plt\n",
    "\n",
    "data = pd.read_csv('Data/preprocessedTrain.csv') #import data\n",
    "X = data.loc[:, data.columns != 'AdoptionSpeed'] #create X without labels\n",
    "X = X.drop('Description',axis=1) #drop non numerical values\n",
    "X = X.drop('PetID',axis=1) #\n",
    "X = X.drop('RescuerID',axis=1)\n",
    "\n",
    "y = data['AdoptionSpeed'] #label vector\n",
    "\n",
    "attributeNames = list(X.columns.values) #for printing purposes\n",
    "classNames = ['sameDay','firstWeek','firstMonth','2nd3rdMonth','notAdopted']"
   ]
  },
  {
   "cell_type": "code",
<<<<<<< HEAD
   "execution_count": 2,
=======
   "execution_count": 34,
>>>>>>> MajorityVote
   "metadata": {},
   "outputs": [],
   "source": [
    "from sklearn import tree\n",
    "from Toolbox import treeprint\n",
    "from sklearn import model_selection\n",
    "import matplotlib.pyplot as plt\n",
    "\n",
    "test_proportion = 0.5  # set crossval proportion\n",
    "X_train, X_test, y_train, y_test = model_selection.train_test_split(X,y,test_size=test_proportion)\n",
    "levels = range(2,51)\n",
    "error = np.zeros((2,len(levels)))\n",
    "\n",
    "for t in levels:\n",
    "    dtc = tree.DecisionTreeClassifier(criterion='gini', max_depth=t) #train decision tree\n",
    "    dtc = dtc.fit(X_train,y_train)\n",
    "    \n",
    "    y_est_test = dtc.predict(X_test)\n",
    "    y_est_train = dtc.predict(X_train)\n",
    "    \n",
    "    test_class_error = 1-np.mean(y_est_test == y_test)\n",
    "    train_class_error = 1-np.mean(y_est_train == y_train)\n",
    "    error[0,t-2], error[1,t-2]= train_class_error, test_class_error\n"
   ]
  },
  {
   "cell_type": "code",
   "execution_count": 35,
   "metadata": {},
   "outputs": [
    {
     "data": {
      "image/png": "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\n",
      "text/plain": [
       "<Figure size 432x288 with 1 Axes>"
      ]
     },
     "metadata": {
      "needs_background": "light"
     },
     "output_type": "display_data"
    },
    {
     "name": "stdout",
     "output_type": "stream",
     "text": [
      "Lowest average error is 0.3380 at 42 using 50.0 percent for testing\n",
      "Lowest unweighted error is 0.3380 at 42\n",
      "Lowest test error is 0.6305 at 7\n"
     ]
    }
   ],
   "source": [
    "plt.plot(levels, error[0,:])\n",
    "plt.plot(levels, error[1,:])\n",
    "plt.xlabel('Model complexity (max tree depth)')\n",
    "plt.ylabel('Error (misclassification rate)')\n",
    "plt.legend(['Error_train','Error_test']) \n",
    "plt.title('Cross validation over tree depth')\n",
    "plt.show()  \n",
    "errorSum = test_proportion*error[1,:] + (1-test_proportion)*error[0,:] # mean error\n",
    "error_equal = sum(error)\n",
    "print('Lowest average error is {:.4f} at {} using {} percent for testing'.format(min(errorSum), np.argmin(errorSum),test_proportion*100))\n",
    "print('Lowest unweighted error is {:.4f} at {}'.format(min(error_equal)/2,np.argmin(error_equal)))\n",
    "print('Lowest test error is {:.4f} at {}'.format(min(error[1,:]),np.argmin(error[1,:])))\n",
    "\n",
    "dtc = tree.DecisionTreeClassifier(criterion='gini', max_depth=np.argmin(errorSum)) #find relevant attributes\n",
    "dtc = dtc.fit(X,y)\n",
    "\n",
    "attribute_importance = [(attributeNames[i],dtc.feature_importances_[i]) for i in range(len(attributeNames))]\n",
    "attributes_sorted = sorted(attribute_importance, key=lambda item: item[1], reverse=True)"
   ]
  },
  {
   "cell_type": "code",
   "execution_count": 36,
   "metadata": {},
   "outputs": [
    {
     "name": "stdout",
     "output_type": "stream",
     "text": [
      "Features in order of importance:\n",
      "PhotoAmt: 0.0963\n",
      "Age: 0.0912\n",
      "Breed1: 0.0690\n",
      "Color2: 0.0667\n",
      "Color1: 0.0589\n",
      "State: 0.0500\n",
      "Breed2: 0.0395\n",
      "FurLength: 0.0333\n",
      "Gender: 0.0326\n",
      "Color3: 0.0318\n",
      "MaturitySize: 0.0316\n",
      "adopt: 0.0297\n",
      "Quantity: 0.0291\n",
      "Vaccinated: 0.0287\n",
      "Dewormed: 0.0274\n",
      "Fee: 0.0263\n",
      "Sterilized: 0.0235\n",
      "love: 0.0235\n",
      "play: 0.0207\n",
      "friend: 0.0206\n",
      "good: 0.0201\n",
      "health: 0.0169\n",
      "vaccin: 0.0153\n",
      "activ: 0.0140\n",
      "cute: 0.0133\n",
      "Name: 0.0123\n",
      "ador: 0.0121\n",
      "sweet: 0.0116\n",
      "abandon: 0.0089\n",
      "VideoAmt: 0.0089\n",
      "beaut: 0.0086\n",
      "Health: 0.0063\n",
      "great: 0.0058\n",
      "fun: 0.0058\n",
      "best: 0.0041\n",
      "energ: 0.0034\n",
      "Type: 0.0019\n"
     ]
    }
   ],
   "source": [
    "print('Features in order of importance:')\n",
    "print(*['{}: {:.4f}'.format(i[0],i[1]) for i in attributes_sorted],sep='\\n')"
   ]
  },
  {
   "cell_type": "code",
   "execution_count": 37,
   "metadata": {
    "scrolled": false
   },
   "outputs": [
    {
     "name": "stdout",
     "output_type": "stream",
     "text": [
      "               |->5  firstWeek\n",
      "               |\n",
      "            |->4 then if Name =< 0.50: go to 5, else go to 6\n",
      "            |  |\n",
      "            |  |->6  2nd3rdMonth\n",
      "            |\n",
      "         |->3 then if Type =< 1.50: go to 4, else go to 7\n",
      "         |  |\n",
      "         |  |  |->8  notAdopted\n",
      "         |  |  |\n",
      "         |  |->7 else if Color3 =< 6.50: go to 8, else go to 9\n",
      "         |     |\n",
      "         |     |->9  notAdopted\n",
      "         |\n",
      "      |->2 then if PhotoAmt =< 0.50: go to 3, else go to 10\n",
      "      |  |\n",
      "      |  |     |->12  firstWeek\n",
      "      |  |     |\n",
      "      |  |  |->11 then if Quantity =< 3.50: go to 12, else go to 13\n",
      "      |  |  |  |\n",
      "      |  |  |  |->13  firstMonth\n",
      "      |  |  |\n",
      "      |  |->10 else if Breed2 =< 306.50: go to 11, else go to 14\n",
      "      |     |\n",
      "      |     |  |->15  2nd3rdMonth\n",
      "      |     |  |\n",
      "      |     |->14 else if Dewormed =< 2.50: go to 15, else go to 16\n",
      "      |        |\n",
      "      |        |->16  2nd3rdMonth\n",
      "      |\n",
      "   |->1 then if Breed1 =< 306.50: go to 2, else go to 17\n",
      "   |  |\n",
      "   |  |        |->20  firstMonth\n",
      "   |  |        |\n",
      "   |  |     |->19 then if Quantity =< 2.50: go to 20, else go to 21\n",
      "   |  |     |  |\n",
      "   |  |     |  |->21  notAdopted\n",
      "   |  |     |\n",
      "   |  |  |->18 then if PhotoAmt =< 6.50: go to 19, else go to 22\n",
      "   |  |  |  |\n",
      "   |  |  |  |  |->23  notAdopted\n",
      "   |  |  |  |  |\n",
      "   |  |  |  |->22 else if Sterilized =< 1.50: go to 23, else go to 24\n",
      "   |  |  |     |\n",
      "   |  |  |     |->24  2nd3rdMonth\n",
      "   |  |  |\n",
      "   |  |->17 else if Sterilized =< 2.50: go to 18, else go to 25\n",
      "   |     |\n",
      "   |     |     |->27  notAdopted\n",
      "   |     |     |\n",
      "   |     |  |->26 then if Vaccinated =< 1.50: go to 27, else go to 28\n",
      "   |     |  |  |\n",
      "   |     |  |  |->28  notAdopted\n",
      "   |     |  |\n",
      "   |     |->25 else if State =< 41325.50: go to 26, else go to 29\n",
      "   |        |\n",
      "   |        |  |->30  notAdopted\n",
      "   |        |  |\n",
      "   |        |->29 else if State =< 41326.50: go to 30, else go to 31\n",
      "   |           |\n",
      "   |           |->31  notAdopted\n",
      "   |\n",
      "if Age =< 3.50: go to 1, else go to 32\n",
      "   |\n",
      "   |           |->36  firstWeek\n",
      "   |           |\n",
      "   |        |->35 then if Age =< 61.00: go to 36, else go to 37\n",
      "   |        |  |\n",
      "   |        |  |->37  firstMonth\n",
      "   |        |\n",
      "   |     |->34 then if Breed2 =< 120.50: go to 35, else go to 38\n",
      "   |     |  |\n",
      "   |     |  |  |->39  notAdopted\n",
      "   |     |  |  |\n",
      "   |     |  |->38 else if PhotoAmt =< 5.50: go to 39, else go to 40\n",
      "   |     |     |\n",
      "   |     |     |->40  2nd3rdMonth\n",
      "   |     |\n",
      "   |  |->33 then if Breed1 =< 209.50: go to 34, else go to 41\n",
      "   |  |  |\n",
      "   |  |  |     |->43  firstMonth\n",
      "   |  |  |     |\n",
      "   |  |  |  |->42 then if Quantity =< 1.50: go to 43, else go to 44\n",
      "   |  |  |  |  |\n",
      "   |  |  |  |  |->44  notAdopted\n",
      "   |  |  |  |\n",
      "   |  |  |->41 else if Age =< 5.50: go to 42, else go to 45\n",
      "   |  |     |\n",
      "   |  |     |  |->46  notAdopted\n",
      "   |  |     |  |\n",
      "   |  |     |->45 else if FurLength =< 2.50: go to 46, else go to 47\n",
      "   |  |        |\n",
      "   |  |        |->47  firstWeek\n",
      "   |  |\n",
      "   |->32 else if Breed1 =< 303.50: go to 33, else go to 48\n",
      "      |\n",
      "      |        |->51  notAdopted\n",
      "      |        |\n",
      "      |     |->50 then if best =< 0.50: go to 51, else go to 52\n",
      "      |     |  |\n",
      "      |     |  |->52  firstMonth\n",
      "      |     |\n",
      "      |  |->49 then if PhotoAmt =< 0.50: go to 50, else go to 53\n",
      "      |  |  |\n",
      "      |  |  |  |->54  notAdopted\n",
      "      |  |  |  |\n",
      "      |  |  |->53 else if Age =< 5.50: go to 54, else go to 55\n",
      "      |  |     |\n",
      "      |  |     |->55  notAdopted\n",
      "      |  |\n",
      "      |->48 else if PhotoAmt =< 3.50: go to 49, else go to 56\n",
      "         |\n",
      "         |     |->58  notAdopted\n",
      "         |     |\n",
      "         |  |->57 then if Quantity =< 2.50: go to 58, else go to 59\n",
      "         |  |  |\n",
      "         |  |  |->59  notAdopted\n",
      "         |  |\n",
      "         |->56 else if Age =< 15.50: go to 57, else go to 60\n",
      "            |\n",
      "            |  |->61  notAdopted\n",
      "            |  |\n",
      "            |->60 else if Vaccinated =< 2.50: go to 61, else go to 62\n",
      "               |\n",
      "               |->62  notAdopted\n",
      "<----------------------->\n",
      "Tree Depth:  5\n"
     ]
    }
   ],
   "source": [
    "dtc = tree.DecisionTreeClassifier(criterion='gini', max_depth = 5)\n",
    "dtc = dtc.fit(X,y)\n",
    "\n",
    "\n",
    "treeprint.tree_print(dtc, attributeNames, classNames) #plot smol tree\n",
    "\n",
    "\n",
    "\n"
   ]
  },
  {
   "cell_type": "code",
   "execution_count": 38,
   "metadata": {},
   "outputs": [],
   "source": [
    "#print(X_train)\n",
    "#help(tree._tree.Tree)\n",
    "#X_train.sf()\n",
    "treeRows = []\n",
    "afterTree = dtc.predict(X_test)#predicted from tree\n"
   ]
  },
  {
   "cell_type": "markdown",
   "metadata": {},
   "source": [
    "### Decision tree classifier results\n",
    "\n",
    "Based on the small decision tree, the most important factors in order are: Age, breed, photo. Other relevant factors are Vaccinated, certain key words in the description.\n",
    "\n",
    "Based on the error plots, the model does not generalize well to test data. "
   ]
  },
  {
   "cell_type": "markdown",
   "metadata": {},
   "source": [
    "# Random forest\n",
    "\n",
    "Now we try with a random forest of decision trees."
   ]
  },
  {
   "cell_type": "code",
   "execution_count": 39,
   "metadata": {},
   "outputs": [],
   "source": [
    "# Import the model we are using\n",
    "from sklearn.ensemble import RandomForestRegressor\n",
    "\n",
    "estimators = np.logspace(1,3,num=3,base=10)\n",
    "error = np.zeros((2,len(estimators)))\n",
    "\n",
    "for n_e in estimators:\n",
    "    rf = RandomForestRegressor(n_estimators = int(n_e))\n",
    "    # Train the model on training data\n",
    "    rf = rf.fit(X_train, y_train)\n",
    "    \n",
    "    y_est_test = rf.predict(X_test)\n",
    "    y_est_train = rf.predict(X_train)\n",
    "    \n",
    "    test_class_error = 1-np.mean(np.round(y_est_test,0) == y_test)\n",
    "    train_class_error = 1-np.mean(np.round(y_est_train,0) == y_train)\n",
    "    error[0,int(np.log10(n_e)-1)], error[1,int(np.log10(n_e)-1)]= train_class_error, test_class_error\n"
   ]
  },
  {
   "cell_type": "code",
   "execution_count": 40,
   "metadata": {},
   "outputs": [
    {
     "data": {
      "image/png": "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\n",
      "text/plain": [
       "<Figure size 432x288 with 1 Axes>"
      ]
     },
     "metadata": {
      "needs_background": "light"
     },
     "output_type": "display_data"
    },
    {
     "name": "stdout",
     "output_type": "stream",
     "text": [
      "Lowest average error is 0.4609 at 1000.0 using 50.0 percent for testing\n",
      "Lowest unweighted error is 0.4609 at 1000.0\n",
      "Lowest test error is 0.6915 at 0\n",
      "[[0.27134472 0.22158485 0.21811633]\n",
      " [0.69147659 0.70708283 0.70374817]]\n"
     ]
    }
   ],
   "source": [
    "plt.semilogx(estimators, error[0,:])\n",
    "plt.semilogx(estimators, error[1,:])\n",
    "plt.xlabel('Model complexity (max tree depth)')\n",
    "plt.ylabel('Error (misclassification rate)')\n",
    "plt.legend(['Error_train','Error_test']) \n",
    "plt.title('Cross validation over number of trees in forest')\n",
    "plt.show()  \n",
    "\n",
    "\n",
    "errorSum = test_proportion*error[1,:] + (1-test_proportion)*error[0,:] # mean error\n",
    "error_equal = sum(error)\n",
    "print('Lowest average error is {:.4f} at {} using {} percent for testing'.format(min(errorSum), estimators[np.argmin(errorSum)],test_proportion*100))\n",
    "print('Lowest unweighted error is {:.4f} at {}'.format(min(error_equal)/2,estimators[np.argmin(error_equal)]))\n",
    "print('Lowest test error is {:.4f} at {}'.format(min(error[1,:]),np.argmin(error[1,:])))\n",
    "\n",
    "print(error)"
   ]
  },
  {
   "cell_type": "code",
   "execution_count": null,
   "metadata": {},
   "outputs": [],
   "source": []
  },
  {
   "cell_type": "markdown",
   "metadata": {},
   "source": [
    "### Random forest results\n",
    "\n",
    "Does not seem to perform better than a single decision tree."
   ]
  },
  {
   "cell_type": "markdown",
   "metadata": {},
   "source": [
    "# Logistic regression\n",
    "\n",
    "First, create new dataset Xlr to be used by logistic regression. Transform categorical variables to dummy."
   ]
  },
  {
   "cell_type": "code",
<<<<<<< HEAD
   "execution_count": 5,
=======
   "execution_count": 41,
>>>>>>> MajorityVote
   "metadata": {},
   "outputs": [
    {
     "data": {
      "image/png": "iVBORw0KGgoAAAANSUhEUgAAAYsAAAEaCAYAAADg2nttAAAABHNCSVQICAgIfAhkiAAAAAlwSFlzAAALEgAACxIB0t1+/AAAADl0RVh0U29mdHdhcmUAbWF0cGxvdGxpYiB2ZXJzaW9uIDIuMS4yLCBodHRwOi8vbWF0cGxvdGxpYi5vcmcvNQv5yAAAIABJREFUeJzs3Xl4VOX5//H3h4QQIOwEFcKmgIqKiBEV1KKtuGurdde6tFrbr63WVkWr1tra+rPaWiuttSp2cam7aFGUKu7WhEUREEUIEECBJOxLtvv3xzmBYUgyJyGTGZL7dV3nypz9njOTc895nnOeR2aGc845V582qQ7AOedc+vNk4ZxzLiFPFs455xLyZOGccy4hTxbOOecS8mThnHMuIU8WLZQkkzQofH2/pJujLNuI/Zwv6dXGxtkSSHpE0q9THcfO2JnvQAP2MVXS9+qYd6OkBxu53a3HX9KRkubtTJzpStIYScWp2r8nixiSzpNUKGm9pOWSXpZ0RKrj2llmdoWZ/WpntyNpQHhSyYzZ9qNmNnZnt51OWsLJf1djZr8xs1oTSQO387aZ7d0UMbntebIISboGuAf4DbAb0A/4M3BaHctn1jbd7VpS+Tn6d8jFUiBtz8lpG1hzktQFuA34PzN71sw2mFmFmb1oZteGy9wq6WlJ/5K0FrhYUjtJ90haFg73SGoXLt9T0kuSVksqlfR2zRdB0vWSlkpaJ2mepK/XEtNhkr6UlBEz7VuSPg5fj5T0frj95ZLuk5RVx/vb7peypGvDdZZJujRu2ZMkzZC0VtISSbfGzH4r/Ls6vPo6XNLFkt6JWX+UpAJJa8K/o2LmTZX0K0nvhu/9VUk96/lcLpM0Pzx+EyX1DqffL+muuGVfCBM+knpLekbSSkkLJf04ZrkdPse47VwOnA9cF77HF8Pp+4bxr5Y0W9Kp9cR9sqSZ4bLvSRoWM68o/Pw/BjZIypQ0TtIX4TGZI+lbMctfLOkdSXdJKgvfzwkx87tLmhB+lmWSno8SR33C7/VdkhZL+io83u3DeXMlnRyzbKakVZJGhOOHhftaLekjSWMi7vNWSf8KX9dcwV4UxrBK0s8jbme7oprweP9M0sfhd/LfkrIbeowU+IOkFeF2Ppa0f4Tj1U3BeWBl+Pm8JCkvZrtTJd0u6V1gI7BnfZ9puM5PwziWS7okynFpEmbW6gfgeKASyKxnmVuBCuCbBEm2PUGC+QDoBeQC7wG/Cpf/LXA/0DYcjgQE7A0sAXqHyw0A9qpjn18Ax8aMPwWMC18fDBwGZIbbmAtcHbOsAYPC148Av455r18B+wMdgcfilh0DHBC+x2Hhst+MidVijxPByfad8HV3oAy4MIzr3HC8Rzh/aviehoTHbypwRx3v/RhgFTACaAf8CXgrnHdUeAwVjncDNgG9w7inAbcAWcCewALguLo+x1r2vfV4heNtgfnAjeE2jwHWAXvXcnxHACuAQ4EM4CKgCGgXzi8CZgJ9a/YNnBkT+9nABmCPmONbAVwWbu8HwLKY9/4f4N/hMWgLfC1KHLW859jvwD3AxPDz7AS8CPw2nHcL8GjMeicBn4av+wAlwInhezk2HM+N+fy/V8//17/ivmd/I/ieHAhsAfatY93Y4z8GKI6ZVwR8GB7f7gT/J1c09BgBxxF8r7oS/B/vG/MZ1Xe8egBnAB3CeU8Bz8dsdyqwGNiP4H+mbT2f6RiC89Rt4fQTCRJMt2Y5TzbHTtJ9IPgl+WWCZW4lPFnFTPsCODHuC1UUvr4NeKHmHzBmmUHhF/QbQNsE+/w18HD4uhPBSaR/HcteDTwXM15XsniYmBM0wYnb4uOMmX8P8Ifwdc0/cV3J4kLgw7j13wcuDl9PBW6KmfdD4JU69vsQcGfMeA7BSXNA+M+6GDgqnHcZ8Hr4+lBgcdy2bgAm1PU51rLvrccrHD8S+BJoEzPtceDWWo7vXwh/MMQsOy/mH74IuDTB/mcCp8Uc3/kx8zqEn8HuwB5ANbWcLBLFUcvyFn43FX7P9oqZdziwMOb7uw7oEI4/CtwSvr4e+GfcdicDF8V8/g1JFnkx8z8Ezkn0eVF7srggZvxO4P6GHiOCHwifEfxAi/0e1Hu8atnOcKAsZnwqcFvMeH2f6RiCH0Wx/38rgMPq+z411eDFUIESoKcSlyEviRvvDSyKGV8UTgP4HcGv0VclLZA0DsDM5hOc2G8FVkh6oqZ4pRaPAacrKNo6HZhuZosAJA0JL2m/DItTfgPUWaQTF3Ps+4iNH0mHSnojvGxeA1wRcbs1214UN20RwS/OGl/GvN5IkAQSbsvM1hN8Tn0s+C95guDKBeA8gpMWQH+gd1issFrSaoIrgt1ith3/OSbSG1hiZtUx0+LfV43+wE/j9t+Xbd+LHfYv6TsxRSGrCa76Yo/51mNmZhvDlznhdkvNrKyRcdQmlyAhTYtZ75Vwes33dy5wiqQOwKkE39OafZ4Zt88jCE6AjRH1u9LY7UQ+Rmb2OnAfMB74StIDkjqT4HhJ6iDpr5IWhf+nbwFdFVO8zPbfh/o+U4ASM6us4/0klSeLwPvAZoKiifpY3Pgygi9cjX7hNMxsnZn91Mz2BE4BrlFYN2Fmj5nZEeG6Bvy/WndmNofgpHQCwQnxsZjZfwE+BQabWWeCE6ISxA+wnOALGRtzrMcILqn7mlkXgqK0mu3Gv/948cejZvtLI8RV77YkdSS4pK/Z1uPAtyX1J7iaeCacvoTgV13XmKGTmZ0Ys+1E76O2z7mvtq98rOt9LQFuj9t/BzN7vLbth/H/DbiSoLiuK/AJ0T7LJUB3SV0bGUdtVhH8et0vZr0uZhZ7QnqcIFGfBswJE0jNPv8Zt8+OZnZHhPeSCg06RmZ2r5kdTFBkNAS4lsTH66cERc+Hhv+nR4XTYz/f2O9bfZ9pSnmyAMxsDUFZ7HhJ3wx/DbSVdIKkO+tZ9XHgJkm5CipqbwFqKulOljRIkoC1QBVQJWlvSceEVwubCb5oVfXs4zHgxwRfsqdipncKt7te0j4EZdlRPElQOT80/GX4i7j5nQh+2WyWNJIgSdVYSXCJvGcd254EDFFwC3KmpLOBocBLEWOL9RhwiaTh4bH6DfA/MysCMLMZYTwPApPNbHW43ofAWgWVyO0lZUjaX9IhDdj3V2z/Hv9HUNRwXfi9GEPwA+CJWtb9G3BFeIUmSR0V3DTQqY59dSQ4WawECCss948SpJktB14G/hxWpLaVVHMyamgcNdusDtf9g6ReYUx9JB0Xs9gTwFiC71zsD5h/EVxxHBce92wFFc55pKfIx0jSIeFybQm+C5uBqgjHqxPB//hqSd3Z8f9tOwk+05TyZBEys98D1wA3EfzjLiH4tfd8Pav9GigEPgZmAdPDaQCDgSnAeoIrlz+b2VSCyto7CH6RfElQOX5jPft4nKCs8nUzWxUz/WcEJ/J1BF/Wf0d8ny8T1EO8TlBM9nrcIj8EbpO0jiD5PRmz7kbgduDd8JL7sLhtlwAnE/yaKgGuA06OizsSM/svcDPBFcNyYC/gnLjFHieo+3ksZr0qghP5cGAhwXF+EOjSgN0/BAwN3+PzZlZOUNxyQri9PwPfMbNPa4m7kKAO5T6Cyv35xN1xFbf8HOBugu/IVwQ3F7zbgFgvJKjL+ZSg/PrqxsQR5/pw+Q/CopMpBL+Oa2JeHsY7ipjvnZktIbjauJFt/0PXkqbnmQYeo84E/2dlBFf7JUDNHXn1Ha97CCrpVxHcDPNKhNBq/UxTreaOCuecc65OaZnxnXPOpRdPFs455xLyZOGccy4hTxbOOecS8mThnHMuoRbT6mXPnj1twIABqQ7DOed2KdOmTVtlZrmJlmsxyWLAgAEUFhamOgznnNulSIpvoqdWXgzlnHMuIU8WzjnnEvJk4ZxzLqEWU2dRm4qKCoqLi9m8eXOqQ2mRsrOzycvLo23btqkOxTmXZC06WRQXF9OpUycGDBhA0PiraypmRklJCcXFxQwcODDV4TjnkiypxVCSjlfQx/R8hZ3/1LLMWQr6HZ4t6bGY6f0U9NE8N5w/oKH737x5Mz169PBEkQSS6NGjh1+1OddKJO3KIuwJajxBP7zFQIGkiWGTzDXLDCbo8nK0mZXVtAcf+gdBxySvScoh6EehMXE0+j24+vmxdS61yjaUM3/leiqqqhm1V9QOLRsnmcVQIwn6Dl4AIOkJwp61Ypa5DBhf04Wgma0Ilx1K0M/sa+H09UmM0znn0paZ8eXazcxfsZ75K9bzefj3ixXrKdlQDsD+fTrz0o+OTGocyUwWfdi+b9ligu4vYw0BkPQukAHcamavhNNXS3oWGEjQmci4sGObrSRdDlwO0K9ffO+g6SEjI4MDDjhg6/g555zDuHG1lsg1malTp5KVlcWoUaMatF5hYSH/+Mc/uPfee5MUmXOuLlXVxpLSjVuTwfwV65m/MkgK67ds63a7c3Ymg3rl8PV9ezG4VycG9cphUK/kd8OdzGRRWxlFfE9LmQQ9yo0B8oC3Je0fTj8SOAhYTNAb18UEPZht25jZA8ADAPn5+WnZi1P79u2ZOXNmvctUVVWRkbGt//bKykoyMxN/NHUtN3XqVHJycmpNFvVtOz8/n/z8/IT7dc413pbKKhau2hBcJXy1LSEsWLWB8sptpe29OrVjUK8cTh/Rh8G9ctgrTAq5Oe1SUgSczGRRDPSNGc8j6Pg+fpkPzKwCWChpHkHyKAZmxBRhPQ8cRlyyaIhfvjibOcvWNnb1Wg3t3ZlfnLJfo9YdMGAAl156Ka+++ipXXnkl999/P6NGjeLdd9/l1FNP5dvf/jaXXnopK1euJDc3lwkTJtCvXz8uvvhiunfvzowZMxgxYgR33333dtstKiri/vvvJyMjg3/961/86U9/4qGHHtpunbPPPpurr76aTZs20b59eyZMmMDee+/N1KlTueuuu3jppZe49dZbWbx4MQsWLGDx4sVcffXV/PjHP26Kw+bcrql0IWwqg94HQYST9fotlduuELYO61hcupHq8KetBH27dWBQrxyOGpLLoNwcBu2Ww165OXRpn163pCczWRQAgyUNBJYS9J98XtwyzwPnAo9I6klQ/LQAWA10k5RrZiuBYwj6ut7lbNq0ieHDh28dv+GGGzj77LOB4DmFd955B4D777+f1atX8+abbwJwyimn8J3vfIeLLrqIhx9+mB//+Mc8/3zQHfhnn33GlClTtrsaqTFgwACuuOIKcnJy+NnPfgbAQw89tN06a9eu5a233iIzM5MpU6Zw44038swzz+ywrU8//ZQ33niDdevWsffee/ODH/zAn6lwrVP5RnjkJFi7FLr0haGnwdBvQl4+JRvKt69LWBn8Xb5m252CbTPEwJ4dGdq7M6ce2HvrVcJeuTlkt93x/zgdJS1ZmFmlpCuByQT1EQ+b2WxJtwGFZjYxnDdW0hygCrjWzEoAJP0M+K+C661pBJ2lN1pjrwB2Vn3FUDVJo7bx999/n2effRaACy+8kOuuu27rvDPPPLPWRFGf2HXWrFnDRRddxOeff44kKioqal3npJNOol27drRr145evXrx1VdfkZeX16D9OtcivD8e1i6l6ICraLN8Br0/+CuZ79/HcnowqXIk/6k6lBk2iPZZbRnUK4fD9+yxNSEM6pVD/+4dyMzYtRvMSOpDeWY2CZgUN+2WmNcGXBMO8eu+BgxLZnyp1rFjx3rHY8WWUda3XJR93XzzzRx99NE899xzFBUVMWbMmFrXadeu3dbXGRkZVFZW1rqccy3aui/hnT/wv+zRnF1wKHAofdtfylldPuHr9gEXr5vCdzNfpipnD9oMPRXt9y3oOwza7NrJIV6LfoJ7VzZq1CieeOIJLrzwQh599FGOOOKIyOt26tSJtWvrrp9Zs2YNffr0AeCRRx7Z2VCda9neuB2rKufGjd/m7Py+XHf83vTIaQd8K5i/eS189goZc16AaY/Ah3+FnN1h6KlBUVW/w6DNrlHUVJ+WlfrSUE2dRc0Q9bbZe++9lwkTJjBs2DD++c9/8sc//jHyPk855RSee+45hg8fzttvv73D/Ouuu44bbriB0aNHU1VVVcsWnHMAfDUbZvyLr/a+kC+qduPYobuFiSJGdmcYdhac8yhc9wWc8RD0PQSm/wMeORF+vy/856ew8G2o3nX/3xSUBO368vPzLb7zo7lz57LvvvumKKLWwY+xa9H++S1YOp0HRzzLr1//khk3H0u3jlnR1t2yHj6fDLOfh89fg8pN0DEX9j0luOLoPxoyUl+4I2mamSW8Zz71kTrnXDr6fAp88Toc9xve/bSKwb1yoicKgHY5sP8ZwVC+AT5/NUgcHz0BhQ9Dh56w78lB4hhwZFokjvqkd3SuXhMmTNiheGr06NGMHz8+RRE510JUVcKrN0G3gVTlf4/CyVM5eVjvxm8vqyPs961gKN8I818LEsfHTwX1HO27b0scA4+CjPS7Rd2TxS7skksu4ZJLLkl1GM61PDP+ASvnwln/5LNVW1i3uZKRA7s1zbazOoTPaZwGFZtg/pQgcXzybFDP0b4b7HMSDP0W7Pm1tEkcniyccy7W5rXwxm+g3yjY9xQKP1gEQH7/7k2/r7btgzqMfU8JE8d/Yc4LMPsFmPEvyO4aJo5vwp5jILMBxWBNzJOFc87Fevce2LASzvs3SBQUlbF752zyurVP7n7btg+KovY9GSo2B/Ulc16AuS/CzEehXRfY58Qgcex1NGS2S7zNJuTJwjnnaqwpDp7WPuBM6HMwAIVFpeQP6Na8jfe1zQ4Swz4nQuUW+OINmPM8fDoJPno8SBx7nxAUZe11TLB8knmycM65Gv+9Dczg60FDE0tXb2LZms18f0ASiqCiymwHex8fDJXlsGBqmDhego+fgKxOcMC34ZR7khtGUrfudqn+LCBotfa9997jvPPi23x0roVbOh0+/jcc8RPoGvSPU1hUCkD+gCaq3N5ZmVkwZGwwVN4DC9+COc+Bkv98tSeLJEu3/iwSKSoq4rHHHvNk4VoXs+BW2Q494YhtTdV9uLCUTu0y2Wf3zikMrg6ZWTD4G8HQHLtrlr2kg5fHwZezmnabux8AJ9zRqFWbsz+LffbZhyuuuILFixcDcM899zB69GjefPNNrrrqKiBoqPCtt95i3LhxzJ07l+HDh3PRRRfxk5/8ZOeOkXO7gk9fgkXvwkm/D5rvCBUWlTGifzcy2nh/860nWaRIOvRncd555/GTn/yEI444gsWLF3Pccccxd+5c7rrrLsaPH8/o0aNZv3492dnZ3HHHHVs7QHKuVagsh9dugdx9YMRFWyev2VjBvK/WccqBe6QwuPTRepJFI68AdlY69GcxZcoU5syZs3V87dq1rFu3jtGjR3PNNddw/vnnc/rpp3tfFa51KnwIShfAeU9t1+TGtMU19RUprNxOI60nWaSh5urPorq6mvfff5/27be/T3zcuHGcdNJJTJo0icMOO4wpU6Y0aLvO7fI2lcGb/y944G3wsdvNKigqo22GODCva0pCSzdJrUKXdLykeZLmS6r1FiBJZ0maI2m2pMdipldJmhkOE5MZZzqq6c8CaFR/FuvWrds6PnbsWO67776t4zVXOl988QUHHHAA119/Pfn5+Xz66ac7rOtci/bWXbBpNYz99Q79ahcWlbJ/ny60z9r1+6JoCklLFpIygPHACcBQ4FxJQ+OWGQzcAIw2s/2Aq2NmbzKz4eFwarLiTLZ06M/i3nvvpbCwkGHDhjF06FDuv/9+IKjo3n///TnwwANp3749J5xwAsOGDSMzM5MDDzyQP/zhD416z87tEkoXwP/+CgedH9ysEmNzRRUfLVnDIV4EtVXS+rOQdDhwq5kdF47fAGBmv41Z5k7gMzN7sJb115tZTtT9eX8WqeHH2O2ynvxO0Az5j6ZB5+0rsQuKSjnz/vd54MKDGbvf7ikKsHlE7c8imcVQfYAlMePF4bRYQ4Ahkt6V9IGk42PmZUsqDKd/M4lxOudam0XvB+0ujb5qh0QBQbIAr9yOlcwK7tpuTI6/jMkEBgNjgDzgbUn7m9lqoJ+ZLZO0J/C6pFlm9sV2O5AuBy4H6NevX1PHn/a8PwvnGqG6Gl79OXTaA0ZdWesihUVlDOqVQ/eGdHbUwiUzWRQDfWPG84BltSzzgZlVAAslzSNIHgVmtgzAzBZImgocBGyXLMzsAeABCIqhagvCzJq3AbBmlOr+LFpKl7yulZn9LCydBqf9OeiUKE51tVFYVMpJw/z5iljJLIYqAAZLGigpCzgHiL+r6XngaABJPQmKpRZI6iapXcz00cAcGig7O5uSkhI/qSWBmVFSUkJ2dvJbu3SuyVRshim/DCq0Dzy31kU+X7GetZsrk9N/xS4saVcWZlYp6UpgMpABPGxmsyXdBhSa2cRw3lhJc4Aq4FozK5E0CvirpGqChHaHmTU4WeTl5VFcXMzKlSub7H25bbKzs/1BPrdr+d9fYM1iOG0itKn9t3JNfYXfCbW9hMkivKvpAuBIYA9gE/AJ8B/gX2a2pq51zWwSMClu2i0xrw24Jhxil3kP2P5etkZo27YtAwcO3NnNOOdagvUr4e3fw5ATgu5K61BYVEqvTu3o2z3JnR3tYuothpL0MvA9giuA4wmSxVDgJiAbeEHSLvsMhHOuFZn6WyjfAMfeVu9iBUVlHDKge4ut62ysRFcWF5rZqrhp64Hp4XB3WKfgnHPpa+U8mPYI5F8KuUPqXGzp6k0sXb2J7x3pJRLx6r2yiE0UkvpL+kb4ur2kTvHLOOdcWnr15uDOpzH1t6BQ6PUVdYp0N5Sky4Cngb+Gk/II7mRyzrn0tmAqfD4ZjvwpdKy/IKSwqIycdpnss3un5oltFxL11tn/I7h9dS2AmX0O9EpWUM451ySqq2DyTdClHxx6RcLFC4pKOahfVzIzkt9N6a4m6hHZYmblNSOSMtnxaWznnEsvHz0OX82CY2+FtvU/E7RmU9DZkRdB1S5qsnhT0o1Ae0nHAk8BLyYvLOec20nlG+C/v4K8Q2C/0xMuPn1xGWaQP6BbMwS364maLMYBK4FZwPeBSWb286RF5ZxzO+vde2H9lzD29h36qqhNwcJSMtuI4X29s6PaRH2C+0dm9kfgbzUTJF0VTnPOufSydjm8dy8M/Sb0OzTSKoVFZezXpwsdsrwD0dpEvbK4qJZpFzdhHM4513Re/zVUV8I3bo20+JbKKmYWr2akF0HVqd4UKulc4DxgYFzXpp2AkmQG5pxzjbL8Y5j5KBz+f9A92sN1nyxdQ3lltfdfUY9E11vvAcuBnsDdMdPXAR8nKyjnnGsUM3j1JmjfDY66NvJqBUVlAOT39yuLutSbLMxsEbAIOLx5wnHOuZ3w+auw8E044U5oH72iurColD1zO9Ijp10Sg9u1RX2C+zBJBZLWSyqXVCVpbbKDc865yKoqgquKHoOCNqAiqq62oPFA77+iXlGr/e8j6LzoKSAf+A4wKFlBOedcg017BFZ9Buc8BhltI682f+V61myq8OcrEoh8j5iZzZeUYWZVwARJ7yUxLueci27zmqAJ8v5HwN4nNmhV7+womqjJYmPYNepMSXcSVHrv2Hmtc86lwtu/h40lcNyvIz2AF6uwqIzcTu3o36NDkoJrGaI+Z3FhuOyVwAagL3BGopUkHS9pnqT5kmptG1jSWZLmSJot6bG4eZ0lLZV0X8Q4nXOtTdki+OAvQZ/avQ9q8OoFRaUcMqCbd3aUQJRuVTOA283sAmAz8MsoGw7XGw8cCxQDBZImxvalLWkwcAMw2szKJMW3ZPsr4M1I78Q51zr99zZQGzjm5gavunzNJorLNnHpaO/sKJGEVxZhHUVuWAzVECOB+Wa2IGyx9gngtLhlLgPGm1lZuK8VNTMkHQzsBrzawP0651qL4kL45GkYdSV06dPg1QvD5yu8viKxqHUWRcC74VPcG2ommtnv61mnD7AkZrwYiG+kZQiApHeBDOBWM3tFUhuChwAvBL5e1w4kXQ5cDtCvX7+Ib8U51yKYweQboWMvGH1VozZRUFRKh6wM9t3DOztKJGqyWBYObQia+oiitgLA+D4wMoHBwBiC3vfelrQ/cAFBy7ZL6itHNLMHgAcA8vPzvX8N51qTOS/Akv/BKX+Edo072RcUlTGiXzfv7CiCSMnCzCLVU8QpJqgIr5FHkHDil/nAzCqAhZLmESSPw4EjJf0QyAGyJK03s/o70HXOtQ6VW2DKL6DXUDjowkZtYu3mCj79ci1XfX1wEwfXMiUznRYAgyUNDOs7zgEmxi3zPHA0gKSeBMVSC8zsfDPrZ2YDgJ8B//BE4Zzb6sO/QVkRjP01tMlo1CamLwo6Oxrp9RWRJC1ZmFklwa22k4G5wJNmNlvSbZJODRebDJRImgO8AVxrZt6arXOubhtL4a07YdA3YFCdVZoJFRaVkdFGDO/nnR1FkdRePsxsEjApbtotMa8NuCYc6trGI8AjyYnQObfLefNO2LIuuKrYCQVFpezfu7N3dhRRpKMkKZfgNtcBseuYWfTWupxzbmetmg8Ff4MR34Fe+zZ6M+WV1cxcspoLDuvfhMG1bFFT6gvA28AUoCp54TjnXD2m/AIys+Hon+/UZmYtXcOWymoO8cYDI4uaLDqY2fVJjcQ55+pT9A58+hIccxPkxDf20DCFYeOBB3uz5JFFreB+SVLDmnJ0zrmmUl0Nk38OnfPg8Ct3enMFRWUM7NmR3E7e2VFUUZPFVQQJY7OkdeHgnR8555rHrKdg+Uz4+i3Qtv1Obaq62pi2qNS7UG2gqA/l+bPwzrUkleWwqRTadYasNG+au2JT0Fhg74PggDN3enMLVq2nbGMFhwz0IqiGiHzPWPhsxFHh6FQzeyk5ITnnGsQsuJV046rgGYQNq8LXJeHr0mB8QzhtYwlsCQsGlBHcVdT7oGDoMwJ67QeZDW03NIneHw9ri+H0B6DNzj8aVuCNBzZK1Ftn7wAOAR4NJ10l6Qh/qtq5JKiqDH71bz2515z4S2pPAhtLoKq89m1ltIOOPaFDd+jQE7oNCMd7BNPWfQlLpwcVxzP+Ga6TBbvtHySO3gdB7xGQu3ejn5TeKetXwDt/gH1OhgGjm2STBUWl9MzJYoB3dtQxSck7AAAgAElEQVQgUa8sTgSGm1k1gKS/AzMATxaueZmBVUN1VfB36xCOp6Otv/xLYk709SSBzavr3lZ2l/BE3xO69oXeBwavO/QIk0DN6x7B36ycaD3HmcHqRUHiWDYjGD76NxQ8GMxv2wH2ODBIHDVJpPueDe6VrsHeuB0qN8M3GtM8Xe0KikrJ79/dOztqoIY8utgVKA1fd0lCLKmxaTU8dXGqo9jF2LaTduyw3Qm8KsGJvZHzWpI2mduf3Hc/IBjf+su/R1wS6A4ZbZMTixRcdXQbAPufHkyrroaS+bBs+rYkUvgQfDA+mJ/dZVvxVU0S6dyn6RLIV3Ng+j9g5Peh56Am2eSXazazpHQTFx0+oEm215pETRa/BWZIeoOg6fGjCHq4awEMyjckXsxtT22CoU1GMNSMK2P7eVIj57WJmV/XvNj9ttk2PR1l5eyYBLK7pG+8ENQP5A4JhgPPCaZVVcCKueHVR5hA3vsTVFcG8zvmbn/10XsE5OQ2bv+v3Rw0Pf6165rm/QCFi4Lfu15f0XBR74Z6XNJUgnoLAdeb2ZfJDKzZtO8G33st1VE4t2vIaAt7DAuGgy8KplVshq8+CRLH0ulBEvn8VbZ2X9M5D/qEiaPmSqR9gsb75v8X5k+BsbcHV1RNpLCojPZtMxjau3OTbbO1qDdZSNrHzD6VNCKcVBz+7S2pt5lNT254zrm01zYb8vKDocaW9bD8o21XIEunw9wXt83vvte2u696jwiST1bHYF51Fbx6c1AkNvKyJg21oKiUEf270tY7O2qwRFcW1xB0W3p3LfMMOKbJI3LO7fra5QR3L8XewbSxNHiwrqb+Y/H7Qf/ZEBQh5u4TJI42GbBiNpz5d8hsuies122uYO7ytfzoGO/sqDHqTRZmdnn48gQz2xw7T1J20qJyzrU8HbrDXscEQ411X21f//HZK8GdYf1GwdDTmnT3Mxavptq8vqKxolZwvweMiDDNOeei67Qb7H18MEBwJ9zapZDdtckr/wuKSr2zo51Qb8GdpN0lHQy0l3SQpBHhMAZI+ESLpOMlzZM0X1Ktz2RIOkvSHEmzJT0WTusvaZqkmeH0Kxrx3pxzuxoJuuQFxVhNrKColKF7dCannXd21BiJjtpxwMVAHvD7mOnrgBvrW1FSBjAeOJagYrxA0kQzmxOzzGCCW3BHm1mZpJp2h5cDo8xsi6Qc4JNw3WXR35pzzgVqOjs6d2S/VIeyy0pUZ/F34O+SzjCzZxq47ZHAfDNbACDpCeA0YE7MMpcB482sLNzfivBvbNsF7UhiX+HOuZZv9rI1bK6o9vqKnRD1OYtnJJ0E7Adkx0y/rZ7V+gBLYsaLgUPjlhkCIOldIAO41cxeCaf1Bf4DDAKu9asK51xjFYaNB+Z7z3iNFukXu6T7gbOBHxE8lHcmkKjz2tpqpyxuPBMYDIwBzgUelNQVwMyWmNkwgmRxkaTdaonrckmFkgpXrlwZ5a0451qhgqJSBvToQK9OfhNnY0Ut3hllZt8Byszsl8DhQN8E6xTHLZMHxF8dFAMvmFmFmS0E5hEkj63CK4rZwJHxOzCzB8ws38zyc3Mb2aSAc65FMzMKF5WR70VQOyVqstgU/t0oqTdQAQxMsE4BMFjSQElZwDnAxLhlngeOBpDUk6BYaoGkPEntw+ndgNEEicQ55xrki5UbKN1QziFeBLVTot5D9lJYPPQ7YDpBcdKD9a1gZpWSrgQmE9RHPGxmsyXdBhSa2cRw3lhJc4AqgrqJEknHAndLMoLirLvMbFZj3qBzrnUrLAoaD/Qri50js/hqhAQrSO2AbDNbk5yQGic/P98KCwtTHYZzLs389MmPeGPeCqbd9A3vw6IWkqaZWX6i5aJWcP9fTMXzFqCNpB/uZIzOOZd0hYtKye/fzRPFTopaZ3GZmW3tvit8LqJpm4N0zrkmtmLtZhaVbGTkQC+C2llRk0UbxaTl8OnsNOrR3TnndlS4qOb5Ck8WOytqBfdk4MnweQsDrgBeSVpUzjnXBAqKSslu24b9vLOjnRY1WVwPfB/4AcHdSa+S4G4o55xLtYKiUg7q2807O2oCUZv7qAb+Eg7OOZf21m+pZM6ytVx59KBUh9IiJOpW9UkzO0vSLHZsqoOwOQ7nnEs7MxaXUW1eX9FUEl1ZXB3+PTnZgTjnXFMqKCqjjeAg7+yoSSRKFi8R9Ib3azO7sBnicc65JlFYVMq+e3SmU3bbVIfSIiRKFlmSLgJGSTo9fqaZPZucsJxzrvEqqqqZsXg1Zx+SqL1TF1WiZHEFcD7QFTglbp4Bniycc2lnzrK1bKqo8s6OmlCinvLeAd6RVGhmDzVTTM45t1MKtjYe6C3NNpVEd0MdY2avA2VeDOWc21UUFJXSr3sHduvsnR01lUTFUF8DXmfHIijwYijnXBoyMwqLyvja3t4hWlNKVAz1i/DvJc0TjnPO7ZyFqzZQsqHc6yuaWNQmyq+S1FmBByVNlzQ22cE551xDFRYFjQd6z3hNK2qDKZea2VpgLNALuAS4I2lROedcIxUUldKtQ1v2ys1JdSgtStRkUdM8+YnABDP7KGZa3StJx0uaJ2m+pHF1LHOWpDmSZkt6LJw2XNL74bSPJZ0dMU7nXCtXuKiM/AHdvbOjJha11dlpkl4FBgI3SOoEVNe3QtjnxXjgWKAYKJA00czmxCwzGLgBGG1mZZJ6hbM2At8xs88l9Q73Pzm2AybnnIu3Yt1mFq7awLkj/WG8phY1WXwXGA4sMLONkroTFEXVZyQw38wWAEh6AjgNmBOzzGXA+LDnPcxsRfj3s5oFzGyZpBVALuDJwjlXp2lF3tlRskQthjocmGdmqyVdANwErEmwTh9gScx4cTgt1hBgiKR3JX0g6fj4jUgaSdAr3xe1zLtcUqGkwpUrV0Z8K865lqqgqIx2mW3Yv3eXVIfS4kRNFn8BNko6ELgOWAT8I8E6tRUYxjdzngkMBsYA5wIPStraRKSkPYB/ApeEfWpsvzGzB8ws38zyc3P9nmrnWrvCRaUM79uVrEzv7KipRT2ilWZmBMVIfzSzPwKdEqxTDMQWHOYBy2pZ5gUzqzCzhcA8guSBpM7Af4CbzOyDiHE651qpDVsqmb1srT9fkSRRk8U6STcAFwD/CSuvE7X7WwAMljRQUhZwDjAxbpnngaMBJPUkKJZaEC7/HPAPM3sqYozOuVZs5pLVVFUbhwz0ZJEMUZPF2cAW4Ltm9iVB3cPv6lvBzCqBK4HJwFzgSTObLek2SaeGi00GSiTNAd4ArjWzEuAs4CjgYkkzw2F4Q9+cc671KCgqpY1ghHd2lBQKSpd2ffn5+VZYWJjqMJxzKXL+gx9QtqGCSVcdmepQdimSpplZfqLlojb3cZikAknrJZVLqpKU6G4o55xrFjWdHXkTH8kTtRjqPoK7lT4H2gPfI3jgzjnnUm7u8rVsLK/y5yuSKOpDeZjZfEkZZlYFTJD0XhLjcs65yAq2PoznVxbJEjVZbAzvUJop6U5gOdAxeWE551x0hUWl5HVrzx5d2qc6lBYrajHUhUAGwd1NGwienzgjWUE551xUZkZBURkjvQgqqSJdWZjZovDlJuCXyQvHOecaZlHJRlat3+L1FUmWqA/uWezYRMdWZjasySNyzrkG+LCoFPDOjpIt0ZXFyc0ShXPONVJhUSldvbOjpEvUB/ciAEkDgeVmtjkcbw/slvzwnHOufoVFZeT370abNt7ZUTJFreB+iu07O6oKpznnXMqsWr+FBas2eH1FM4iaLDLNrLxmJHydlZyQnHMumsLw+Qqvr0i+qMliZUzjf0g6DViVnJCccy6awqLSoLOjPt7ZUbJFfSjvCuBRSfcRdGq0BPhO0qJyzrkIChaVcWDfrrTLzEh1KC1e1OcsvgAOk5RD0FLtuuSG5Zxz9dtYXsnspWv4/tf2THUorULUVmevCnuu2wD8QdJ0SWOTG5pzztVt5uLVVFabV243k6h1Fpea2VpgLNALuAS4I2lROedcAgVFZUgwop9XbjeHqMmi5gbmE4EJZvZRzLS6V5KOlzRP0nxJ4+pY5ixJcyTNlvRYzPRXJK2W9FLEGJ1zrUjholL23q0TXdon6uHZNYWoyWKapFcJksVkSZ3Y/rmLHYT9dI8HTgCGAudKGhq3zGDgBmC0me0HXB0z+3cEDRg659x2Kquqmb6ojEO8CKrZRE0W3wXGAYeY2UaCZywuSbDOSGC+mS0In8t4AjgtbpnLgPFmVgZgZitqZpjZfwGvSHfO7eDTL9exobzK+69oRvUmC0n7hC+Hh3/3lDQC6E/iO6n6ENxiW6M4nBZrCDBE0ruSPpB0fLSwnXOtWUHYeODIgX5l0VwSnfCvAS4H7q5lngHH1LNubXUa8S3YZgKDgTFAHvC2pP3NbHWCuIIdSJeH8dGvX78oqzjnWoCColL6dPXOjppTooYELw//Ht2IbRcTdJJUIw9YVssyH5hZBbBQ0jyC5FEQZQdm9gDwAEB+fn6dTak751qOms6ORu/VI9WhtCqRHsoLK6tPAgbErmNmv69ntQJgcNhi7VLgHOC8uGWeB84FHpHUk6BYakHU4J1zrc/i0o2sXOedHTW3qM19vAhsBmaR4C6oGmZWKelKYDJBl6wPm9lsSbcBhWY2MZw3VtIcgpZsrzWzEgBJbwP7ADmSioHvmtnkBrw351wLVLC18UBPFs0parLIa0yveGY2CZgUN+2WmNdGUC9yTS3rHtnQ/TnnWr7ColI6Z2cyuJd3dtScot46+7I37+GcSwcFRaXkD+junR01s6jJ4gPgOUmbJK2VtE7S2mQG5pxz8UrWb+GLlRu8CCoFohZD3Q0cDswKi46cc67ZFS7yzo5SJeqVxefAJ54onHOpVFhUSlZmGw7I886OmlvUK4vlwFRJLwNbaiYmuHXWOeeaVEFRGQfmdfHOjlIg6pXFQuC/BG1CdYoZnHOuWWwqr+KTpWv8+YoUidpT3i+THYhzztVn5pKgsyOvr0iNRA0JPiDpgDrmdZR0qaTzkxOac85tU1hUigQH9/Mri1RIdGXxZ+DmMGF8AqwEsgnab+oMPAw8mtQInXMOKFhUFnR21ME7O0qFRA0JzgTOkpQD5AN7AJuAuWY2rxnic845qqqN6YvK+OZBvVMdSqsVtc5iPTA1uaE451zt5i5fy/otlf4wXgpFvRvKOedSpjDs7MjvhEodTxbOubRXsKiM3l2y6dPVOztKlYTJQlKGpN81RzDOORfPzCgMGw90qZMwWZhZFXCwJG/i0TnX7IrLNvHV2i3+fEWKRW3uYwbwgqSngA01E83s2aRE5ZxzoYKwvuKQgX5lkUpRk0V3oAQ4JmaaAZ4snHNJVVBUSqfsTIb08haGUinqrbOXNGbjko4H/kjQreqDZnZHLcucBdxKkHw+MrPzwukXATeFi/3azP7emBicc7u2gqIy8vt3886OUizS3VCS8iQ9J2mFpK8kPSMpL8E6GcB44ARgKHCupKFxywwGbgBGm9l+wNXh9O7AL4BDgZHALyR5gaVzrUzphnLmr1jvldtpIOqtsxOAiUBvoA/wYjitPiOB+Wa2wMzKgSeA0+KWuQwYb2ZlAGa2Ipx+HPCamZWG814Djo8Yq3OuhZi2tbMjTxapFjVZ5JrZBDOrDIdHgNwE6/QBlsSMF4fTYg0Bhkh6V9IHYbFV1HWRdLmkQkmFK1eujPhWnHO7isKiUrIy2jDMOztKuajJYpWkC8JnLjIkXUBQ4V2f2goY43vayyRolHAMcC7woKSuEdfFzB4ws3wzy8/NTZS7nHO7moKiUg7I60J2W+/sKNWiJotLgbOALwl6zft2OK0+xUDfmPE8YFkty7xgZhVmthCYR5A8oqzrnGvBNldUMWvpGvL9+Yq0EOkJbuAMMzvVzHLNrJeZfdPMFiVYtQAYLGmgpCzgHIJ6j1jPA0eH++lJUCy1AJgMjJXULazYHhtOc861EjOXrKaiyhjp9RVpIeoT3PEV0wmZWSVwJcFJfi7wpJnNlnSbpFPDxSYDJZLmAG8A15pZiZmVAr8iSDgFwG3hNOdcK1HTeODB/f3KIh1EfSjvXUn3Af9m+ye4p9e3kplNAibFTbsl5rUB14RD/LoPE3Su5JxrhQqKyhiyWw5dO2SlOhRH9GQxKvx7W8w0Y/snup1zrknUdHZ0ynDv7ChdJEwWktoAfzGzJ5shHuecY96X61i3pdIbD0wjUeosqgnqHpxzrlkULgo7O+rvldvpIuqts69J+pmkvpK61wxJjcw512oVFJWxe+ds8rp5Z0fpImqdRc0zFf8XM82APZs2HOdca2dmFCws5ZCB3fFudNJH1FZnByY7EOecg6Czoy/Xbvb6ijRTbzGUpOtiXp8ZN+83yQrKOdd6eX1FekpUZ3FOzOsb4uZ5K7DOuSZXUFRGp3aZ7L27d3aUThIlC9XxurZx55xrtOpq45F3F/Ls9GIO3bM7Gd7ZUVpJVGdhdbyubdw55xplcclGrn36I/63sJSvDcnl9m8dkOqQXJxEyeJASWsJriLah68Jx7OTGplzrsWrrjYe/XAxv500lzYSd54xjDPz8/wuqDRUb7IwM29E3jmXFEtKN3L9Mx/z3hclHDm4J3ecMYw+Xf25inQV9TkL55xrEmbGYx8u5jf/mQvAb751AOeO7OtXE2nOk4VzrtksXb2Jcc98zNufr2LUXj2489vDyOvWIdVhuQg8WTjnks7MeLJwCb96aS7VZvzqm/tz/sh+tPE7nnYZniycc0m1fM0mxj0zizc/W8lhe3bnd98+kL7d/WpiVxO1IcFGkXS8pHmS5ksaV8v8iyWtlDQzHL4XM+//SfokHM5OZpzOuaZnZjxVuISxf3iLDxeW8stT9+Ox7x3miWIXlbQri7Dv7vHAsUAxUCBpopnNiVv032Z2Zdy6JwEjgOFAO+BNSS+b2Vqcc2nvq7WbueHZWbz+6QpGDujO784cRv8eHVMdltsJySyGGgnMN7MFAJKeIOjLOz5Z1GYo8GbYj3elpI8ImhfxDpicS2NmxnMzlnLrxNmUV1Vzy8lDuXjUAK+baAGSWQzVB1gSM14cTot3hqSPJT0tqW847SPgBEkdJPUEjgb61rKucy5NrFi7mcv+Ucg1T37EkN068fJVR3HpEQM9UbQQybyyqO0bEt9EyIvA42a2RdIVwN+BY8zsVUmHAO8BK4H3gcoddiBdDlwO0K9fv6aM3TkXkZkx8aNl3PLCbDZXVHHTSftyyeiB3rZTC5PMK4titr8ayAOWxS5gZiVmtiUc/RtwcMy8281suJkdS5B4Po/fgZk9YGb5Zpafm5vb5G/AOVe/leu2cMW/pnHVEzPZM7cjk646ku8duacnihYomVcWBcBgSQOBpQTNnZ8Xu4CkPcxseTh6KjA3nJ4BdDWzEknDgGHAq0mM1TnXAGbGSx8v55YXPmFDeRU3nLCPJ4kWLmnJwswqJV0JTAYygIfNbLak24BCM5sI/FjSqQRFTKXAxeHqbYG3w8f/1wIXhJXdzrkUK1m/hZtf+IRJs77kwL5dufvMYQzq5X1PtHQyaxktjefn51thYWGqw3CuRZs0azk3P/8J6zZXcvWxg7n8yD3JzEjq41ouySRNM7P8RMv5E9zOuYRKN5Rzywuf8NLHyzmgTxfuOvNA78mulfFk4Zyr1yuffMlNz89izaYKfjZ2CN//2l609auJVseThXOuVmUbyrn1xdm8MHMZ+/XuzD+/eyj77tE51WG5FPFk4ZzbwWtzvuLG52ZRtqGcn3xjCD882q8mWjtPFs65rdZsrOCXL87m2RlL2Wf3TjxyySHs17tLqsNyacCThXMOgNc//Ypxz8yiZEM5P/76YK48ehBZmX414QKeLJxr5dZsquBXL83h6WnF7LN7Jx6++BD27+NXE257niyca8WmzlvBuGdmsXL9Fq48ehA/+vog2mVmpDosl4Y8WTjXApkZG8urKN1QvsNQsqGcsg3lLF29iXfmr2Jwrxz+euHBHNi3a6rDdmnMk4Vzu4CqamP1xnLKNpZTsj78u6Gc0vXllG7cMSGUbihnS2V1rdtqmyG6dciie8csrjx6EFceM4jstn414ernycK5FNhcseOv/ppf/CUbyindsIWyDRWUbNhC2cYKyjaWU1fLPJ3aZdKtY3Dy361zNvvu0ZkeHbO2TuveIYvuOdv+dmqXSdjumnORebJwrV51tVFeVR0MlcFQEb7eUrn99K3zqsJ5NUNV/eut3VyxXWLYWF5VaywZbUS3Dm2Dk3zHLPbevdO2E37HLLrntNv2umMW3Tq29ToG1yxafbJYt7mCX7wwO9VhuCZgsPVkXV617cRd28l7++WarjHNNoKszDZkZbQhKzODrAyRldmGzu3b0q1DFoNyc8KTfNbWX/89Om47+XfObus9y7m01OqTRWWVUbCoNNVhuCbStk2b4GSd2Ya2GcFJu0OHzK3T2mXEzd96Ym9Du8ztx2OXiV1vu2Uytp/mLbC6lqrVJ4tuHbN4+7pjUh2Gc86lNf8Z5JxzLiFPFs455xJKarKQdLykeZLmSxpXy/yLJa2UNDMcvhcz705JsyXNlXSv/F4/55xLmaTVWUjKAMYDxwLFQIGkiWY2J27Rf5vZlXHrjgJGA8PCSe8AXwOmJite55xzdUvmlcVIYL6ZLTCzcuAJ4LSI6xqQDWQB7YC2wFdJidI551xCyUwWfYAlMePF4bR4Z0j6WNLTkvoCmNn7wBvA8nCYbGZz41eUdLmkQkmFK1eubPp34JxzDkhusqitjiH+6acXgQFmNgyYAvwdQNIgYF8gjyDBHCPpqB02ZvaAmeWbWX5ubm6TBu+cc26bZCaLYqBvzHgesCx2ATMrMbMt4ejfgIPD198CPjCz9Wa2HngZOCyJsTrnnKtHMh/KKwAGSxoILAXOAc6LXUDSHma2PBw9FagpaloMXCbptwRXKF8D7qlvZ9OmTVslaTWwJpzUJcHr+L89gVUR31vs9qLMSxSLx+Vxtaa46ounueOqK87WFFf/SGuZWdIG4ETgM+AL4OfhtNuAU8PXvwVmAx8R1FHsE07PAP5KkDzmAL+PuL8Hor6u5W9hA97XAw2Z53F5XB7X9vPriadZ42rAcWoVcdU3JLW5DzObBEyKm3ZLzOsbgBtqWa8K+H4jdvliA17H/23sfqLM87g8Lo+r9nmpjit+vLXHVSeFmabVk1RoZvmpjiOex9UwHlfDeFwN05rj8uY+tnkg1QHUweNqGI+rYTyuhmm1cfmVhXPOuYT8ysI551xCniycc84l5MnCOedcQp4sEpDUT9JESQ/X1sx6qkg6UtL9kh6U9F6q46khqY2k2yX9SdJFqY4nlqQxkt4Oj9uYVMdTQ1JHSdMknZzqWGJJ2jc8Vk9L+kGq46kh6ZuS/ibpBUljUx1PDUl7SnpI0tNpEEtHSX8Pj9P5TbHNFp0swhP8CkmfxE2vt5+NOEOA/5jZpcDQdInLzN42syuAlwjb1EqHuAhaFu4DVBA0+dIkmig2A9YTtGi807E1UUwA1wNP7mw8TR2bmc0Nv2NnAU1yW2YTxfW8mV0GXAycnUZxLTCz7zZFPE0Q4+nA0+FxOrVJAmjMk3y7ygAcBYwAPomZlkHwRPmeBE2gf0SQBA4gOPHGDr2AHgRPl78OXJIuccWs9yTQOV3iAsYB3w/XfTrNPss24Xq7AY+mSUzfIGgK52Lg5HQ6XuE6pwLvAeelU1zhencDI9Iwrib73u9EjDcAw8NlHmuK/Sf1Ce5UM7O3JA2Im7y1nw0ASU8Ap5nZb4EdigEk/Qz4Rbitp4EJ6RBXuEw/YI2Zrd3ZmJoqLknFQHk4WtUUcTVVbDHKCPpJSXlMko4GOhL8g2+SNMnMqtMhtnA7E4GJkv4DPJYOcUkScAfwsplN39mYmiquZGtIjARXznnATJqoBKlFJ4s61NbPxqH1LP8KcKuk84CiNIoL4Ls0QfJKoKFxPQv8SdKRwFvJDIwGxibpdOA4oCtwXzrEZGY/D2O7GFjVFImiqWIL63VOJ0isk+parrnjAn5EcEXWRdIgM7s/HeKS1AO4HThI0g1hUkm2umK8F7hP0kk0snmPeK0xWUTpZ2PbDLNPgG8nL5ytGhQXgJn9IkmxxGro8dpIkMSaQ0Nje5YgmSVTgz9HADN7pOlD2UFDj9dUmqcr44bGdS/ByTDZGhpXCXBF8sKpVa0xmtkG4JKm3FGLruCuQ8J+NlLE42q4dIwtHWOqka6xeVyN12wxtsZksbWfDUlZBJWLE1McE3hcjZGOsaVjTDXSNTaPq/GaL8Zk1NqnywA8TtCHd81tnN8Np+/Qz4bHlb5xpWts6RhTusfmce26MXpDgs455xJqjcVQzjnnGsiThXPOuYQ8WTjnnEvIk4VzzrmEPFk455xLyJOFc865hDxZuGYnaXdJT0j6QtIcSZMkDUl1XKkkqb2kNyVlSBoQtkWWaJ0xkl5qjviikpQl6S1JrbEpoRbNk4VrVmGLoc8BU81sLzMbCtxI0Gx4c8eS0dz7rMelwLNmVgUMABImi4ZqjhO4mZUD/6WJ+plw6cOThWtuRwMVFtNSqJnNNLO3FfidpE8kzZJ0Nmz9BT1VQY9tn0p6NFz2BElbOw0Kl3sxfD1W0vuSpkt6SlJOOL1I0i2S3gHOlHSIpI/DZX9X07FM+Av/d5IKwvnfry+WcN4hkt6T9JGkDyV1qms7tTgfeCF8fQdwpKSZkn4iKVvShPCYzFDQrPl2FPSM9nC4nxmSTgunXxy+/xeBVyXlSPpveFxmxSw3QNJcBT2rzZb0qqT24bxBkqaE72u6pL3C6dfGvK9fxoTzfPh+XEuSysfXfWh9A/Bj4A91zDsDeI2gQ5fdgMXAHsAYYA1BI2ltgPeBIwhaTV4MdAzX/wtwAdCToHn0munXA7eEr4uA62L2+QkwKnx9B2HHMsDlwE3h63ZAITCwnliygAXAIYfE/vUAAAPESURBVOE6ncP4at1O3PvOAr6MGR8DvBQz/lNgQvh6n/A9Z8cuB/wGuCB83ZWg+YeOBJ0qFQPdw3mZ/7+9s3uxqozC+O9psLHJwaCMSrC5qOgqkJKCQvGigZAi6cK6EKLwIsKkLkLvAqH+gCBQui0xIrtMBSupLK20CWOCwAShD8E+psiv6elircNsT+ecbWAzTa4fbM7L/ljvejf77LXftTb7IcWy8jx9Q3y5dAw4z4xgzhsNe58Aa7O9EBgBxoHteewVhADQytxnCDg519daLZd2qbxi8V/iPmCHIxXzg6T3gRXAr8BB2ycAJB0Bxmx/IOkd4EGFMNUa4HlgFSEm9GE+9F9J3NQ77Ew71wCjtjsa5q8zI2ozDtwhqfN5+sXArYSw0998IQLId7YPATgFqRQa0b3sHGv4cx3wc8t5eTntTko6Tsj9NhkHHlKIdUHc1Jdle6/tU9kW8KKklcCfhB5CJwV4zPaRbH8GjEkaBZba3pX9n26Maxw4nPsvynHttz0t6aykUdtTA8ZVzCMqWBSzzVH664P0+jZ/hzON9jQz1+5O4GngFHDI9lSmhfbafqyPrd8voj8BG23vvmBlCAL18kX01jroaaeLP4ib+yBf2hDwiO2vu/y9m5nxQqSHlgB32j4n6dtG393jumpA3wJesr2tz/Zh4PRF+F3ME6pmUcw2+4BhSRs6KzLXv4pIHa3LPP8SQnP4YIu99whd4g3kjAH4GLhX0i1pf0Q93ray/RMwJemeXPVoY/Nu4ClJC9LGbZKuHuDHJHCTpBW5/2gWlFvtpB9Dkjo37SlgtLHLfrIGkONYBlwQFLKfjY36yfI+fi4GfsxAsRq4ecCYOjOkE5IeTrvDkkayvycataClkq7P9rVEGurcINvF/KKCRTGr2DawFrhf8ersUeAFQrBlFzBBiM7vI2oL37fYmyby5Q/kL7ZPErn6HZImiOBxex8TTwLbJR0gnpZ/yfWvAl8Bn2fRexsDZuKOt4DWEZKyXxC1l4X/wM4eIt1EnoPzWVB+FniFCCZfEgHxcdtnuo7fCiwAJrKfrX1cfQ24S9KnRACa7DemBuuBZ/JcfgTcYHsPkbY7kH69yUyAW82/K8NazAH1ifLiskbSItu/ZXszcKPtTXPgx3LgOdvrZ7vvS42kt4At3SmxYn5TNYvicmeNpC3Ef+E4MSOZdWwflvSupKGcLc1LFGptb1eg+P9RM4uiKIqilapZFEVRFK1UsCiKoihaqWBRFEVRtFLBoiiKomilgkVRFEXRSgWLoiiKopW/AN5v0TsK0Y//AAAAAElFTkSuQmCC\n",
      "text/plain": [
       "<matplotlib.figure.Figure at 0x20693fdf390>"
      ]
     },
     "metadata": {},
     "output_type": "display_data"
    },
    {
     "name": "stdout",
     "output_type": "stream",
     "text": [
<<<<<<< HEAD
      "Lowest average error is 0.6082 at 1e-06 using 50.0 percent for testing\n",
      "Lowest unweighted error is 0.6082 at 1e-06\n",
      "Lowest test error is 0.6320 at 0.01\n"
=======
      "Test error: 0.6849\n",
      "Training error: 0.6796\n"
>>>>>>> MajorityVote
     ]
    }
   ],
   "source": [
    "Xlr = X\n",
    "\n",
    "dummy = ['State','Type','Breed1','Breed2','Gender','Color1','Color2','Color3','Vaccinated','Dewormed','Sterilized']\n",
    "for d in dummy:\n",
    "    one_hot = pd.get_dummies(Xlr[d],prefix=d)\n",
    "    # Drop column d as it is now encoded\n",
    "    Xlr = Xlr.drop(d,axis = 1)\n",
    "    # Join the encoded df\n",
    "    Xlr = Xlr.join(one_hot)\n",
    "\n",
    "test_proportion = 0.5  # set crossval proportion\n",
    "Xlr_train, Xlr_test, ylr_train, ylr_test = model_selection.train_test_split(Xlr,y,test_size=test_proportion)\n",
    "\n",
    "#%%\n",
    "from sklearn.linear_model import LogisticRegression\n",
    "\n",
    "tol = [1,0.1,1e-2,1e-3,1e-4,1e-5,1e-6,1e-7,1e-8]\n",
    "error = np.zeros((2,len(tol)))\n",
    "for t in tol:\n",
    "    logreg = LogisticRegression(tol=t,)\n",
    "    logreg.fit(Xlr_train, ylr_train)\n",
    "    y_est_test = logreg.predict(Xlr_test)\n",
    "    y_est_train = logreg.predict(Xlr_train)\n",
    "    \n",
    "    test_class_error = 1-np.mean(y_est_test == ylr_test)\n",
    "    train_class_error = 1-np.mean(y_est_train == ylr_train)\n",
    "    error[0,int(-np.log10(t))], error[1,int(-np.log10(t))]= train_class_error, test_class_error\n",
    "\n",
    "plt.semilogx(tol, error[0,:])\n",
    "plt.semilogx(tol, error[1,:])\n",
    "plt.xlabel('Convergence (tolerance)')\n",
    "plt.ylabel('Error (misclassification rate)')\n",
    "plt.legend(['Error_train','Error_test']) \n",
    "plt.title('Cross validation over tolerance level in line search')\n",
    "plt.show()  \n",
    "\n",
    "\n",
    "errorSum = test_proportion*error[1,:] + (1-test_proportion)*error[0,:] # mean error\n",
    "error_equal = sum(error)\n",
    "print('Lowest average error is {:.4f} at {} using {} percent for testing'.format(min(errorSum), tol[np.argmin(errorSum)],test_proportion*100))\n",
    "print('Lowest unweighted error is {:.4f} at {}'.format(min(error_equal)/2,tol[np.argmin(error_equal)]))\n",
    "print('Lowest test error is {:.4f} at {}'.format(min(error[1,:]),tol[np.argmin(error[1,:])]))\n"
   ]
  },
  {
   "cell_type": "markdown",
   "metadata": {},
   "source": [
    "# K-Nearest Neighbors"
   ]
  },
  {
   "cell_type": "code",
<<<<<<< HEAD
   "execution_count": 104,
=======
   "execution_count": 42,
>>>>>>> MajorityVote
   "metadata": {},
   "outputs": [
    {
     "name": "stdout",
     "output_type": "stream",
     "text": [
<<<<<<< HEAD
      "Test error k =  2 : 0.7166\n",
      "Training error k =  2 : 0.3533\n",
      "Test error k =  3 : 0.6916\n",
      "Training error k =  3 : 0.4061\n",
      "Test error k =  4 : 0.6783\n",
      "Training error k =  4 : 0.4317\n",
      "Test error k =  5 : 0.6740\n",
      "Training error k =  5 : 0.4629\n",
      "Test error k =  6 : 0.6745\n",
      "Training error k =  6 : 0.4867\n",
      "Test error k =  7 : 0.6651\n",
      "Training error k =  7 : 0.4953\n",
      "Test error k =  8 : 0.6669\n",
      "Training error k =  8 : 0.5004\n",
      "Test error k =  9 : 0.6633\n",
      "Training error k =  9 : 0.5175\n",
      "Test error k =  10 : 0.6588\n",
      "Training error k =  10 : 0.5243\n",
      "Test error k =  11 : 0.6580\n",
      "Training error k =  11 : 0.5366\n",
      "Test error k =  12 : 0.6587\n",
      "Training error k =  12 : 0.5372\n",
      "Test error k =  13 : 0.6577\n",
      "Training error k =  13 : 0.5502\n",
      "Test error k =  14 : 0.6580\n",
      "Training error k =  14 : 0.5594\n",
      "Test error k =  15 : 0.6535\n",
      "Training error k =  15 : 0.5624\n",
      "Test error k =  16 : 0.6544\n",
      "Training error k =  16 : 0.5684\n",
      "Lowest average error is 0.6535 at 2 using 50.0 percent for testing\n",
      "Lowest unweighted error is 0.5349 at 2\n",
      "Lowest test error is 0.6535 at 13\n"
=======
      "Test error k =  2 : 0.7100\n",
      "Training error k =  2 : 0.3513\n",
      "Test error k =  3 : 0.6884\n",
      "Training error k =  3 : 0.3930\n",
      "Test error k =  4 : 0.6879\n",
      "Training error k =  4 : 0.4325\n",
      "Test error k =  5 : 0.6755\n",
      "Training error k =  5 : 0.4586\n",
      "Test error k =  6 : 0.6741\n",
      "Training error k =  6 : 0.4848\n",
      "Test error k =  7 : 0.6705\n",
      "Training error k =  7 : 0.4957\n",
      "Test error k =  8 : 0.6780\n",
      "Training error k =  8 : 0.5013\n",
      "Test error k =  9 : 0.6705\n",
      "Training error k =  9 : 0.5147\n",
      "Test error k =  10 : 0.6680\n",
      "Training error k =  10 : 0.5279\n",
      "Test error k =  11 : 0.6688\n",
      "Training error k =  11 : 0.5348\n",
      "Test error k =  12 : 0.6656\n",
      "Training error k =  12 : 0.5390\n",
      "Test error k =  13 : 0.6644\n",
      "Training error k =  13 : 0.5423\n",
      "Test error k =  14 : 0.6643\n",
      "Training error k =  14 : 0.5484\n",
      "Test error k =  15 : 0.6608\n",
      "Training error k =  15 : 0.5502\n",
      "Test error k =  16 : 0.6625\n",
      "Training error k =  16 : 0.5544\n",
      "Lowest average error is 0.6608 at 2 using 50.0 percent for testing\n",
      "Lowest unweighted error is 0.5306 at 2\n",
      "Lowest test error is 0.6608 at 13\n"
>>>>>>> MajorityVote
     ]
    }
   ],
   "source": [
    "from sklearn.neighbors import KNeighborsClassifier\n",
    "ks = []\n",
    "y_est_tests = []\n",
    "y_est_trains = []\n",
    "test_class_errors = []\n",
    "train_class_errors = []\n",
    "for k in range(15):\n",
    "    ks.append(KNeighborsClassifier(k+2))\n",
    "    ks[k].fit(X_train, y_train)\n",
    "    \n",
    "    y_est_tests.append(ks[k].predict(X_test))\n",
    "    y_est_trains.append(ks[k].predict(X_train))\n",
    "    \n",
    "    test_class_errors.append(1-np.mean(np.round(y_est_tests[k],0) == y_test))\n",
    "    train_class_errors.append(1-np.mean(np.round(y_est_trains[k],0) == y_train))\n",
    "\n",
    "    print('Test error k = ', k+2 ,': {:.4f}'.format(test_class_errors[k]))\n",
    "    print('Training error k = ', k+2 ,': {:.4f}'.format(train_class_errors[k]))\n",
    "\n",
    "error = [train_class_errors, test_class_errors]\n",
    "error_equal = []\n",
    "for e in range(len(error[0])):\n",
    "    error_equal.append(error[0][e] + error[1][e])\n",
    "\n",
    "print('Lowest average error is {:.4f} at {} using {} percent for testing'.format(min(test_class_errors), np.argmin(train_class_errors)+2,test_proportion*100))\n",
    "print('Lowest unweighted error is {:.4f} at {}'.format(min(error_equal)/2,np.argmin(error_equal)+2))\n",
    "print('Lowest test error is {:.4f} at {}'.format(min(error[1]),np.argmin(error[1])))\n",
<<<<<<< HEAD
    "    "
=======
    "ktests = y_est_tests"
>>>>>>> MajorityVote
   ]
  },
  {
   "cell_type": "code",
   "execution_count": 43,
   "metadata": {},
   "outputs": [
    {
     "ename": "ValueError",
     "evalue": "x and y must have same first dimension, but have shapes (16,) and (15,)",
     "output_type": "error",
     "traceback": [
      "\u001b[0;31m---------------------------------------------------------------------------\u001b[0m",
      "\u001b[0;31mValueError\u001b[0m                                Traceback (most recent call last)",
      "\u001b[0;32m<ipython-input-43-3595039a2591>\u001b[0m in \u001b[0;36m<module>\u001b[0;34m()\u001b[0m\n\u001b[0;32m----> 1\u001b[0;31m \u001b[0mplt\u001b[0m\u001b[0;34m.\u001b[0m\u001b[0mplot\u001b[0m\u001b[0;34m(\u001b[0m\u001b[0mrange\u001b[0m\u001b[0;34m(\u001b[0m\u001b[0;36m1\u001b[0m\u001b[0;34m,\u001b[0m\u001b[0mlen\u001b[0m\u001b[0;34m(\u001b[0m\u001b[0mks\u001b[0m\u001b[0;34m)\u001b[0m\u001b[0;34m+\u001b[0m\u001b[0;36m2\u001b[0m\u001b[0;34m)\u001b[0m\u001b[0;34m,\u001b[0m\u001b[0mtrain_class_errors\u001b[0m\u001b[0;34m)\u001b[0m\u001b[0;34m\u001b[0m\u001b[0m\n\u001b[0m\u001b[1;32m      2\u001b[0m \u001b[0mplt\u001b[0m\u001b[0;34m.\u001b[0m\u001b[0mplot\u001b[0m\u001b[0;34m(\u001b[0m\u001b[0mrange\u001b[0m\u001b[0;34m(\u001b[0m\u001b[0;36m1\u001b[0m\u001b[0;34m,\u001b[0m\u001b[0mlen\u001b[0m\u001b[0;34m(\u001b[0m\u001b[0mks\u001b[0m\u001b[0;34m)\u001b[0m\u001b[0;34m+\u001b[0m\u001b[0;36m2\u001b[0m\u001b[0;34m)\u001b[0m\u001b[0;34m,\u001b[0m\u001b[0mtest_class_errors\u001b[0m\u001b[0;34m)\u001b[0m\u001b[0;34m\u001b[0m\u001b[0m\n\u001b[1;32m      3\u001b[0m \u001b[0mplt\u001b[0m\u001b[0;34m.\u001b[0m\u001b[0mxlabel\u001b[0m\u001b[0;34m(\u001b[0m\u001b[0;34m'k'\u001b[0m\u001b[0;34m)\u001b[0m\u001b[0;34m\u001b[0m\u001b[0m\n\u001b[1;32m      4\u001b[0m \u001b[0mplt\u001b[0m\u001b[0;34m.\u001b[0m\u001b[0mylabel\u001b[0m\u001b[0;34m(\u001b[0m\u001b[0;34m'Error (misclassification rate)'\u001b[0m\u001b[0;34m)\u001b[0m\u001b[0;34m\u001b[0m\u001b[0m\n\u001b[1;32m      5\u001b[0m \u001b[0mplt\u001b[0m\u001b[0;34m.\u001b[0m\u001b[0mlegend\u001b[0m\u001b[0;34m(\u001b[0m\u001b[0;34m[\u001b[0m\u001b[0;34m'Error_train'\u001b[0m\u001b[0;34m,\u001b[0m\u001b[0;34m'Error_test'\u001b[0m\u001b[0;34m]\u001b[0m\u001b[0;34m)\u001b[0m\u001b[0;34m\u001b[0m\u001b[0m\n",
      "\u001b[0;32m/anaconda3/lib/python3.5/site-packages/matplotlib/pyplot.py\u001b[0m in \u001b[0;36mplot\u001b[0;34m(*args, **kwargs)\u001b[0m\n\u001b[1;32m   3356\u001b[0m                       mplDeprecation)\n\u001b[1;32m   3357\u001b[0m     \u001b[0;32mtry\u001b[0m\u001b[0;34m:\u001b[0m\u001b[0;34m\u001b[0m\u001b[0m\n\u001b[0;32m-> 3358\u001b[0;31m         \u001b[0mret\u001b[0m \u001b[0;34m=\u001b[0m \u001b[0max\u001b[0m\u001b[0;34m.\u001b[0m\u001b[0mplot\u001b[0m\u001b[0;34m(\u001b[0m\u001b[0;34m*\u001b[0m\u001b[0margs\u001b[0m\u001b[0;34m,\u001b[0m \u001b[0;34m**\u001b[0m\u001b[0mkwargs\u001b[0m\u001b[0;34m)\u001b[0m\u001b[0;34m\u001b[0m\u001b[0m\n\u001b[0m\u001b[1;32m   3359\u001b[0m     \u001b[0;32mfinally\u001b[0m\u001b[0;34m:\u001b[0m\u001b[0;34m\u001b[0m\u001b[0m\n\u001b[1;32m   3360\u001b[0m         \u001b[0max\u001b[0m\u001b[0;34m.\u001b[0m\u001b[0m_hold\u001b[0m \u001b[0;34m=\u001b[0m \u001b[0mwashold\u001b[0m\u001b[0;34m\u001b[0m\u001b[0m\n",
      "\u001b[0;32m/anaconda3/lib/python3.5/site-packages/matplotlib/__init__.py\u001b[0m in \u001b[0;36minner\u001b[0;34m(ax, *args, **kwargs)\u001b[0m\n\u001b[1;32m   1853\u001b[0m                         \u001b[0;34m\"the Matplotlib list!)\"\u001b[0m \u001b[0;34m%\u001b[0m \u001b[0;34m(\u001b[0m\u001b[0mlabel_namer\u001b[0m\u001b[0;34m,\u001b[0m \u001b[0mfunc\u001b[0m\u001b[0;34m.\u001b[0m\u001b[0m__name__\u001b[0m\u001b[0;34m)\u001b[0m\u001b[0;34m,\u001b[0m\u001b[0;34m\u001b[0m\u001b[0m\n\u001b[1;32m   1854\u001b[0m                         RuntimeWarning, stacklevel=2)\n\u001b[0;32m-> 1855\u001b[0;31m             \u001b[0;32mreturn\u001b[0m \u001b[0mfunc\u001b[0m\u001b[0;34m(\u001b[0m\u001b[0max\u001b[0m\u001b[0;34m,\u001b[0m \u001b[0;34m*\u001b[0m\u001b[0margs\u001b[0m\u001b[0;34m,\u001b[0m \u001b[0;34m**\u001b[0m\u001b[0mkwargs\u001b[0m\u001b[0;34m)\u001b[0m\u001b[0;34m\u001b[0m\u001b[0m\n\u001b[0m\u001b[1;32m   1856\u001b[0m \u001b[0;34m\u001b[0m\u001b[0m\n\u001b[1;32m   1857\u001b[0m         inner.__doc__ = _add_data_doc(inner.__doc__,\n",
      "\u001b[0;32m/anaconda3/lib/python3.5/site-packages/matplotlib/axes/_axes.py\u001b[0m in \u001b[0;36mplot\u001b[0;34m(self, *args, **kwargs)\u001b[0m\n\u001b[1;32m   1525\u001b[0m         \u001b[0mkwargs\u001b[0m \u001b[0;34m=\u001b[0m \u001b[0mcbook\u001b[0m\u001b[0;34m.\u001b[0m\u001b[0mnormalize_kwargs\u001b[0m\u001b[0;34m(\u001b[0m\u001b[0mkwargs\u001b[0m\u001b[0;34m,\u001b[0m \u001b[0m_alias_map\u001b[0m\u001b[0;34m)\u001b[0m\u001b[0;34m\u001b[0m\u001b[0m\n\u001b[1;32m   1526\u001b[0m \u001b[0;34m\u001b[0m\u001b[0m\n\u001b[0;32m-> 1527\u001b[0;31m         \u001b[0;32mfor\u001b[0m \u001b[0mline\u001b[0m \u001b[0;32min\u001b[0m \u001b[0mself\u001b[0m\u001b[0;34m.\u001b[0m\u001b[0m_get_lines\u001b[0m\u001b[0;34m(\u001b[0m\u001b[0;34m*\u001b[0m\u001b[0margs\u001b[0m\u001b[0;34m,\u001b[0m \u001b[0;34m**\u001b[0m\u001b[0mkwargs\u001b[0m\u001b[0;34m)\u001b[0m\u001b[0;34m:\u001b[0m\u001b[0;34m\u001b[0m\u001b[0m\n\u001b[0m\u001b[1;32m   1528\u001b[0m             \u001b[0mself\u001b[0m\u001b[0;34m.\u001b[0m\u001b[0madd_line\u001b[0m\u001b[0;34m(\u001b[0m\u001b[0mline\u001b[0m\u001b[0;34m)\u001b[0m\u001b[0;34m\u001b[0m\u001b[0m\n\u001b[1;32m   1529\u001b[0m             \u001b[0mlines\u001b[0m\u001b[0;34m.\u001b[0m\u001b[0mappend\u001b[0m\u001b[0;34m(\u001b[0m\u001b[0mline\u001b[0m\u001b[0;34m)\u001b[0m\u001b[0;34m\u001b[0m\u001b[0m\n",
      "\u001b[0;32m/anaconda3/lib/python3.5/site-packages/matplotlib/axes/_base.py\u001b[0m in \u001b[0;36m_grab_next_args\u001b[0;34m(self, *args, **kwargs)\u001b[0m\n\u001b[1;32m    404\u001b[0m                 \u001b[0mthis\u001b[0m \u001b[0;34m+=\u001b[0m \u001b[0margs\u001b[0m\u001b[0;34m[\u001b[0m\u001b[0;36m0\u001b[0m\u001b[0;34m]\u001b[0m\u001b[0;34m,\u001b[0m\u001b[0;34m\u001b[0m\u001b[0m\n\u001b[1;32m    405\u001b[0m                 \u001b[0margs\u001b[0m \u001b[0;34m=\u001b[0m \u001b[0margs\u001b[0m\u001b[0;34m[\u001b[0m\u001b[0;36m1\u001b[0m\u001b[0;34m:\u001b[0m\u001b[0;34m]\u001b[0m\u001b[0;34m\u001b[0m\u001b[0m\n\u001b[0;32m--> 406\u001b[0;31m             \u001b[0;32mfor\u001b[0m \u001b[0mseg\u001b[0m \u001b[0;32min\u001b[0m \u001b[0mself\u001b[0m\u001b[0;34m.\u001b[0m\u001b[0m_plot_args\u001b[0m\u001b[0;34m(\u001b[0m\u001b[0mthis\u001b[0m\u001b[0;34m,\u001b[0m \u001b[0mkwargs\u001b[0m\u001b[0;34m)\u001b[0m\u001b[0;34m:\u001b[0m\u001b[0;34m\u001b[0m\u001b[0m\n\u001b[0m\u001b[1;32m    407\u001b[0m                 \u001b[0;32myield\u001b[0m \u001b[0mseg\u001b[0m\u001b[0;34m\u001b[0m\u001b[0m\n\u001b[1;32m    408\u001b[0m \u001b[0;34m\u001b[0m\u001b[0m\n",
      "\u001b[0;32m/anaconda3/lib/python3.5/site-packages/matplotlib/axes/_base.py\u001b[0m in \u001b[0;36m_plot_args\u001b[0;34m(self, tup, kwargs)\u001b[0m\n\u001b[1;32m    381\u001b[0m             \u001b[0mx\u001b[0m\u001b[0;34m,\u001b[0m \u001b[0my\u001b[0m \u001b[0;34m=\u001b[0m \u001b[0mindex_of\u001b[0m\u001b[0;34m(\u001b[0m\u001b[0mtup\u001b[0m\u001b[0;34m[\u001b[0m\u001b[0;34m-\u001b[0m\u001b[0;36m1\u001b[0m\u001b[0;34m]\u001b[0m\u001b[0;34m)\u001b[0m\u001b[0;34m\u001b[0m\u001b[0m\n\u001b[1;32m    382\u001b[0m \u001b[0;34m\u001b[0m\u001b[0m\n\u001b[0;32m--> 383\u001b[0;31m         \u001b[0mx\u001b[0m\u001b[0;34m,\u001b[0m \u001b[0my\u001b[0m \u001b[0;34m=\u001b[0m \u001b[0mself\u001b[0m\u001b[0;34m.\u001b[0m\u001b[0m_xy_from_xy\u001b[0m\u001b[0;34m(\u001b[0m\u001b[0mx\u001b[0m\u001b[0;34m,\u001b[0m \u001b[0my\u001b[0m\u001b[0;34m)\u001b[0m\u001b[0;34m\u001b[0m\u001b[0m\n\u001b[0m\u001b[1;32m    384\u001b[0m \u001b[0;34m\u001b[0m\u001b[0m\n\u001b[1;32m    385\u001b[0m         \u001b[0;32mif\u001b[0m \u001b[0mself\u001b[0m\u001b[0;34m.\u001b[0m\u001b[0mcommand\u001b[0m \u001b[0;34m==\u001b[0m \u001b[0;34m'plot'\u001b[0m\u001b[0;34m:\u001b[0m\u001b[0;34m\u001b[0m\u001b[0m\n",
      "\u001b[0;32m/anaconda3/lib/python3.5/site-packages/matplotlib/axes/_base.py\u001b[0m in \u001b[0;36m_xy_from_xy\u001b[0;34m(self, x, y)\u001b[0m\n\u001b[1;32m    240\u001b[0m         \u001b[0;32mif\u001b[0m \u001b[0mx\u001b[0m\u001b[0;34m.\u001b[0m\u001b[0mshape\u001b[0m\u001b[0;34m[\u001b[0m\u001b[0;36m0\u001b[0m\u001b[0;34m]\u001b[0m \u001b[0;34m!=\u001b[0m \u001b[0my\u001b[0m\u001b[0;34m.\u001b[0m\u001b[0mshape\u001b[0m\u001b[0;34m[\u001b[0m\u001b[0;36m0\u001b[0m\u001b[0;34m]\u001b[0m\u001b[0;34m:\u001b[0m\u001b[0;34m\u001b[0m\u001b[0m\n\u001b[1;32m    241\u001b[0m             raise ValueError(\"x and y must have same first dimension, but \"\n\u001b[0;32m--> 242\u001b[0;31m                              \"have shapes {} and {}\".format(x.shape, y.shape))\n\u001b[0m\u001b[1;32m    243\u001b[0m         \u001b[0;32mif\u001b[0m \u001b[0mx\u001b[0m\u001b[0;34m.\u001b[0m\u001b[0mndim\u001b[0m \u001b[0;34m>\u001b[0m \u001b[0;36m2\u001b[0m \u001b[0;32mor\u001b[0m \u001b[0my\u001b[0m\u001b[0;34m.\u001b[0m\u001b[0mndim\u001b[0m \u001b[0;34m>\u001b[0m \u001b[0;36m2\u001b[0m\u001b[0;34m:\u001b[0m\u001b[0;34m\u001b[0m\u001b[0m\n\u001b[1;32m    244\u001b[0m             raise ValueError(\"x and y can be no greater than 2-D, but have \"\n",
      "\u001b[0;31mValueError\u001b[0m: x and y must have same first dimension, but have shapes (16,) and (15,)"
     ]
    },
    {
     "data": {
      "image/png": "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\n",
      "text/plain": [
       "<Figure size 432x288 with 1 Axes>"
      ]
     },
     "metadata": {
      "needs_background": "light"
     },
     "output_type": "display_data"
    }
   ],
   "source": [
    "plt.plot(range(1,len(ks)+2),train_class_errors)\n",
    "plt.plot(range(1,len(ks)+2),test_class_errors)\n",
    "plt.xlabel('k')\n",
    "plt.ylabel('Error (misclassification rate)')\n",
    "plt.legend(['Error_train','Error_test']) \n",
    "plt.title('Effectiveness through different k\\'s')\n",
    "plt.show()"
   ]
  },
  {
   "cell_type": "markdown",
   "metadata": {},
   "source": [
    "# Support Vector Machine"
   ]
  },
  {
   "cell_type": "code",
<<<<<<< HEAD
   "execution_count": 3,
   "metadata": {},
   "outputs": [
    {
     "ename": "NameError",
     "evalue": "name 'd' is not defined",
     "output_type": "error",
     "traceback": [
      "\u001b[1;31m---------------------------------------------------------------------------\u001b[0m",
      "\u001b[1;31mNameError\u001b[0m                                 Traceback (most recent call last)",
      "\u001b[1;32m<ipython-input-3-9c7b09dcc986>\u001b[0m in \u001b[0;36m<module>\u001b[1;34m()\u001b[0m\n\u001b[0;32m     13\u001b[0m     \u001b[0mtest_class_error\u001b[0m \u001b[1;33m=\u001b[0m \u001b[1;36m1\u001b[0m\u001b[1;33m-\u001b[0m\u001b[0mnp\u001b[0m\u001b[1;33m.\u001b[0m\u001b[0mmean\u001b[0m\u001b[1;33m(\u001b[0m\u001b[0my_est_test\u001b[0m \u001b[1;33m==\u001b[0m \u001b[0my_test\u001b[0m\u001b[1;33m)\u001b[0m\u001b[1;33m\u001b[0m\u001b[0m\n\u001b[0;32m     14\u001b[0m     \u001b[0mtrain_class_error\u001b[0m \u001b[1;33m=\u001b[0m \u001b[1;36m1\u001b[0m\u001b[1;33m-\u001b[0m\u001b[0mnp\u001b[0m\u001b[1;33m.\u001b[0m\u001b[0mmean\u001b[0m\u001b[1;33m(\u001b[0m\u001b[0my_est_train\u001b[0m \u001b[1;33m==\u001b[0m \u001b[0my_train\u001b[0m\u001b[1;33m)\u001b[0m\u001b[1;33m\u001b[0m\u001b[0m\n\u001b[1;32m---> 15\u001b[1;33m     \u001b[0merror\u001b[0m\u001b[1;33m[\u001b[0m\u001b[1;36m0\u001b[0m\u001b[1;33m,\u001b[0m\u001b[0mint\u001b[0m\u001b[1;33m(\u001b[0m\u001b[0md\u001b[0m\u001b[1;33m/\u001b[0m\u001b[1;36m2\u001b[0m\u001b[1;33m)\u001b[0m\u001b[1;33m]\u001b[0m\u001b[1;33m,\u001b[0m \u001b[0merror\u001b[0m\u001b[1;33m[\u001b[0m\u001b[1;36m1\u001b[0m\u001b[1;33m,\u001b[0m\u001b[0mint\u001b[0m\u001b[1;33m(\u001b[0m\u001b[0md\u001b[0m\u001b[1;33m/\u001b[0m\u001b[1;36m2\u001b[0m\u001b[1;33m)\u001b[0m\u001b[1;33m]\u001b[0m\u001b[1;33m=\u001b[0m \u001b[0mtrain_class_error\u001b[0m\u001b[1;33m,\u001b[0m \u001b[0mtest_class_error\u001b[0m\u001b[1;33m\u001b[0m\u001b[0m\n\u001b[0m\u001b[0;32m     16\u001b[0m \u001b[1;33m\u001b[0m\u001b[0m\n\u001b[0;32m     17\u001b[0m \u001b[0mplt\u001b[0m\u001b[1;33m.\u001b[0m\u001b[0mplot\u001b[0m\u001b[1;33m(\u001b[0m\u001b[0mdegree\u001b[0m\u001b[1;33m,\u001b[0m \u001b[0merror\u001b[0m\u001b[1;33m[\u001b[0m\u001b[1;36m0\u001b[0m\u001b[1;33m,\u001b[0m\u001b[1;33m:\u001b[0m\u001b[1;33m]\u001b[0m\u001b[1;33m)\u001b[0m\u001b[1;33m\u001b[0m\u001b[0m\n",
      "\u001b[1;31mNameError\u001b[0m: name 'd' is not defined"
=======
   "execution_count": 44,
   "metadata": {},
   "outputs": [
    {
     "name": "stdout",
     "output_type": "stream",
     "text": [
      "Test error: 0.6475\n",
      "Training error: 0.3126\n"
>>>>>>> MajorityVote
     ]
    }
   ],
   "source": [
    "from sklearn.svm import SVC\n",
    "\n",
    "tol = [1,0.1,1e-2,1e-3,1e-4,1e-5,1e-6,1e-7,1e-8]\n",
    "error = np.zeros((2,len(tol)))\n",
    "for t in tol:\n",
    "    svm = SVC(tol=t)\n",
    "    # Train the model on training data\n",
    "    svm = svm.fit(X_train, y_train)\n",
    "    \n",
    "    y_est_test = svm.predict(X_test)\n",
    "    y_est_train = svm.predict(X_train)\n",
    "    \n",
    "    test_class_error = 1-np.mean(y_est_test == y_test)\n",
    "    train_class_error = 1-np.mean(y_est_train == y_train)\n",
    "    error[0,int(-np.log10(t))], error[1,int(-np.log10(t))]= train_class_error, test_class_error\n",
    "\n",
    "plt.plot(degree, error[0,:])\n",
    "plt.plot(degree, error[1,:])\n",
    "plt.xlabel('Model complexity (degree of polynomial)')\n",
    "plt.ylabel('Error (misclassification rate)')\n",
    "plt.legend(['Error_train','Error_test']) \n",
    "plt.title('Cross validation over polynomial degree')\n",
    "plt.show()  \n",
    "errorSum = test_proportion*error[1,:] + (1-test_proportion)*error[0,:] # mean error\n",
    "error_equal = sum(error)\n",
    "print('Lowest average error is {:.4f} at {} using {} percent for testing'.format(min(errorSum), degree[np.argmin(errorSum)],test_proportion*100))\n",
    "print('Lowest unweighted error is {:.4f} at {}'.format(min(error_equal)/2,degree[np.argmin(error_equal)]))\n",
    "print('Lowest test error is {:.4f} at {}'.format(min(error[1,:]),degree[np.argmin(error[1,:])]))"
   ]
  },
  {
   "cell_type": "markdown",
   "metadata": {},
   "source": [
    "# Naive Bayes"
   ]
  },
  {
   "cell_type": "code",
   "execution_count": 45,
   "metadata": {},
   "outputs": [
    {
     "name": "stdout",
     "output_type": "stream",
     "text": [
      "Test error: 0.8427\n",
      "Training error: 0.8299\n"
     ]
    }
   ],
   "source": [
    "from sklearn.naive_bayes import GaussianNB\n",
    "gnb = GaussianNB()\n",
    "gnb.fit(X_train, y_train)\n",
    "\n",
    "y_est_test = gnb.predict(X_test)\n",
    "y_est_train = gnb.predict(X_train)\n",
    "\n",
    "test_class_error = 1-np.mean(np.round(y_est_test,0) == y_test)\n",
    "train_class_error = 1-np.mean(np.round(y_est_train,0) == y_train)\n",
    "\n",
    "print('Test error: {:.4f}'.format(test_class_error))\n",
    "print('Training error: {:.4f}'.format(train_class_error))"
   ]
  },
  {
   "cell_type": "code",
   "execution_count": 46,
   "metadata": {},
   "outputs": [
    {
     "name": "stdout",
     "output_type": "stream",
     "text": [
      "[4, 2, 4, 4, 2, 2, 2, 1, 3, 1, 2, 2, 4, 2, 2, 4, 2, 1, 4, 4, 4, 2, 1, 4, 4, 4, 2, 4, 4, 4, 2, 1, 2, 1, 1, 1, 2, 1, 1, 2, 4, 4, 2, 4, 4, 2, 4, 4, 4, 4, 4, 2, 4, 2, 4, 2, 1, 3, 4, 1, 2, 4, 2, 1, 1, 2, 2, 4, 4, 4, 4, 1, 4, 4, 3, 2, 1, 1, 2, 4, 1, 4, 2, 2, 2, 4, 4, 4, 1, 4, 2, 4, 2, 2, 1, 2, 4, 4, 2, 4, 3, 4, 2, 2, 2, 2, 4, 2, 4, 4, 2, 4, 4, 2, 4, 3, 1, 4, 2, 2, 4, 2, 1, 4, 1, 4, 2, 2, 1, 1, 4, 4, 2, 4, 1, 2, 2, 2, 2, 2, 4, 4, 4, 1, 2, 4, 4, 3, 1, 4, 1, 2, 4, 4, 2, 4, 4, 4, 1, 4, 2, 4, 1, 2, 4, 2, 1, 4, 2, 1, 4, 1, 1, 4, 2, 4, 2, 4, 1, 2, 2, 4, 3, 4, 4, 2, 2, 2, 1, 2, 2, 2, 2, 2, 4, 4, 1, 4, 4, 2, 1, 4, 4, 2, 3, 1, 4, 4, 2, 2, 2, 4, 3, 1, 3, 1, 2, 1, 2, 4, 2, 4, 4, 1, 2, 1, 2, 4, 2, 2, 4, 4, 4, 4, 1, 1, 2, 2, 4, 4, 4, 4, 4, 4, 2, 1, 2, 4, 2, 4, 1, 2, 1, 1, 2, 2, 4, 2, 2, 3, 4, 2, 1, 2, 4, 1, 4, 4, 2, 2, 1, 2, 4, 4, 2, 2, 3, 4, 4, 2, 4, 2, 4, 4, 4, 1, 4, 3, 2, 1, 1, 4, 3, 1, 2, 2, 0, 4, 1, 2, 2, 4, 1, 4, 4, 2, 4, 2, 2, 2, 4, 4, 2, 2, 2, 4, 4, 3, 2, 1, 4, 2, 2, 2, 4, 4, 2, 4, 2, 4, 1, 4, 4, 2, 2, 2, 4, 2, 1, 2, 3, 4, 2, 4, 1, 4, 2, 2, 4, 2, 2, 1, 2, 1, 3, 3, 2, 2, 1, 4, 4, 4, 1, 1, 4, 1, 2, 4, 2, 2, 3, 4, 4, 4, 4, 4, 4, 2, 1, 4, 1, 2, 2, 2, 3, 4, 4, 1, 1, 4, 2, 4, 1, 1, 2, 2, 4, 2, 4, 4, 4, 2, 2, 1, 1, 4, 2, 4, 4, 4, 2, 3, 4, 1, 3, 1, 2, 4, 2, 2, 4, 4, 1, 1, 4, 4, 2, 2, 1, 1, 2, 2, 1, 2, 2, 3, 4, 2, 3, 4, 2, 4, 2, 2, 1, 1, 2, 4, 0, 1, 2, 1, 4, 4, 3, 1, 1, 1, 4, 4, 4, 4, 2, 4, 1, 2, 1, 2, 4, 2, 3, 4, 4, 1, 3, 2, 2, 3, 2, 4, 1, 2, 2, 4, 1, 4, 4, 2, 4, 4, 1, 4, 1, 2, 2, 2, 1, 1, 1, 1, 1, 0, 2, 1, 4, 1, 4, 3, 4, 2, 4, 1, 4, 4, 2, 1, 2, 1, 2, 4, 2, 4, 1, 1, 1, 1, 4, 2, 2, 1, 1, 4, 4, 4, 4, 4, 2, 4, 4, 4, 4, 4, 4, 2, 2, 4, 1, 4, 1, 2, 4, 4, 4, 4, 3, 2, 1, 2, 2, 1, 2, 1, 4, 3, 4, 4, 2, 1, 4, 4, 4, 2, 4, 4, 4, 4, 4, 1, 2, 1, 4, 4, 4, 4, 3, 4, 4, 4, 2, 4, 4, 4, 4, 1, 2, 1, 3, 4, 2, 1, 3, 1, 1, 2, 1, 4, 1, 4, 1, 3, 3, 2, 3, 4, 4, 2, 4, 4, 4, 1, 1, 3, 1, 2, 1, 4, 4, 2, 3, 2, 2, 1, 2, 1, 1, 3, 1, 3, 2, 4, 1, 4, 2, 2, 1, 2, 2, 1, 2, 2, 4, 2, 3, 1, 4, 1, 3, 4, 2, 2, 2, 4, 0, 1, 2, 2, 1, 2, 4, 4, 4, 2, 2, 2, 4, 4, 4, 4, 4, 1, 1, 4, 3, 4, 2, 2, 2, 2, 4, 1, 0, 3, 4, 1, 4, 1, 1, 2, 1, 1, 2, 2, 3, 4, 4, 0, 4, 1, 2, 4, 4, 1, 4, 2, 1, 4, 2, 2, 1, 2, 4, 2, 2, 3, 2, 1, 4, 1, 1, 2, 3, 1, 4, 2, 3, 1, 2, 2, 2, 2, 4, 4, 2, 2, 4, 4, 2, 2, 1, 4, 2, 2, 2, 2, 4, 1, 4, 4, 2, 3, 2, 4, 1, 4, 4, 1, 1, 1, 4, 1, 1, 4, 4, 4, 2, 2, 4, 4, 2, 2, 4, 4, 4, 2, 4, 2, 2, 1, 4, 3, 4, 1, 4, 2, 2, 2, 4, 2, 4, 4, 1, 3, 1, 4, 4, 2, 1, 2, 2, 4, 2, 4, 4, 2, 3, 4, 4, 4, 4, 2, 4, 4, 1, 4, 2, 1, 2, 1, 4, 3, 4, 4, 2, 3, 1, 2, 1, 4, 4, 2, 1, 4, 1, 4, 2, 4, 4, 2, 4, 2, 2, 4, 2, 2, 3, 3, 4, 1, 2, 2, 2, 4, 1, 2, 2, 2, 1, 2, 1, 4, 2, 2, 4, 2, 1, 1, 2, 4, 4, 1, 4, 4, 4, 4, 2, 4, 1, 3, 4, 1, 1, 4, 2, 4, 4, 2, 2, 4, 2, 2, 4, 1, 2, 2, 2, 2, 3, 3, 1, 4, 4, 2, 2, 2, 2, 1, 3, 2, 2, 2, 4, 4, 4, 1, 4, 4, 4, 1, 2, 2, 4, 1, 1, 1, 2, 4, 4, 2, 4, 4, 1, 2, 2, 1, 1, 4, 4, 2, 1, 1, 4, 2, 2, 2, 2, 4, 1, 1, 2, 3, 4, 3, 4, 4, 1, 1, 2, 4, 1, 3, 1, 4, 1, 2, 2, 2, 2, 4, 4, 2, 2, 2, 4, 1, 4, 4, 1, 1, 4, 2, 4, 4, 4, 4, 3, 4, 4, 2, 4, 2, 2, 2, 1, 4, 4, 2, 2, 4, 2, 2, 1, 1, 4, 4, 4, 4, 2, 3, 2, 0, 1, 1, 1, 2, 4, 4, 1, 2, 4, 2, 1, 1, 1, 4, 1, 2, 2, 4, 2, 2, 1, 0, 1, 4, 1, 1, 2, 1, 2, 4, 1, 4, 4, 4, 2, 1, 2, 4, 2, 2, 1, 4, 2, 2, 2, 4, 4, 1, 2, 1, 3, 2, 1, 1, 1, 4, 2, 3, 4, 2, 2, 4, 4, 1, 1, 1, 4, 2, 4, 4, 1, 4, 2, 2, 0, 1, 3, 1, 2, 4, 2, 4, 4, 3, 1, 2, 4, 2, 1, 1, 2, 1, 4, 4, 4, 2, 1, 3, 2, 4, 4, 2, 2, 2, 4, 4, 4, 2, 2, 2, 2, 4, 2, 4, 3, 1, 3, 1, 3, 4, 2, 2, 4, 2, 4, 2, 2, 1, 3, 3, 4, 2, 4, 3, 2, 2, 2, 3, 2, 2, 3, 2, 2, 4, 2, 2, 4, 2, 2, 2, 4, 1, 1, 4, 2, 1, 1, 4, 3, 4, 4, 2, 1, 1, 2, 2, 1, 2, 2, 3, 3, 2, 4, 4, 1, 2, 1, 2, 4, 4, 3, 1, 1, 1, 1, 4, 2, 1, 2, 2, 4, 2, 4, 4, 4, 2, 2, 1, 4, 2, 4, 4, 3, 4, 1, 4, 4, 1, 1, 1, 2, 2, 3, 2, 2, 2, 1, 2, 4, 1, 3, 4, 4, 4, 2, 2, 2, 3, 4, 2, 1, 1, 1, 4, 4, 2, 4, 2, 4, 2, 2, 1, 4, 2, 2, 4, 4, 4, 4, 1, 2, 2, 4, 4, 4, 2, 4, 4, 4, 4, 2, 4, 4, 4, 2, 2, 2, 4, 3, 4, 1, 2, 2, 4, 2, 4, 4, 4, 4, 4, 4, 1, 2, 3, 1, 2, 2, 1, 2, 4, 4, 0, 4, 2, 1, 1, 2, 4, 2, 4, 4, 3, 1, 4, 3, 4, 4, 4, 2, 1, 1, 1, 1, 4, 4, 4, 2, 4, 3, 2, 4, 4, 1, 2, 3, 4, 4, 4, 4, 2, 1, 2, 2, 2, 2, 4, 2, 4, 1, 4, 4, 2, 2, 4, 4, 2, 4, 4, 2, 4, 1, 2, 4, 4, 1, 1, 4, 4, 0, 2, 2, 4, 4, 1, 2, 2, 1, 2, 1, 2, 2, 1, 2, 1, 1, 2, 2, 4, 4, 2, 4, 4, 2, 4, 2, 1, 4, 4, 4, 4, 1, 1, 4, 2, 4, 2, 4, 4, 2, 4, 1, 1, 2, 2, 1, 3, 2, 2, 4, 2, 4, 3, 1, 1, 2, 3, 4, 4, 2, 4, 2, 2, 2, 3, 4, 1, 4, 4, 4, 1, 2, 4, 1, 2, 1, 4, 4, 1, 2, 2, 2, 2, 2, 2, 4, 4, 4, 4, 2, 2, 4, 1, 1, 4, 3, 4, 2, 1, 1, 1, 4, 4, 1, 3, 2, 4, 1, 4, 3, 2, 4, 4, 4, 4, 1, 1, 2, 1, 2, 3, 3, 3, 0, 3, 4, 4, 4, 2, 2, 1, 4, 2, 4, 1, 2, 4, 4, 1, 2, 1, 3, 2, 1, 4, 1, 2, 4, 4, 2, 2, 4, 4, 4, 4, 3, 4, 2, 4, 1, 2, 4, 4, 2, 2, 1, 1, 4, 2, 4, 1, 1, 2, 2, 1, 4, 4, 1, 4, 1, 2, 2, 4, 1, 2, 4, 2, 1, 4, 2, 2, 1, 1, 2, 2, 2, 4, 1, 4, 1, 4, 2, 0, 2, 4, 2, 4, 2, 4, 4, 4, 2, 4, 1, 4, 3, 4, 4, 4, 4, 4, 2, 4, 4, 4, 1, 2, 4, 2, 2, 2, 2, 2, 4, 2, 1, 1, 1, 1, 1, 4, 1, 2, 2, 4, 1, 4, 0, 1, 4, 2, 2, 4, 2, 2, 2, 4, 2, 3, 4, 4, 4, 2, 1, 2, 3, 2, 2, 4, 4, 4, 4, 3, 1, 1, 1, 2, 4, 2, 4, 2, 4, 2, 2, 2, 3, 2, 1, 3, 2, 4, 3, 2, 2, 2, 3, 4, 4, 1, 2, 4, 2, 4, 1, 4, 4, 3, 4, 2, 1, 2, 2, 1, 2, 1, 4, 4, 1, 2, 4, 4, 4, 2, 4, 1, 2, 2, 2, 2, 4, 1, 4, 4, 2, 1, 4, 4, 4, 1, 1, 1, 3, 2, 4, 2, 1, 2, 2, 4, 2, 2, 2, 2, 4, 4, 4, 1, 2, 4, 4, 1, 2, 2, 1, 2, 1, 2, 1, 2, 4, 4, 4, 1, 4, 2, 2, 2, 2, 2, 4, 1, 2, 1, 4, 2, 2, 4, 3, 2, 1, 4, 4, 4, 4, 2, 1, 2, 2, 4, 2, 1, 4, 2, 4, 3, 2, 1, 0, 2, 2, 4, 2, 1, 2, 4, 1, 4, 2, 2, 4, 1, 4, 2, 1, 2, 3, 4, 4, 4, 1, 1, 4, 4, 1, 1, 1, 2, 4, 1, 1, 4, 4, 2, 2, 2, 2, 4, 4, 4, 4, 4, 2, 2, 2, 2, 2, 4, 4, 3, 1, 4, 4, 4, 2, 2, 1, 2, 4, 4, 2, 4, 1, 2, 4, 4, 4, 2, 3, 4, 4, 2, 4, 1, 1, 4, 2, 4, 4, 3, 2, 4, 4, 4, 2, 0, 4, 4, 4, 4, 1, 3, 4, 0, 1, 4, 4, 2, 4, 4, 4, 4, 1, 2, 2, 2, 4, 4, 4, 4, 1, 1, 4, 2, 2, 4, 3, 2, 4, 4, 1, 3, 2, 4, 2, 1, 2, 4, 4, 1, 1, 2, 4, 1, 4, 4, 0, 4, 2, 1, 2, 3, 4, 4, 4, 1, 4, 2, 2, 4, 1, 4, 1, 3, 4, 2, 2, 4, 4, 2, 4, 1, 2, 2, 4, 4, 2, 4, 4, 4, 4, 2, 4, 2, 4, 1, 4, 2, 1, 1, 4, 4, 4, 4, 2, 1, 3, 4, 2, 2, 2, 4, 2, 3, 2, 1, 2, 4, 4, 2, 2, 4, 2, 4, 4, 4, 1, 2, 1, 2, 4, 4, 1, 4, 4, 4, 2, 4, 2, 2, 2, 4, 4, 1, 1, 4, 2, 2, 2, 4, 4, 1, 1, 1, 1, 4, 4, 2, 3, 2, 2, 2, 4, 1, 2, 1, 4, 4, 2, 4, 4, 4, 2, 2, 2, 2, 1, 1, 2, 4, 2, 3, 1, 2, 3, 4, 2, 2, 4, 1, 4, 2, 3, 1, 0, 3, 4, 2, 3, 2, 2, 4, 4, 4, 1, 2, 2, 1, 2, 4, 4, 4, 2, 2, 4, 2, 3, 2, 1, 2, 0, 2, 2, 4, 1, 4, 4, 1, 4, 2, 2, 1, 4, 2, 4, 2, 4, 2, 1, 3, 1, 1, 2, 4, 2, 4, 1, 2, 2, 1, 1, 2, 1, 4, 2, 2, 4, 4, 1, 4, 1, 2, 2, 3, 2, 1, 4, 2, 3, 4, 4, 1, 2, 2, 1, 2, 1, 4, 4, 2, 2, 1, 1, 4, 4, 2, 4, 4, 2, 4, 2, 4, 4, 1, 2, 1, 4, 4, 2, 2, 4, 1, 1, 1, 4, 1, 4, 1, 4, 3, 4, 2, 2, 1, 2, 2, 3, 4, 2, 4, 4, 4, 1, 0, 4, 4, 1, 1, 0, 4, 2, 1, 2, 2, 1, 2, 4, 2, 4, 4, 4, 4, 2, 2, 4, 1, 1, 1, 2, 4, 1, 2, 2, 2, 3, 1, 2, 4, 4, 2, 2, 2, 1, 4, 4, 2, 1, 2, 0, 1, 4, 2, 1, 4, 1, 4, 2, 4, 1, 2, 2, 4, 4, 1, 2, 4, 3, 4, 4, 4, 4, 4, 1, 2, 4, 1, 1, 2, 4, 2, 2, 1, 2, 4, 2, 2, 2, 2, 2, 1, 4, 3, 4, 2, 2, 2, 2, 4, 4, 2, 2, 4, 2, 3, 4, 4, 2, 3, 4, 2, 2, 1, 2, 2, 4, 4, 4, 2, 4, 4, 4, 1, 4, 1, 4, 2, 3, 4, 1, 4, 4, 4, 4, 1, 2, 2, 4, 4, 4, 2, 2, 2, 4, 2, 4, 4, 2, 1, 2, 2, 1, 1, 3, 2, 1, 2, 4, 2, 4, 4, 1, 4, 2, 2, 4, 2, 4, 4, 2, 4, 4, 4, 1, 3, 4, 4, 1, 2, 4, 2, 2, 4, 2, 2, 1, 4, 4, 3, 4, 3, 2, 2, 4, 2, 1, 4, 3, 2, 4, 1, 4, 4, 1, 2, 2, 4, 4, 3, 4, 2, 2, 4, 3, 2, 2, 3, 2, 2, 4, 2, 1, 4, 1, 2, 2, 2, 1, 4, 1, 4, 3, 2, 1, 2, 2, 1, 4, 2, 2, 1, 2, 2, 1, 1, 4, 2, 2, 1, 2, 4, 4, 2, 1, 2, 4, 4, 2, 4, 4, 2, 4, 1, 4, 2, 2, 4, 4, 2, 4, 2, 2, 1, 4, 4, 3, 2, 4, 4, 4, 4, 2, 4, 1, 4, 1, 2, 4, 4, 1, 2, 4, 1, 4, 4, 2, 0, 4, 3, 4, 4, 3, 3, 2, 4, 2, 2, 1, 1, 3, 1, 1, 1, 4, 4, 4, 1, 2, 4, 4, 4, 2, 1, 0, 4, 4, 2, 2, 4, 4, 4, 2, 4, 4, 3, 1, 2, 4, 3, 2, 4, 4, 1, 1, 2, 0, 1, 2, 4, 4, 1, 1, 2, 2, 3, 4, 1, 4, 2, 4, 2, 2, 4, 1, 2, 3, 2, 4, 1, 4, 4, 1, 4, 1, 1, 2, 2, 1, 4, 1, 4, 2, 1, 4, 1, 1, 4, 2, 2, 2, 2, 4, 3, 2, 4, 3, 4, 2, 4, 2, 1, 4, 4, 4, 2, 1, 2, 1, 2, 4, 2, 1, 3, 4, 2, 3, 4, 1, 2, 2, 4, 1, 2, 4, 4, 2, 2, 4, 4, 4, 2, 4, 2, 4, 3, 1, 4, 1, 1, 2, 3, 4, 2, 4, 2, 2, 2, 2, 4, 1, 1, 4, 4, 2, 1, 4, 2, 2, 1, 1, 1, 2, 4, 3, 1, 2, 2, 1, 4, 2, 4, 4, 2, 2, 2, 2, 4, 2, 3, 2, 2, 2, 1, 4, 2, 4, 2, 2, 2, 0, 4, 4, 4, 2, 1, 1, 4, 2, 4, 4, 3, 2, 4, 3, 1, 1, 4, 4, 4, 2, 1, 4, 2, 2, 4, 2, 4, 4, 2, 4, 2, 4, 3, 4, 3, 4, 4, 3, 1, 4, 2, 2, 1, 1, 2, 1, 2, 4, 3, 4, 2, 1, 3, 2, 3, 4, 2, 4, 4, 1, 4, 2, 4, 2, 2, 2, 2, 4, 2, 2, 2, 1, 1, 1, 2, 2, 1, 4, 1, 2, 4, 2, 4, 4, 2, 1, 1, 2, 2, 4, 1, 4, 1, 2, 1, 4, 4, 4, 2, 1, 4, 2, 1, 4, 2, 4, 4, 2, 1, 4, 4, 2, 4, 4, 4, 1, 4, 4, 4, 1, 2, 4, 2, 4, 2, 1, 1, 2, 4, 2, 2, 4, 1, 4, 2, 1, 4, 2, 1, 4, 4, 1, 2, 1, 2, 4, 4, 2, 4, 1, 2, 4, 4, 2, 2, 4, 2, 2, 4, 2, 4, 4, 2, 1, 4, 1, 3, 2, 4, 4, 1, 4, 1, 4, 1, 2, 2, 1, 4, 2, 4, 2, 2, 1, 4, 1, 4, 0, 4, 1, 4, 4, 2, 2, 2, 1, 1, 1, 4, 2, 1, 4, 4, 3, 3, 4, 2, 4, 3, 1, 4, 4, 2, 1, 1, 4, 2, 3, 4, 1, 2, 4, 3, 2, 2, 1, 3, 3, 1, 2, 4, 4, 2, 2, 4, 2, 1, 3, 4, 2, 2, 4, 1, 1, 1, 1, 2, 1, 1, 2, 1, 4, 1, 4, 1, 1, 2, 4, 4, 4, 4, 2, 1, 1, 4, 4, 1, 2, 1, 4, 4, 2, 4, 2, 2, 2, 4, 4, 2, 2, 4, 2, 2, 1, 4, 4, 3, 4, 2, 4, 3, 2, 1, 2, 2, 2, 2, 2, 1, 4, 4, 4, 1, 2, 2, 1, 2, 2, 2, 4, 4, 2, 1, 2, 1, 2, 2, 2, 4, 4, 4, 2, 1, 4, 1, 1, 2, 2, 2, 2, 4, 4, 2, 2, 0, 2, 2, 2, 2, 2, 2, 4, 1, 1, 2, 2, 4, 4, 2, 2, 2, 1, 1, 1, 0, 2, 4, 2, 1, 2, 4, 4, 1, 4, 2, 4, 1, 3, 2, 4, 4, 2, 4, 2, 0, 4, 4, 4, 2, 2, 4, 4, 2, 2, 1, 2, 2, 4, 4, 2, 2, 1, 4, 3, 2, 1, 2, 1, 2, 2, 4, 4, 4, 1, 4, 3, 2, 4, 2, 1, 2, 4, 2, 2, 4, 2, 2, 4, 2, 1, 2, 3, 4, 4, 4, 2, 4, 4, 0, 4, 1, 4, 1, 4, 1, 4, 2, 2, 4, 1, 4, 3, 2, 4, 3, 2, 1, 2, 3, 4, 2, 2, 2, 4, 4, 2, 1, 4, 2, 4, 4, 3, 3, 1, 3, 2, 2, 2, 2, 4, 1, 2, 4, 4, 1, 2, 4, 4, 2, 2, 2, 1, 2, 2, 1, 3, 3, 4, 4, 2, 4, 4, 4, 4, 2, 1, 4, 3, 1, 4, 1, 3, 4, 3, 2, 2, 2, 4, 1, 2, 4, 2, 0, 2, 4, 2, 4, 4, 1, 4, 2, 3, 1, 4, 4, 4, 2, 4, 4, 4, 2, 2, 2, 2, 2, 2, 4, 4, 2, 4, 4, 2, 4, 2, 1, 4, 2, 1, 4, 2, 2, 4, 4, 2, 2, 2, 2, 4, 1, 0, 4, 2, 4, 4, 4, 1, 2, 4, 2, 0, 4, 4, 1, 2, 1, 2, 2, 4, 2, 1, 2, 2, 4, 4, 1, 1, 3, 2, 4, 3, 4, 3, 1, 2, 4, 4, 1, 2, 4, 2, 1, 1, 1, 2, 2, 2, 1, 4, 4, 2, 4, 1, 2, 2, 4, 4, 2, 4, 4, 2, 4, 2, 4, 1, 4, 4, 4, 1, 4, 2, 4, 2, 4, 4, 2, 1, 2, 4, 2, 2, 4, 4, 2, 1, 1, 4, 4, 4, 1, 4, 4, 4, 4, 2, 4, 4, 4, 4, 2, 2, 4, 2, 4, 4, 1, 2, 1, 4, 4, 4, 1, 4, 2, 2, 4, 2, 2, 1, 4, 2, 1, 0, 3, 2, 1, 2, 2, 4, 4, 4, 1, 1, 4, 4, 4, 1, 4, 2, 1, 4, 4, 4, 4, 2, 2, 4, 1, 2, 1, 4, 2, 1, 3, 1, 4, 2, 4, 2, 4, 2, 2, 4, 4, 2, 3, 4, 2, 1, 2, 1, 4, 2, 4, 3, 4, 0, 1, 2, 1, 2, 2, 1, 2, 4, 4, 4, 1, 2, 4, 2, 1, 4, 4, 1, 1, 1, 2, 2, 0, 4, 1, 2, 2, 4, 4, 2, 4, 2, 4, 1, 1, 1, 4, 1, 4, 2, 0, 4, 2, 2, 2, 1, 1, 4, 1, 4, 4, 1, 1, 4, 1, 2, 4, 4, 1, 4, 2, 1, 2, 4, 2, 2, 2, 2, 2, 2, 1, 2, 2, 2, 3, 2, 2, 2, 1, 1, 4, 1, 2, 4, 2, 3, 2, 2, 0, 2, 2, 2, 1, 2, 1, 4, 4, 4, 4, 1, 2, 1, 1, 4, 1, 2, 2, 4, 4, 2, 2, 4, 4, 4, 2, 2, 2, 2, 3, 4, 4, 2, 4, 3, 4, 2, 2, 4, 4, 2, 1, 2, 4, 1, 4, 4, 4, 3, 1, 4, 4, 2, 4, 3, 4, 2, 4, 2, 3, 4, 2, 2, 1, 4, 2, 0, 2, 2, 2, 1, 1, 1, 2, 4, 1, 2, 4, 2, 4, 2, 1, 3, 3, 4, 4, 4, 1, 2, 1, 2, 3, 4, 2, 1, 4, 2, 4, 2, 1, 2, 1, 2, 2, 2, 4, 4, 1, 4, 2, 1, 1, 4, 1, 4, 4, 1, 4, 4, 4, 4, 3, 2, 4, 4, 4, 2, 2, 1, 4, 1, 2, 1, 4, 4, 4, 2, 4, 2, 2, 1, 2, 1, 2, 3, 4, 4, 4, 3, 4, 4, 1, 2, 1, 2, 1, 4, 2, 2, 1, 1, 2, 2, 2, 2, 4, 2, 4, 4, 4, 1, 4, 4, 1, 2, 4, 4, 2, 3, 2, 3, 1, 1, 4, 2, 2, 2, 2, 1, 1, 2, 4, 4, 2, 1, 2, 4, 2, 4, 2, 4, 2, 2, 2, 2, 1, 1, 3, 4, 1, 3, 1, 4, 2, 1, 2, 1, 2, 4, 4, 2, 2, 3, 4, 3, 1, 3, 4, 2, 2, 4, 2, 4, 4, 4, 2, 4, 2, 4, 4, 4, 3, 2, 2, 2, 4, 1, 4, 2, 4, 1, 2, 2, 4, 4, 2, 2, 2, 2, 4, 4, 2, 1, 1, 2, 2, 4, 4, 2, 3, 2, 2, 4, 4, 4, 1, 4, 1, 2, 4, 3, 2, 1, 1, 1, 4, 4, 2, 4, 3, 4, 1, 4, 3, 2, 2, 4, 2, 4, 4, 2, 2, 2, 2, 2, 2, 4, 2, 2, 1, 4, 2, 1, 2, 1, 2, 4, 2, 2, 2, 1, 1, 2, 3, 4, 4, 4, 3, 4, 2, 4, 1, 4, 4, 4, 4, 1, 2, 4, 1, 1, 1, 4, 2, 2, 2, 2, 4, 4, 4, 2, 1, 2, 4, 4, 2, 4, 1, 4, 1, 4, 4, 4, 2, 2, 2, 4, 2, 4, 2, 1, 2, 2, 1, 4, 4, 4, 2, 4, 1, 4, 4, 4, 1, 4, 1, 2, 2, 4, 4, 3, 2, 4, 1, 1, 1, 1, 2, 4, 4, 4, 4, 2, 2, 1, 4, 3, 2, 2, 3, 2, 1, 1, 1, 2, 4, 4, 2, 4, 2, 2, 4, 2, 2, 4, 2, 4, 4, 1, 2, 2, 1, 4, 2, 4, 4, 2, 2, 4, 3, 4, 2, 3, 4, 4, 3, 1, 2, 3, 2, 2, 2, 4, 1, 1, 4, 1, 3, 4, 4, 4, 4, 1, 2, 2, 4, 2, 2, 2, 4, 2, 4, 4, 4, 2, 2, 2, 4, 2, 2, 1, 2, 3, 4, 4, 3, 2, 2, 1, 4, 1, 4, 2, 1, 2, 1, 4, 2, 1, 2, 2, 4, 2, 2, 2, 2, 1, 4, 3, 4, 1, 4, 2, 2, 4, 0, 2, 2, 4, 2, 2, 2, 2, 4, 4, 2, 4, 1, 4, 2, 1, 1, 2, 2, 1, 1, 2, 3, 4, 1, 1, 4, 2, 3, 4, 4, 4, 1, 2, 4, 2, 4, 4, 2, 2, 4, 4, 2, 4, 4, 1, 4, 4, 2, 2, 1, 2, 1, 1, 4, 3, 3, 2, 1, 1, 2, 1, 4, 1, 2, 2, 4, 1, 4, 2, 2, 4, 4, 2, 1, 4, 4, 4, 4, 2, 0, 2, 4, 4, 4, 2, 2, 2, 2, 1, 2, 4, 1, 4, 1, 4, 1, 2, 4, 2, 1, 4, 4, 4, 2, 1, 4, 1, 2, 4, 2, 4, 1, 4, 1, 2, 1, 4, 1, 2, 2, 4, 4, 4, 2, 4, 4, 2, 4, 4, 4, 4, 2, 2, 2, 4, 4, 2, 2, 1, 4, 1, 4, 2, 4, 2, 1, 3, 3, 1, 4, 1, 1, 1, 2, 2, 2, 2, 2, 1, 2, 1, 2, 1, 4, 2, 4, 2, 1, 4, 2, 2, 1, 4, 1, 4, 4, 2, 2, 1, 2, 2, 2, 4, 1, 2, 1, 2, 4, 4, 1, 4, 2, 2, 1, 2, 4, 1, 1, 2, 2, 1, 2, 0, 2, 2, 2, 4, 3, 1, 2, 1, 4, 1, 2, 4, 4, 1, 4, 2, 4, 4, 1, 2, 4, 4, 3, 4, 1, 1, 1, 1, 4, 4, 2, 4, 2, 1, 3, 4, 4, 3, 4, 4, 2, 4, 2, 4, 1, 4, 3, 3, 1, 2, 1, 4, 1, 2, 1, 2, 4, 2, 4, 4, 1, 4, 4, 4, 4, 2, 4, 2, 4, 4, 4, 4, 1, 4, 4, 4, 1, 2, 2, 4, 2, 2, 1, 2, 2, 2, 3, 2, 2, 4, 1, 4, 4, 2, 4, 2, 2, 1, 4, 4, 4, 1, 4, 2, 2, 2, 4, 0, 3, 4, 2, 4, 4, 4, 4, 4, 2, 2, 1, 4, 4, 1, 4, 1, 2, 2, 2, 1, 4, 1, 4, 4, 2, 3, 4, 4, 4, 1, 3, 4, 4, 4, 4, 4, 4, 4, 1, 2, 1, 1, 2, 1, 4, 2, 1, 1, 2, 1, 4, 4, 4, 1, 0, 1, 2, 4, 2, 4, 1, 1, 1, 4, 4, 2, 4, 2, 4, 2, 4, 2, 3, 1, 1, 2, 2, 4, 4, 2, 4, 3, 2, 1, 2, 3, 4, 1, 2, 4, 2, 2, 2, 1, 2, 1, 2, 4, 2, 2, 0, 4, 3, 2, 4, 1, 3, 2, 2, 4, 4, 2, 3, 4, 4, 2, 1, 2, 1, 2, 2, 2, 4, 4, 4, 4, 2, 1, 1, 2, 1, 4, 2, 4, 1, 4, 4, 4, 3, 2, 2, 1, 4, 2, 3, 1, 1, 1, 4, 1, 2, 1, 1, 1, 4, 2, 4, 4, 4, 2, 1, 2, 2, 1, 1, 2, 4, 4, 3, 4, 4, 2, 2, 3, 4, 2, 1, 4, 4, 1, 2, 4, 1, 4, 4, 4, 2, 4, 2, 4, 4, 2, 4, 4, 4, 4, 1, 1, 4, 2, 2, 4, 1, 4, 2, 2, 1, 2, 3, 4, 4, 2, 2, 1, 1, 4, 4, 4, 4, 1, 2, 1, 1, 4, 2, 2, 1, 2, 2, 1, 4, 4, 4, 4, 4, 2, 2, 4, 3, 1, 2, 4, 4, 1, 4, 2, 1, 4, 4, 1, 2, 2, 2, 2, 2, 2, 1, 4, 1, 4, 2, 4, 4, 4, 2, 2, 4, 2, 4, 2, 2, 4, 4, 2, 1, 2, 2, 2, 1, 4, 4, 2, 4, 4, 2, 4, 4, 1, 4, 2, 2, 2, 2, 1, 2, 2, 1, 4, 2, 2, 4, 4, 3, 4, 2, 4, 2, 3, 2, 2, 2, 2, 1, 4, 2, 4, 1, 4, 4, 4, 4, 2, 4, 2, 2, 2, 1, 2, 2, 1, 1, 4, 1, 2, 1, 3, 2, 2, 2, 2, 1, 1, 2, 2, 4, 2, 2, 1, 4, 3, 2, 2, 4, 2, 1, 2, 1, 2, 4, 2, 0, 2, 2, 4, 2, 2, 2, 4, 1, 4, 4, 1, 2, 1, 2, 4, 2, 3, 4, 2, 2, 2, 2, 4, 4, 4, 4, 1, 2, 4, 4, 4, 2, 4, 4, 2, 2, 4, 4, 2, 2, 2, 2, 1, 2, 2, 4, 1, 2, 4, 3, 2, 1, 1, 1, 2, 1, 4, 2, 1, 1, 2, 4, 2, 4, 2, 2, 4, 2, 1, 2, 1, 0, 1, 4, 2, 4, 1, 2, 1, 4, 2, 4, 1, 2, 2, 2, 2, 2, 2, 4, 2, 4, 4, 1, 4, 4, 2, 2, 1, 2, 3, 4, 1, 4, 4, 2, 2, 4, 4, 2, 1, 2, 1, 2, 4, 2, 2, 2, 2, 1, 2, 3, 1, 4, 1, 4, 2, 4, 2, 1, 2, 2, 4, 1, 2, 2, 4, 1, 2, 2, 2, 1, 4, 1, 4, 4, 4, 2, 1, 4, 1, 2, 2, 1, 2, 3, 4, 2, 4, 2, 2, 2, 2, 2, 2, 4, 1, 4, 2, 2, 1, 2, 2, 1, 2, 4, 4, 2, 4, 4, 2, 4, 4, 1, 1, 4, 1, 3, 2, 2, 1, 2, 4, 2, 1, 1, 2, 4, 2, 4, 4, 4, 2, 4, 4, 2, 2, 4, 4, 4, 2, 2, 3, 2, 2, 1, 1, 4, 0, 4, 1, 2, 2, 2, 1, 4, 1, 4, 2, 2, 4, 2, 2, 3, 4, 2, 3, 4, 2, 2, 2, 2, 3, 2, 2, 1, 2, 4, 2, 0, 2, 1, 4, 4, 2, 2, 4, 1, 4, 4, 1, 3, 2, 1, 1, 2, 4, 4, 1, 4, 4, 1, 4, 2, 4, 4, 1, 1, 1, 2, 2, 4, 3, 1, 2, 2, 1, 1, 2, 1, 2, 2, 2, 1, 4, 2, 3, 2, 1, 1, 4, 2, 1, 2, 2, 2, 4, 2, 4, 4, 2, 4, 2, 2, 1, 1, 1, 2, 4, 2, 0, 1, 4, 1, 4, 1, 2, 4, 4, 2, 4, 2, 1, 1, 1, 2, 4, 1, 1, 4, 2, 1, 2, 1, 3, 4, 2, 3, 2, 2, 4, 4, 1, 1, 2, 1, 2, 1, 1, 4, 2, 4, 3, 4, 4, 2, 1, 4, 2, 1, 2, 2, 2, 1, 2, 2, 3, 1, 2, 2, 4, 4, 4, 1, 2, 2, 2, 2, 2, 2, 4, 2, 3, 3, 1, 2, 2, 2, 4, 2, 2, 4, 3, 4, 2, 4, 4, 4, 4, 2, 1, 2, 4, 2, 2, 4, 2, 2, 1, 2, 2, 1, 2, 4, 2, 2, 4, 4, 1, 2, 2, 1, 4, 2, 4, 4, 3, 2, 4, 3, 4, 2, 2, 2, 4, 2, 1, 3, 3, 2, 2, 4, 2, 4, 4, 4, 0, 1, 4, 4, 1, 4, 0, 2, 1, 1, 1, 2, 3, 2, 4, 3, 2, 4, 4, 4, 4, 2, 4, 4, 1, 2, 4, 2, 2, 4, 4, 4, 1, 4, 4, 4, 2, 2, 1, 4, 4, 2, 4, 2, 2, 2, 1, 4, 2, 4, 2, 4, 4, 1, 4, 4, 1, 2, 2, 1, 4, 2, 2, 4, 1, 4, 2, 4, 1, 2, 1, 4, 4, 4, 2, 1, 2, 1, 4, 2, 4, 4, 2, 4, 1, 2, 2, 4, 2, 1, 4, 4, 2, 4, 4, 2, 2, 4, 2, 4, 4, 3, 4, 2, 1, 4, 4, 2, 1, 4, 2, 1, 2, 1, 4, 2, 2, 4, 1, 2, 4, 1, 4, 1, 1, 2, 2, 4, 1, 2, 2, 4, 4, 2, 2, 4, 1, 1, 2, 2, 4, 1, 0, 1, 2, 2, 1, 2, 1, 2, 4, 4, 2, 4, 4, 4, 2, 4, 1, 4, 4, 4, 1, 2, 4, 1, 4, 4, 2, 1, 1, 1, 4, 1, 2, 3, 2, 0, 2, 1, 4, 4, 2, 4, 4, 2, 1, 4, 1, 2, 1, 4, 4, 1, 4, 4, 3, 2, 4, 2, 2, 4, 1, 2, 1, 1, 4, 2, 4, 1, 2, 2, 4, 4, 4, 1, 2, 4, 4, 1, 1, 1, 2, 2, 3, 4, 1, 2, 4, 1, 4, 2, 2, 2, 4, 4, 2, 2, 2, 2, 4, 2, 1, 2, 2, 2, 4, 2, 4, 4, 1, 2, 2, 4, 1, 4, 4, 4, 2, 4, 3, 3, 1, 4, 3, 4, 1, 1, 2, 1, 3, 3, 1, 4, 4, 1, 2, 1, 1, 2, 2, 1, 2, 4, 1, 2, 4, 2, 2, 4, 2, 4, 4, 2, 4, 4, 2, 1, 1, 2, 3, 4, 4, 4, 2, 4, 4, 1, 2, 2, 4, 2, 4, 2, 4, 2, 4, 1, 1, 4, 2, 4, 4, 2, 1, 4, 4, 3, 2, 4, 4, 2, 2, 3, 4, 4, 4, 2, 4, 3, 2, 2, 2, 4, 4, 4, 1, 4, 4, 4, 1, 2, 4, 2, 2, 1, 1, 4, 1, 4, 1, 2, 2, 1, 4, 2, 1, 4, 1, 2, 2, 4, 4, 4, 2, 4, 2, 4, 2, 2, 1, 4, 2, 4, 1, 2, 1, 2, 2, 2, 4, 1, 2, 4, 2, 4, 4, 2, 1, 4, 1, 4, 0, 1, 2, 4, 4, 2, 4, 3, 2, 2, 4, 2, 3, 4, 1, 4, 4, 2, 2, 2, 1, 4, 4, 4, 1, 2, 2, 4, 4, 4, 2, 1, 2, 2, 1, 4, 4, 4, 4, 4, 4, 4, 2, 1, 4, 4, 1, 4, 2, 2, 2, 2, 4, 2, 2, 2, 4, 3, 1, 4, 2, 1, 1, 2, 3, 4, 4, 2, 4, 1, 4, 2, 4, 3, 1, 1, 2, 4, 1, 4, 4, 2, 4, 4, 4, 2, 3, 1, 1, 2, 3, 4, 2, 2, 2, 4, 4, 4, 4, 2, 1, 2, 2, 2, 1, 1, 4, 2, 3, 4, 4, 4, 2, 2, 2, 1, 4, 2, 1, 1, 2, 4, 4, 3, 4, 2, 2, 4, 4, 4, 2, 2, 2, 2, 2, 4, 2, 4, 2, 2, 3, 2, 4, 2, 2, 3, 3, 2, 2, 4, 1, 4, 4, 4, 4, 2, 1, 2, 2, 2, 2, 2, 4, 3, 3, 4, 2, 4, 4, 1, 1, 4, 4, 2, 4, 2, 1, 4, 1, 1, 4, 4, 1, 2, 3, 2, 3, 2, 4, 4, 3, 1, 3, 4, 4, 2, 4, 1, 1, 4, 2, 3, 2, 3, 1, 1, 1, 4, 4, 2, 2, 2, 4, 1, 2, 2, 2, 4, 2, 3, 1, 1, 1, 2, 3, 4, 4, 4, 4, 3, 3, 1, 2, 2, 4, 1, 3, 4, 4, 1, 4, 4, 0, 1, 2, 2, 2, 1, 4, 4, 1, 4, 1, 1, 4, 2, 2, 4, 3, 2, 2, 4, 1, 4, 4, 0, 4, 4, 2, 4, 2, 3, 2, 4, 4, 4, 2, 2, 2, 2, 4, 4, 4, 1, 3, 2, 4, 4, 2, 4, 4, 2, 3, 3, 2, 2, 4, 2, 1, 1, 2, 1, 1, 4, 3, 2, 1, 1, 1, 3, 4, 4, 3, 2, 4, 1, 4, 4, 2, 1, 4, 3, 4, 4, 2, 2, 2, 4, 1, 4, 2, 2, 2, 4, 2, 2, 4, 4, 1, 4, 4, 4, 4, 4, 2, 4, 1, 2, 4, 2, 1, 2, 2, 3, 4, 2, 2, 1, 2, 4, 4, 0, 4, 1, 4, 4, 2, 4, 2, 1, 2, 1, 2, 4, 2, 4, 2, 2, 2, 1, 2, 2, 3, 1, 4, 1, 4, 1, 2, 4, 1, 2, 4, 2, 2, 4, 1, 2, 4, 2, 2, 1, 4, 4, 4, 4, 2, 4, 2, 4, 2, 2, 2, 1, 2, 1, 2, 4, 2, 1, 4, 4, 2, 1, 2, 1, 2, 1, 1, 4, 4, 3, 3, 3, 4, 2, 4, 2, 4, 3, 4, 4, 1, 2, 1, 3, 2, 2, 2, 2, 4, 4, 2, 3, 4, 2, 1, 2, 2, 4, 3, 1, 2, 2, 2, 1, 4, 1, 4, 2, 1, 4, 4, 1, 2, 1, 4, 1, 2, 2, 2, 2, 2, 2, 2, 4, 2, 4, 1, 4, 0, 1, 2, 2, 1, 2, 2, 1, 2, 2, 2, 2, 2, 2, 4, 2, 4, 3, 4, 4, 1, 2, 2, 2, 4, 3, 2, 1, 2, 4, 1, 2, 4, 4, 4, 4, 4, 4, 1, 0, 4, 4, 2, 2, 2, 4, 2, 2, 4, 4, 1, 4, 2, 1, 2, 2, 1, 1, 4, 4, 1, 4, 2, 4, 4, 1, 2, 2, 4, 4, 4, 2, 2, 2, 2, 1, 4, 2, 4, 2, 4, 4, 2, 4, 2, 2, 4, 2, 4, 4, 2, 1, 4, 4, 1, 4, 0, 4, 2, 4, 4, 3, 2, 4, 2, 2, 4, 1, 2, 4, 4, 4, 4, 1, 1, 2, 2, 3, 4, 2, 2, 2, 1, 4, 1, 4, 4, 4, 1, 4, 4, 4, 4, 4, 2, 2, 3, 4, 4, 3, 4, 2, 4, 2, 1, 1, 3, 1, 2, 4, 3, 4, 2, 4, 1, 1, 4, 1, 4, 1, 4, 2, 2, 1, 2, 2, 4, 4, 2, 2, 4, 2, 4, 4, 3, 2, 4, 2, 4, 4, 2, 2, 2, 2, 2, 4, 2, 1, 2, 4, 2, 3, 2, 2, 1, 1, 2, 1, 1, 4, 2, 4, 4, 2, 4, 1, 4, 1, 2, 2, 4, 2, 2, 4, 2, 4, 2, 4, 2, 4, 4, 0, 4, 3, 1, 1, 2, 4, 2, 1, 3, 4, 1, 4, 4, 1, 1, 2, 2, 1, 1, 1, 2, 2, 4, 1, 1, 2, 4, 1, 2, 4, 4, 2, 4, 4, 4, 2, 2, 1, 4, 2, 2, 2, 1, 2, 1, 4, 1, 4, 2, 3, 2, 4, 4, 2, 3, 1, 4, 1, 2, 2, 4, 4, 3, 1, 1, 4, 1, 2, 2, 1, 4, 2, 3, 1, 4, 2, 2, 2, 4, 1, 1, 2, 2, 2, 2, 4, 1, 2, 4, 1, 2, 2, 1, 1, 2, 2, 4, 4, 4, 1, 4, 2, 2, 4, 1, 1, 4, 1, 4, 2, 4, 4, 1, 3, 1, 4, 4, 2, 2, 1, 4, 2, 1, 4, 2, 2, 4, 2, 2, 3, 4, 4, 4, 2, 1, 2, 4, 2, 4, 2, 4, 2, 0, 2, 2, 1, 4, 2, 4, 1, 2, 2, 2, 1, 1, 1, 3, 4, 4, 1, 1, 1, 2, 1, 1, 4, 2, 2, 4, 4, 1, 4, 4, 2, 1, 3, 3, 4, 2, 4, 4, 1, 4, 2, 1, 4, 1, 2, 4, 4, 4, 4, 1, 1, 4, 1, 1, 2, 2, 2, 2, 4, 1, 4, 4, 2, 1, 1, 4, 4, 2, 3, 2, 4, 1, 2, 0, 2, 3, 1, 4, 4, 2, 1, 1, 2, 4, 4, 4, 4, 4, 4, 4, 2, 2, 4, 2, 4, 4, 4, 4, 2, 2, 2, 2, 4, 4, 4, 1, 1, 4, 1, 2, 4, 1, 2, 4, 1, 1, 3, 4, 1, 2, 4, 2, 4, 3, 2, 1, 4, 1, 3, 2, 4, 2, 4, 2, 4, 2, 2, 3, 4, 1, 2, 2, 4, 1, 4, 2, 4, 4, 4, 4, 4, 1, 4, 2, 4, 2, 4, 4, 2, 4, 2, 2, 1, 3, 2, 2, 4, 3, 2, 2, 2, 1, 1, 1, 2, 2, 4, 4, 2, 1, 4, 3, 4, 2, 1, 4, 2, 2, 4, 4, 4, 4, 1, 1, 4, 2, 0, 4, 2, 3, 4, 2, 2, 4, 4, 4, 4, 2, 4, 2, 4, 1, 1, 2, 1, 1, 1, 4, 2, 4, 4, 4, 2, 4, 2, 2, 2, 4, 2, 4, 4, 1, 1, 4, 2, 4, 2, 1, 1, 4, 4, 4, 4, 4, 4, 2, 2, 2, 4, 2, 0, 4, 4, 4, 4, 2, 4, 1, 2, 4, 4, 4, 2, 4, 4, 1, 4, 1, 2, 2, 2, 2, 4, 2, 2, 1, 4, 3, 2, 4, 2, 4, 4, 2, 2, 3, 3, 4, 4, 3, 2, 4, 1, 2, 4, 3, 2, 1, 4, 2, 2, 4, 1, 4, 4, 4, 4, 4, 4, 4, 2, 2, 2, 2, 2, 4, 4, 4, 4, 1, 1, 2, 1, 4, 2, 1, 2, 3, 4, 4, 4, 4, 1, 4, 1, 2, 4, 1, 4, 2, 1, 3, 2, 4, 1, 2, 4, 1, 4, 2, 4, 2, 2, 4, 4, 1, 2, 4, 4, 2, 0, 1, 4, 2, 4, 4, 4, 1, 4, 4, 1, 4, 4, 1, 2, 1, 4, 4, 4, 2, 4, 4, 2, 1, 2, 3, 2, 1, 1, 2, 1, 2, 3, 2, 4, 2, 4, 2, 4, 2, 2, 4, 1, 1, 2, 1, 4, 2, 2, 3, 1, 4, 2, 2, 1, 2, 2, 4, 4, 2, 4, 2, 2, 2, 4, 2, 2, 1, 1, 4, 4, 2, 2, 1, 4, 3, 2, 2, 4, 4, 2, 4, 2, 4, 4, 4, 3, 4, 4, 1, 4, 4, 4, 2, 3, 4, 4, 4, 4, 2, 1, 2, 3, 1, 4, 3, 1, 1, 4, 2, 1, 4, 2, 1, 4, 2, 4, 1, 4, 2, 2, 2, 4, 4, 2, 4, 1, 4, 2, 1, 4, 1, 2, 4, 2, 4, 4, 2, 1, 1, 4, 2, 4, 4, 2, 4, 1, 2, 1, 4, 4, 2, 4, 4, 4, 1, 4, 1, 2, 4, 1, 2, 1, 2, 4, 4, 2, 4, 1, 2, 2, 2, 2, 4, 2, 2, 4, 4, 3, 2, 2, 2, 4, 3, 2, 4, 4, 2, 4, 4, 2, 4, 2, 2, 2, 2, 4, 4, 4, 4, 1, 2, 4, 4, 2, 4, 2, 4, 4, 2, 2, 2, 4, 1, 1, 2, 4, 2, 1, 4, 2, 1, 1, 3, 4, 4, 2, 2, 2, 4, 3, 4, 0, 4, 4, 4, 2, 2, 1, 2, 4, 2, 3, 3, 2, 1, 2, 4, 2, 1, 4, 2, 1, 4, 2, 2, 2, 3, 4, 4, 2, 4, 1, 1, 1, 2, 2, 2, 4, 2, 4, 4, 1, 0, 2, 4, 1, 2, 4, 4, 2, 2, 4, 3, 4, 1, 4, 1, 2, 2, 2, 1, 1, 4, 2, 1, 2, 4, 2, 3, 2, 4, 2, 2, 3, 4, 1, 3, 2, 1, 1, 4, 1, 4, 2, 2, 2, 2, 4, 4, 4, 4, 1, 2, 3, 2, 2, 3, 2, 3, 1, 2, 4, 2, 3, 4, 4, 2, 2, 2, 4, 1, 4, 2, 4, 4, 4, 2, 1, 4, 4, 2, 1, 4, 2, 1, 4, 4, 1, 4, 2, 2, 2, 4, 3, 2, 4, 4, 4, 4, 2, 2, 2, 4, 2, 2, 1, 4, 1, 4, 4, 3, 1, 4, 2, 1, 4, 2, 4, 4, 4, 2, 2, 1, 1, 4, 1, 1, 4, 4, 2, 2, 4, 4, 4, 4, 4, 1, 1, 2, 4, 4, 4, 1, 4, 4, 4, 4, 4, 3, 2, 2, 4, 4, 1, 1, 1, 2, 4, 2, 2, 1, 2, 4, 1, 2, 2, 4, 4, 2, 2, 4, 2, 4, 1, 1, 1, 4, 4, 1, 2, 1, 3, 2, 4, 4, 1, 1, 2, 2, 1, 2, 2, 1, 1, 3, 0, 4, 2, 4, 3, 2, 3, 2, 2, 2, 1, 2, 2, 4, 4, 4, 2, 3, 2, 2, 1, 2, 1, 4, 1, 4, 2, 1, 4, 1, 2, 4, 4, 2, 2, 2, 2, 3, 2, 4, 2, 4, 4, 4, 4, 4, 1, 3, 2, 4, 4, 2, 2, 4, 2, 4, 2, 2, 4, 1, 2, 1, 4, 2, 4, 4, 2, 3, 4, 2, 4, 4, 4, 2, 1, 2, 1, 4, 2, 2, 3, 2, 1, 2, 4, 0, 3, 2, 1, 4, 2, 4, 4, 2, 1, 2, 1, 4, 1, 1, 4, 1, 4, 2, 2, 4, 2, 4, 4, 2, 3, 4, 2, 1, 1, 1, 1, 4, 2, 1, 1, 4, 1, 2, 3, 4, 1, 4, 4, 4, 2, 1, 2, 4, 2, 2, 4, 4, 2, 2, 1, 4, 2, 4, 4, 3, 2, 2, 3, 1, 2, 3, 1, 3, 2, 1, 1, 2, 3, 4, 0, 4, 4, 1, 2, 4, 3, 2, 4, 4, 3, 4, 2, 4, 4, 1, 4, 4, 2, 1, 4, 2, 2, 1, 1, 2, 1, 2, 2, 4, 4, 1, 2, 4, 1, 4, 1, 2, 4, 1, 2, 3, 1, 2, 4, 2, 2, 2, 4, 1, 2, 2, 2, 2, 4, 2, 2, 1, 4, 4, 4, 2, 2, 4, 4, 3, 4, 2, 1, 4, 4, 2, 1, 2, 2, 4, 4, 4, 4, 2, 2, 3, 2, 1, 4, 2, 4, 2, 2, 2, 4, 1, 1, 2, 4, 1, 4, 3, 4, 0, 2, 4, 4, 4, 4, 2, 4, 4]\n"
     ]
    }
   ],
   "source": [
    "dtc = dtc.predict(X_test)\n",
    "rf = rf.predict(X_test)\n",
    "logreg = logreg.predict(X_test)\n",
    "svm = svm.predict(X_test)\n",
    "gnb = gnb.predict(X_test)\n",
    "    \n",
    "def majorityVote(x):\n",
    "    maj = [0,0,0,0,0]\n",
    "    def majority(y):#Do this once for each classifier\n",
    "        if(y == 0):\n",
    "            maj[0] = maj[0] + 1\n",
    "        if(y == 1): \n",
    "            maj[1] = maj[1] + 1\n",
    "        if(y == 2):\n",
    "            maj[2] = maj[2] + 1\n",
    "        if(y == 3):\n",
    "            maj[3] = maj[3] + 1\n",
    "        if(y == 4):\n",
    "            maj[4] = maj[4] + 1\n",
    "    majority(dtc[x])\n",
    "    majority(rf[x])\n",
    "    majority(logreg[x])\n",
    "    majority(ktests[-1][x])\n",
    "    majority(svm[x])\n",
    "    majority(gnb[x])\n",
    "\n",
    "    if(max(maj) == maj[0]):\n",
    "        return 0\n",
    "    if(max(maj) == maj[1]):\n",
    "        return 1\n",
    "    if(max(maj) == maj[2]):\n",
    "        return 2\n",
    "    if(max(maj) == maj[3]):\n",
    "        return 3\n",
    "    if(max(maj) == maj[4]):\n",
    "        return 4\n",
    "\n",
    "combined = []\n",
    "for x in range(len(X_test)):\n",
    "    combined.append(majorityVote(x))\n",
    "print(combined)\n",
    "\n",
    "#check against actual labels"
   ]
  },
  {
   "cell_type": "code",
   "execution_count": null,
   "metadata": {},
   "outputs": [],
   "source": []
  }
 ],
 "metadata": {
  "kernelspec": {
   "display_name": "Python 3",
   "language": "python",
   "name": "python3"
  },
  "language_info": {
   "codemirror_mode": {
    "name": "ipython",
    "version": 3
   },
   "file_extension": ".py",
   "mimetype": "text/x-python",
   "name": "python",
   "nbconvert_exporter": "python",
   "pygments_lexer": "ipython3",
   "version": "3.6.4"
  }
 },
 "nbformat": 4,
 "nbformat_minor": 2
}
