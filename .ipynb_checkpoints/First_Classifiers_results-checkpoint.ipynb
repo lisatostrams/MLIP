{
 "cells": [
  {
   "cell_type": "markdown",
   "metadata": {},
   "source": [
    "# Decision tree classification\n",
    "\n",
    "First, we're starting off with a simple decision tree. Using only numerical values, we split the data on the cleanest seperation of class labels according to the gini index."
   ]
  },
  {
   "cell_type": "code",
   "execution_count": 2,
   "metadata": {},
   "outputs": [],
   "source": [
    "import numpy as np\n",
    "import pandas as pd\n",
    "import matplotlib.pyplot as plt\n",
    "\n",
    "data = pd.read_csv('Data/preprocessedTrain.csv') #import data\n",
    "X = data.loc[:, data.columns != 'AdoptionSpeed'] #create X without labels\n",
    "X = X.drop('Description',axis=1) #drop non numerical values\n",
    "X = X.drop('PetID',axis=1) #\n",
    "X = X.drop('RescuerID',axis=1)\n",
    "\n",
    "y = data['AdoptionSpeed'] #label vector\n",
    "\n",
    "attributeNames = list(X.columns.values) #for printing purposes\n",
    "classNames = ['sameDay','firstWeek','firstMonth','2nd3rdMonth','notAdopted']"
   ]
  },
  {
   "cell_type": "code",
   "execution_count": 32,
   "metadata": {},
   "outputs": [],
   "source": [
    "from sklearn import tree\n",
    "from Toolbox import treeprint\n",
    "from sklearn import model_selection\n",
    "import matplotlib.pyplot as plt\n",
    "\n",
    "test_proportion = 0.5  # set crossval proportion\n",
    "X_train, X_test, y_train, y_test = model_selection.train_test_split(X,y,test_size=test_proportion)\n",
    "levels = range(2,51)\n",
    "error = np.zeros((2,len(levels)))\n",
    "\n",
    "for t in levels:\n",
    "    dtc = tree.DecisionTreeClassifier(criterion='gini', max_depth=t) #train decision tree\n",
    "    dtc = dtc.fit(X_train,y_train)\n",
    "    \n",
    "    y_est_test = dtc.predict(X_test)\n",
    "    y_est_train = dtc.predict(X_train)\n",
    "    \n",
    "    test_class_error = 1-np.mean(y_est_test == y_test)\n",
    "    train_class_error = 1-np.mean(y_est_train == y_train)\n",
    "    error[0,t-2], error[1,t-2]= train_class_error, test_class_error\n"
   ]
  },
  {
   "cell_type": "code",
   "execution_count": 66,
   "metadata": {},
   "outputs": [
    {
     "data": {
      "image/png": "[encoded data removed]",
      "text/plain": [
       "<matplotlib.figure.Figure at 0x1fdca1e9b00>"
      ]
     },
     "metadata": {},
     "output_type": "display_data"
    },
    {
     "name": "stdout",
     "output_type": "stream",
     "text": [
      "Lowest average error is 0.3397 at 35 using 50.0 percent for testing\n",
      "Lowest unweighted error is 0.3397 at 35\n",
      "Lowest test error is 0.6174 at 3\n"
     ]
    }
   ],
   "source": [
    "plt.plot(levels, error[0,:])\n",
    "plt.plot(levels, error[1,:])\n",
    "plt.xlabel('Model complexity (max tree depth)')\n",
    "plt.ylabel('Error (misclassification rate)')\n",
    "plt.legend(['Error_train','Error_test']) \n",
    "plt.title('Cross validation over tree depth')\n",
    "plt.show()  \n",
    "errorSum = test_proportion*error[1,:] + (1-test_proportion)*error[0,:] # mean error\n",
    "error_equal = sum(error)\n",
    "print('Lowest average error is {:.4f} at {} using {} percent for testing'.format(min(errorSum), np.argmin(errorSum),test_proportion*100))\n",
    "print('Lowest unweighted error is {:.4f} at {}'.format(min(error_equal)/2,np.argmin(error_equal)))\n",
    "print('Lowest test error is {:.4f} at {}'.format(min(error[1,:]),np.argmin(error[1,:])))\n",
    "\n",
    "dtc = tree.DecisionTreeClassifier(criterion='gini', max_depth=np.argmin(errorSum)) #find relevant attributes\n",
    "dtc = dtc.fit(X,y)\n",
    "\n",
    "attribute_importance = [(attributeNames[i],dtc.feature_importances_[i]) for i in range(len(attributeNames))]\n",
    "attributes_sorted = sorted(attribute_importance, key=lambda item: item[1], reverse=True)"
   ]
  },
  {
   "cell_type": "code",
   "execution_count": 69,
   "metadata": {},
   "outputs": [
    {
     "name": "stdout",
     "output_type": "stream",
     "text": [
      "Features in order of importance:\n",
      "PhotoAmt: 0.0954\n",
      "Age: 0.0911\n",
      "Breed1: 0.0676\n",
      "Color2: 0.0643\n",
      "Color1: 0.0567\n",
      "State: 0.0483\n",
      "Breed2: 0.0413\n",
      "FurLength: 0.0336\n",
      "Color3: 0.0330\n",
      "Gender: 0.0323\n",
      "Quantity: 0.0297\n",
      "adopt: 0.0295\n",
      "MaturitySize: 0.0294\n",
      "Vaccinated: 0.0287\n",
      "Dewormed: 0.0281\n",
      "Fee: 0.0260\n",
      "Sterilized: 0.0248\n",
      "love: 0.0241\n",
      "play: 0.0214\n",
      "friend: 0.0204\n",
      "good: 0.0198\n",
      "health: 0.0186\n",
      "activ: 0.0152\n",
      "cute: 0.0142\n",
      "vaccin: 0.0139\n",
      "ador: 0.0129\n",
      "Name: 0.0129\n",
      "sweet: 0.0118\n",
      "abandon: 0.0091\n",
      "beaut: 0.0086\n",
      "VideoAmt: 0.0081\n",
      "Health: 0.0073\n",
      "great: 0.0061\n",
      "fun: 0.0058\n",
      "best: 0.0042\n",
      "energ: 0.0037\n",
      "Type: 0.0025\n"
     ]
    }
   ],
   "source": [
    "print('Features in order of importance:')\n",
    "print(*['{}: {:.4f}'.format(i[0],i[1]) for i in attributes_sorted],sep='\\n')"
   ]
  },
  {
   "cell_type": "code",
   "execution_count": 68,
   "metadata": {
    "scrolled": false
   },
   "outputs": [
    {
     "name": "stdout",
     "output_type": "stream",
     "text": [
      "               |->5  firstWeek\n",
      "               |\n",
      "            |->4 then if Name =< 0.50: go to 5, else go to 6\n",
      "            |  |\n",
      "            |  |->6  2nd3rdMonth\n",
      "            |\n",
      "         |->3 then if Type =< 1.50: go to 4, else go to 7\n",
      "         |  |\n",
      "         |  |  |->8  notAdopted\n",
      "         |  |  |\n",
      "         |  |->7 else if Color3 =< 6.50: go to 8, else go to 9\n",
      "         |     |\n",
      "         |     |->9  notAdopted\n",
      "         |\n",
      "      |->2 then if PhotoAmt =< 0.50: go to 3, else go to 10\n",
      "      |  |\n",
      "      |  |     |->12  firstWeek\n",
      "      |  |     |\n",
      "      |  |  |->11 then if Quantity =< 3.50: go to 12, else go to 13\n",
      "      |  |  |  |\n",
      "      |  |  |  |->13  firstMonth\n",
      "      |  |  |\n",
      "      |  |->10 else if Breed2 =< 306.50: go to 11, else go to 14\n",
      "      |     |\n",
      "      |     |  |->15  2nd3rdMonth\n",
      "      |     |  |\n",
      "      |     |->14 else if Dewormed =< 2.50: go to 15, else go to 16\n",
      "      |        |\n",
      "      |        |->16  2nd3rdMonth\n",
      "      |\n",
      "   |->1 then if Breed1 =< 306.50: go to 2, else go to 17\n",
      "   |  |\n",
      "   |  |        |->20  firstMonth\n",
      "   |  |        |\n",
      "   |  |     |->19 then if Quantity =< 2.50: go to 20, else go to 21\n",
      "   |  |     |  |\n",
      "   |  |     |  |->21  notAdopted\n",
      "   |  |     |\n",
      "   |  |  |->18 then if PhotoAmt =< 6.50: go to 19, else go to 22\n",
      "   |  |  |  |\n",
      "   |  |  |  |  |->23  notAdopted\n",
      "   |  |  |  |  |\n",
      "   |  |  |  |->22 else if Sterilized =< 1.50: go to 23, else go to 24\n",
      "   |  |  |     |\n",
      "   |  |  |     |->24  2nd3rdMonth\n",
      "   |  |  |\n",
      "   |  |->17 else if Sterilized =< 2.50: go to 18, else go to 25\n",
      "   |     |\n",
      "   |     |     |->27  notAdopted\n",
      "   |     |     |\n",
      "   |     |  |->26 then if Vaccinated =< 1.50: go to 27, else go to 28\n",
      "   |     |  |  |\n",
      "   |     |  |  |->28  notAdopted\n",
      "   |     |  |\n",
      "   |     |->25 else if State =< 41325.50: go to 26, else go to 29\n",
      "   |        |\n",
      "   |        |  |->30  notAdopted\n",
      "   |        |  |\n",
      "   |        |->29 else if State =< 41326.50: go to 30, else go to 31\n",
      "   |           |\n",
      "   |           |->31  notAdopted\n",
      "   |\n",
      "if Age =< 3.50: go to 1, else go to 32\n",
      "   |\n",
      "   |           |->36  firstWeek\n",
      "   |           |\n",
      "   |        |->35 then if Age =< 61.00: go to 36, else go to 37\n",
      "   |        |  |\n",
      "   |        |  |->37  firstMonth\n",
      "   |        |\n",
      "   |     |->34 then if Breed2 =< 120.50: go to 35, else go to 38\n",
      "   |     |  |\n",
      "   |     |  |  |->39  notAdopted\n",
      "   |     |  |  |\n",
      "   |     |  |->38 else if PhotoAmt =< 5.50: go to 39, else go to 40\n",
      "   |     |     |\n",
      "   |     |     |->40  2nd3rdMonth\n",
      "   |     |\n",
      "   |  |->33 then if Breed1 =< 209.50: go to 34, else go to 41\n",
      "   |  |  |\n",
      "   |  |  |     |->43  firstMonth\n",
      "   |  |  |     |\n",
      "   |  |  |  |->42 then if Quantity =< 1.50: go to 43, else go to 44\n",
      "   |  |  |  |  |\n",
      "   |  |  |  |  |->44  notAdopted\n",
      "   |  |  |  |\n",
      "   |  |  |->41 else if Age =< 5.50: go to 42, else go to 45\n",
      "   |  |     |\n",
      "   |  |     |  |->46  notAdopted\n",
      "   |  |     |  |\n",
      "   |  |     |->45 else if FurLength =< 2.50: go to 46, else go to 47\n",
      "   |  |        |\n",
      "   |  |        |->47  firstWeek\n",
      "   |  |\n",
      "   |->32 else if Breed1 =< 303.50: go to 33, else go to 48\n",
      "      |\n",
      "      |        |->51  notAdopted\n",
      "      |        |\n",
      "      |     |->50 then if best =< 0.50: go to 51, else go to 52\n",
      "      |     |  |\n",
      "      |     |  |->52  firstMonth\n",
      "      |     |\n",
      "      |  |->49 then if PhotoAmt =< 0.50: go to 50, else go to 53\n",
      "      |  |  |\n",
      "      |  |  |  |->54  notAdopted\n",
      "      |  |  |  |\n",
      "      |  |  |->53 else if Age =< 5.50: go to 54, else go to 55\n",
      "      |  |     |\n",
      "      |  |     |->55  notAdopted\n",
      "      |  |\n",
      "      |->48 else if PhotoAmt =< 3.50: go to 49, else go to 56\n",
      "         |\n",
      "         |     |->58  notAdopted\n",
      "         |     |\n",
      "         |  |->57 then if Quantity =< 2.50: go to 58, else go to 59\n",
      "         |  |  |\n",
      "         |  |  |->59  notAdopted\n",
      "         |  |\n",
      "         |->56 else if Age =< 15.50: go to 57, else go to 60\n",
      "            |\n",
      "            |  |->61  notAdopted\n",
      "            |  |\n",
      "            |->60 else if Vaccinated =< 2.50: go to 61, else go to 62\n",
      "               |\n",
      "               |->62  notAdopted\n",
      "<----------------------->\n",
      "Tree Depth:  5\n"
     ]
    }
   ],
   "source": [
    "dtc = tree.DecisionTreeClassifier(criterion='gini', max_depth = 5)\n",
    "dtc = dtc.fit(X,y)\n",
    "\n",
    "\n",
    "treeprint.tree_print(dtc, attributeNames, classNames) #plot smol tree\n",
    "\n"
   ]
  },
  {
   "cell_type": "markdown",
   "metadata": {},
   "source": [
    "### Decision tree classifier results\n",
    "\n",
    "Based on the small decision tree, the most important factors in order are: Age, breed, photo. Other relevant factors are Vaccinated, certain key words in the description.\n",
    "\n",
    "Based on the error plots, the model does not generalize well to test data. "
   ]
  },
  {
   "cell_type": "markdown",
   "metadata": {},
   "source": [
    "# Random forest\n",
    "\n",
    "Now we try with a random forest of decision trees."
   ]
  },
  {
   "cell_type": "code",
   "execution_count": 35,
   "metadata": {},
   "outputs": [],
   "source": [
    "# Import the model we are using\n",
    "from sklearn.ensemble import RandomForestRegressor\n",
    "\n",
    "estimators = np.logspace(1,4,num=4,base=10)\n",
    "error = np.zeros((2,len(estimators)))\n",
    "\n",
    "for n_e in estimators:\n",
    "    rf = RandomForestRegressor(n_estimators = int(n_e))\n",
    "    # Train the model on training data\n",
    "    rf.fit(X_train, y_train)\n",
    "    \n",
    "    y_est_test = dtc.predict(X_test)\n",
    "    y_est_train = dtc.predict(X_train)\n",
    "    \n",
    "    test_class_error = 1-np.mean(y_est_test == y_test)\n",
    "    train_class_error = 1-np.mean(y_est_train == y_train)\n",
    "    error[0,int(np.log10(n_e)-1)], error[1,int(np.log10(n_e)-1)]= train_class_error, test_class_error\n"
   ]
  },
  {
   "cell_type": "code",
   "execution_count": 48,
   "metadata": {},
   "outputs": [
    {
     "name": "stdout",
     "output_type": "stream",
     "text": [
      "Average error is 0.4610 using 50.0 percent for testing\n",
      "Unweighted error is 0.4610\n",
      "Lowest test error is 0.7063\n"
     ]
    }
   ],
   "source": [
    "plt.plot(levels, error[0,:])\n",
    "plt.plot(levels, error[1,:])\n",
    "plt.xlabel('Model complexity (max tree depth)')\n",
    "plt.ylabel('Error (misclassification rate)')\n",
    "plt.legend(['Error_train','Error_test']) \n",
    "plt.title('Cross validation over tree depth')\n",
    "plt.show()  \n",
    "\n",
    "\n",
    "errorSum = test_proportion*error[1,:] + (1-test_proportion)*error[0,:] # mean error\n",
    "error_equal = sum(error)\n",
    "print('Lowest average error is {:.4f} at {} using {} percent for testing'.format(min(errorSum), np.argmin(errorSum),test_proportion*100))\n",
    "print('Lowest unweighted error is {:.4f} at {}'.format(min(error_equal)/2,np.argmin(error_equal)))\n",
    "print('Lowest test error is {:.4f} at {}'.format(min(error[1,:]),np.argmin(error[1,:])))\n"
   ]
  }
 ],
 "metadata": {
  "kernelspec": {
   "display_name": "Python 3",
   "language": "python",
   "name": "python3"
  },
  "language_info": {
   "codemirror_mode": {
    "name": "ipython",
    "version": 3
   },
   "file_extension": ".py",
   "mimetype": "text/x-python",
   "name": "python",
   "nbconvert_exporter": "python",
   "pygments_lexer": "ipython3",
   "version": "3.6.4"
  }
 },
 "nbformat": 4,
 "nbformat_minor": 2
}
