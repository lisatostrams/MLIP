{
 "cells": [
  {
   "cell_type": "markdown",
   "metadata": {},
   "source": [
    "# Decision tree classification\n",
    "\n",
    "First, we're starting off with a simple decision tree. Using only numerical values, we split the data on the cleanest seperation of class labels according to the gini index."
   ]
  },
  {
   "cell_type": "code",
   "execution_count": 33,
   "metadata": {},
   "outputs": [],
   "source": [
    "import numpy as np\n",
    "import pandas as pd\n",
    "import matplotlib.pyplot as plt\n",
    "\n",
    "data = pd.read_csv('Data/preprocessedTrain.csv') #import data\n",
    "X = data.loc[:, data.columns != 'AdoptionSpeed'] #create X without labels\n",
    "X = X.drop('Description',axis=1) #drop non numerical values\n",
    "X = X.drop('PetID',axis=1) #\n",
    "X = X.drop('RescuerID',axis=1)\n",
    "\n",
    "y = data['AdoptionSpeed'] #label vector\n",
    "\n",
    "attributeNames = list(X.columns.values) #for printing purposes\n",
    "classNames = ['sameDay','firstWeek','firstMonth','2nd3rdMonth','notAdopted']"
   ]
  },
  {
   "cell_type": "code",
   "execution_count": 34,
   "metadata": {},
   "outputs": [],
   "source": [
    "from sklearn import tree\n",
    "from Toolbox import treeprint\n",
    "from sklearn import model_selection\n",
    "import matplotlib.pyplot as plt\n",
    "\n",
    "test_proportion = 0.5  # set crossval proportion\n",
    "X_train, X_test, y_train, y_test = model_selection.train_test_split(X,y,test_size=test_proportion)\n",
    "levels = range(2,51)\n",
    "error = np.zeros((2,len(levels)))\n",
    "\n",
    "for t in levels:\n",
    "    dtc = tree.DecisionTreeClassifier(criterion='gini', max_depth=t) #train decision tree\n",
    "    dtc = dtc.fit(X_train,y_train)\n",
    "    \n",
    "    y_est_test = dtc.predict(X_test)\n",
    "    y_est_train = dtc.predict(X_train)\n",
    "    \n",
    "    test_class_error = 1-np.mean(y_est_test == y_test)\n",
    "    train_class_error = 1-np.mean(y_est_train == y_train)\n",
    "    error[0,t-2], error[1,t-2]= train_class_error, test_class_error\n"
   ]
  },
  {
   "cell_type": "code",
   "execution_count": 35,
   "metadata": {},
   "outputs": [
    {
     "data": {
      "image/png": "[encoded data removed]",
      "text/plain": [
       "<Figure size 432x288 with 1 Axes>"
      ]
     },
     "metadata": {
      "needs_background": "light"
     },
     "output_type": "display_data"
    },
    {
     "name": "stdout",
     "output_type": "stream",
     "text": [
      "Lowest average error is 0.3380 at 42 using 50.0 percent for testing\n",
      "Lowest unweighted error is 0.3380 at 42\n",
      "Lowest test error is 0.6305 at 7\n"
     ]
    }
   ],
   "source": [
    "plt.plot(levels, error[0,:])\n",
    "plt.plot(levels, error[1,:])\n",
    "plt.xlabel('Model complexity (max tree depth)')\n",
    "plt.ylabel('Error (misclassification rate)')\n",
    "plt.legend(['Error_train','Error_test']) \n",
    "plt.title('Cross validation over tree depth')\n",
    "plt.show()  \n",
    "errorSum = test_proportion*error[1,:] + (1-test_proportion)*error[0,:] # mean error\n",
    "error_equal = sum(error)\n",
    "print('Lowest average error is {:.4f} at {} using {} percent for testing'.format(min(errorSum), np.argmin(errorSum),test_proportion*100))\n",
    "print('Lowest unweighted error is {:.4f} at {}'.format(min(error_equal)/2,np.argmin(error_equal)))\n",
    "print('Lowest test error is {:.4f} at {}'.format(min(error[1,:]),np.argmin(error[1,:])))\n",
    "\n",
    "dtc = tree.DecisionTreeClassifier(criterion='gini', max_depth=np.argmin(errorSum)) #find relevant attributes\n",
    "dtc = dtc.fit(X,y)\n",
    "\n",
    "attribute_importance = [(attributeNames[i],dtc.feature_importances_[i]) for i in range(len(attributeNames))]\n",
    "attributes_sorted = sorted(attribute_importance, key=lambda item: item[1], reverse=True)"
   ]
  },
  {
   "cell_type": "code",
   "execution_count": 36,
   "metadata": {},
   "outputs": [
    {
     "name": "stdout",
     "output_type": "stream",
     "text": [
      "Features in order of importance:\n",
      "PhotoAmt: 0.0963\n",
      "Age: 0.0912\n",
      "Breed1: 0.0690\n",
      "Color2: 0.0667\n",
      "Color1: 0.0589\n",
      "State: 0.0500\n",
      "Breed2: 0.0395\n",
      "FurLength: 0.0333\n",
      "Gender: 0.0326\n",
      "Color3: 0.0318\n",
      "MaturitySize: 0.0316\n",
      "adopt: 0.0297\n",
      "Quantity: 0.0291\n",
      "Vaccinated: 0.0287\n",
      "Dewormed: 0.0274\n",
      "Fee: 0.0263\n",
      "Sterilized: 0.0235\n",
      "love: 0.0235\n",
      "play: 0.0207\n",
      "friend: 0.0206\n",
      "good: 0.0201\n",
      "health: 0.0169\n",
      "vaccin: 0.0153\n",
      "activ: 0.0140\n",
      "cute: 0.0133\n",
      "Name: 0.0123\n",
      "ador: 0.0121\n",
      "sweet: 0.0116\n",
      "abandon: 0.0089\n",
      "VideoAmt: 0.0089\n",
      "beaut: 0.0086\n",
      "Health: 0.0063\n",
      "great: 0.0058\n",
      "fun: 0.0058\n",
      "best: 0.0041\n",
      "energ: 0.0034\n",
      "Type: 0.0019\n"
     ]
    }
   ],
   "source": [
    "print('Features in order of importance:')\n",
    "print(*['{}: {:.4f}'.format(i[0],i[1]) for i in attributes_sorted],sep='\\n')"
   ]
  },
  {
   "cell_type": "code",
   "execution_count": 37,
   "metadata": {
    "scrolled": false
   },
   "outputs": [
    {
     "name": "stdout",
     "output_type": "stream",
     "text": [
      "               |->5  firstWeek\n",
      "               |\n",
      "            |->4 then if Name =< 0.50: go to 5, else go to 6\n",
      "            |  |\n",
      "            |  |->6  2nd3rdMonth\n",
      "            |\n",
      "         |->3 then if Type =< 1.50: go to 4, else go to 7\n",
      "         |  |\n",
      "         |  |  |->8  notAdopted\n",
      "         |  |  |\n",
      "         |  |->7 else if Color3 =< 6.50: go to 8, else go to 9\n",
      "         |     |\n",
      "         |     |->9  notAdopted\n",
      "         |\n",
      "      |->2 then if PhotoAmt =< 0.50: go to 3, else go to 10\n",
      "      |  |\n",
      "      |  |     |->12  firstWeek\n",
      "      |  |     |\n",
      "      |  |  |->11 then if Quantity =< 3.50: go to 12, else go to 13\n",
      "      |  |  |  |\n",
      "      |  |  |  |->13  firstMonth\n",
      "      |  |  |\n",
      "      |  |->10 else if Breed2 =< 306.50: go to 11, else go to 14\n",
      "      |     |\n",
      "      |     |  |->15  2nd3rdMonth\n",
      "      |     |  |\n",
      "      |     |->14 else if Dewormed =< 2.50: go to 15, else go to 16\n",
      "      |        |\n",
      "      |        |->16  2nd3rdMonth\n",
      "      |\n",
      "   |->1 then if Breed1 =< 306.50: go to 2, else go to 17\n",
      "   |  |\n",
      "   |  |        |->20  firstMonth\n",
      "   |  |        |\n",
      "   |  |     |->19 then if Quantity =< 2.50: go to 20, else go to 21\n",
      "   |  |     |  |\n",
      "   |  |     |  |->21  notAdopted\n",
      "   |  |     |\n",
      "   |  |  |->18 then if PhotoAmt =< 6.50: go to 19, else go to 22\n",
      "   |  |  |  |\n",
      "   |  |  |  |  |->23  notAdopted\n",
      "   |  |  |  |  |\n",
      "   |  |  |  |->22 else if Sterilized =< 1.50: go to 23, else go to 24\n",
      "   |  |  |     |\n",
      "   |  |  |     |->24  2nd3rdMonth\n",
      "   |  |  |\n",
      "   |  |->17 else if Sterilized =< 2.50: go to 18, else go to 25\n",
      "   |     |\n",
      "   |     |     |->27  notAdopted\n",
      "   |     |     |\n",
      "   |     |  |->26 then if Vaccinated =< 1.50: go to 27, else go to 28\n",
      "   |     |  |  |\n",
      "   |     |  |  |->28  notAdopted\n",
      "   |     |  |\n",
      "   |     |->25 else if State =< 41325.50: go to 26, else go to 29\n",
      "   |        |\n",
      "   |        |  |->30  notAdopted\n",
      "   |        |  |\n",
      "   |        |->29 else if State =< 41326.50: go to 30, else go to 31\n",
      "   |           |\n",
      "   |           |->31  notAdopted\n",
      "   |\n",
      "if Age =< 3.50: go to 1, else go to 32\n",
      "   |\n",
      "   |           |->36  firstWeek\n",
      "   |           |\n",
      "   |        |->35 then if Age =< 61.00: go to 36, else go to 37\n",
      "   |        |  |\n",
      "   |        |  |->37  firstMonth\n",
      "   |        |\n",
      "   |     |->34 then if Breed2 =< 120.50: go to 35, else go to 38\n",
      "   |     |  |\n",
      "   |     |  |  |->39  notAdopted\n",
      "   |     |  |  |\n",
      "   |     |  |->38 else if PhotoAmt =< 5.50: go to 39, else go to 40\n",
      "   |     |     |\n",
      "   |     |     |->40  2nd3rdMonth\n",
      "   |     |\n",
      "   |  |->33 then if Breed1 =< 209.50: go to 34, else go to 41\n",
      "   |  |  |\n",
      "   |  |  |     |->43  firstMonth\n",
      "   |  |  |     |\n",
      "   |  |  |  |->42 then if Quantity =< 1.50: go to 43, else go to 44\n",
      "   |  |  |  |  |\n",
      "   |  |  |  |  |->44  notAdopted\n",
      "   |  |  |  |\n",
      "   |  |  |->41 else if Age =< 5.50: go to 42, else go to 45\n",
      "   |  |     |\n",
      "   |  |     |  |->46  notAdopted\n",
      "   |  |     |  |\n",
      "   |  |     |->45 else if FurLength =< 2.50: go to 46, else go to 47\n",
      "   |  |        |\n",
      "   |  |        |->47  firstWeek\n",
      "   |  |\n",
      "   |->32 else if Breed1 =< 303.50: go to 33, else go to 48\n",
      "      |\n",
      "      |        |->51  notAdopted\n",
      "      |        |\n",
      "      |     |->50 then if best =< 0.50: go to 51, else go to 52\n",
      "      |     |  |\n",
      "      |     |  |->52  firstMonth\n",
      "      |     |\n",
      "      |  |->49 then if PhotoAmt =< 0.50: go to 50, else go to 53\n",
      "      |  |  |\n",
      "      |  |  |  |->54  notAdopted\n",
      "      |  |  |  |\n",
      "      |  |  |->53 else if Age =< 5.50: go to 54, else go to 55\n",
      "      |  |     |\n",
      "      |  |     |->55  notAdopted\n",
      "      |  |\n",
      "      |->48 else if PhotoAmt =< 3.50: go to 49, else go to 56\n",
      "         |\n",
      "         |     |->58  notAdopted\n",
      "         |     |\n",
      "         |  |->57 then if Quantity =< 2.50: go to 58, else go to 59\n",
      "         |  |  |\n",
      "         |  |  |->59  notAdopted\n",
      "         |  |\n",
      "         |->56 else if Age =< 15.50: go to 57, else go to 60\n",
      "            |\n",
      "            |  |->61  notAdopted\n",
      "            |  |\n",
      "            |->60 else if Vaccinated =< 2.50: go to 61, else go to 62\n",
      "               |\n",
      "               |->62  notAdopted\n",
      "<----------------------->\n",
      "Tree Depth:  5\n"
     ]
    }
   ],
   "source": [
    "dtc = tree.DecisionTreeClassifier(criterion='gini', max_depth = 5)\n",
    "dtc = dtc.fit(X,y)\n",
    "\n",
    "\n",
    "treeprint.tree_print(dtc, attributeNames, classNames) #plot smol tree\n",
    "\n",
    "\n",
    "\n"
   ]
  },
  {
   "cell_type": "code",
   "execution_count": 38,
   "metadata": {},
   "outputs": [],
   "source": [
    "#print(X_train)\n",
    "#help(tree._tree.Tree)\n",
    "#X_train.sf()\n",
    "treeRows = []\n",
    "afterTree = dtc.predict(X_test)#predicted from tree\n"
   ]
  },
  {
   "cell_type": "markdown",
   "metadata": {},
   "source": [
    "### Decision tree classifier results\n",
    "\n",
    "Based on the small decision tree, the most important factors in order are: Age, breed, photo. Other relevant factors are Vaccinated, certain key words in the description.\n",
    "\n",
    "Based on the error plots, the model does not generalize well to test data. "
   ]
  },
  {
   "cell_type": "markdown",
   "metadata": {},
   "source": [
    "# Random forest\n",
    "\n",
    "Now we try with a random forest of decision trees."
   ]
  },
  {
   "cell_type": "code",
   "execution_count": 39,
   "metadata": {},
   "outputs": [],
   "source": [
    "# Import the model we are using\n",
    "from sklearn.ensemble import RandomForestRegressor\n",
    "\n",
    "estimators = np.logspace(1,3,num=3,base=10)\n",
    "error = np.zeros((2,len(estimators)))\n",
    "\n",
    "for n_e in estimators:\n",
    "    rf = RandomForestRegressor(n_estimators = int(n_e))\n",
    "    # Train the model on training data\n",
    "    rf = rf.fit(X_train, y_train)\n",
    "    \n",
    "    y_est_test = rf.predict(X_test)\n",
    "    y_est_train = rf.predict(X_train)\n",
    "    \n",
    "    test_class_error = 1-np.mean(np.round(y_est_test,0) == y_test)\n",
    "    train_class_error = 1-np.mean(np.round(y_est_train,0) == y_train)\n",
    "    error[0,int(np.log10(n_e)-1)], error[1,int(np.log10(n_e)-1)]= train_class_error, test_class_error\n"
   ]
  },
  {
   "cell_type": "code",
   "execution_count": 40,
   "metadata": {},
   "outputs": [
    {
     "data": {
      "image/png": "[encoded data removed]",
      "text/plain": [
       "<Figure size 432x288 with 1 Axes>"
      ]
     },
     "metadata": {
      "needs_background": "light"
     },
     "output_type": "display_data"
    },
    {
     "name": "stdout",
     "output_type": "stream",
     "text": [
      "Lowest average error is 0.4609 at 1000.0 using 50.0 percent for testing\n",
      "Lowest unweighted error is 0.4609 at 1000.0\n",
      "Lowest test error is 0.6915 at 0\n",
      "[[0.27134472 0.22158485 0.21811633]\n",
      " [0.69147659 0.70708283 0.70374817]]\n"
     ]
    }
   ],
   "source": [
    "plt.semilogx(estimators, error[0,:])\n",
    "plt.semilogx(estimators, error[1,:])\n",
    "plt.xlabel('Model complexity (max tree depth)')\n",
    "plt.ylabel('Error (misclassification rate)')\n",
    "plt.legend(['Error_train','Error_test']) \n",
    "plt.title('Cross validation over number of trees in forest')\n",
    "plt.show()  \n",
    "\n",
    "\n",
    "errorSum = test_proportion*error[1,:] + (1-test_proportion)*error[0,:] # mean error\n",
    "error_equal = sum(error)\n",
    "print('Lowest average error is {:.4f} at {} using {} percent for testing'.format(min(errorSum), estimators[np.argmin(errorSum)],test_proportion*100))\n",
    "print('Lowest unweighted error is {:.4f} at {}'.format(min(error_equal)/2,estimators[np.argmin(error_equal)]))\n",
    "print('Lowest test error is {:.4f} at {}'.format(min(error[1,:]),np.argmin(error[1,:])))\n",
    "\n",
    "print(error)"
   ]
  },
  {
   "cell_type": "code",
   "execution_count": null,
   "metadata": {},
   "outputs": [],
   "source": []
  },
  {
   "cell_type": "markdown",
   "metadata": {},
   "source": [
    "### Random forest results\n",
    "\n",
    "Does not seem to perform better than a single decision tree."
   ]
  },
  {
   "cell_type": "markdown",
   "metadata": {},
   "source": [
    "# Logistic regression"
   ]
  },
  {
   "cell_type": "code",
   "execution_count": 41,
   "metadata": {},
   "outputs": [
    {
     "name": "stdout",
     "output_type": "stream",
     "text": [
      "Test error: 0.6849\n",
      "Training error: 0.6796\n"
     ]
    }
   ],
   "source": [
    "from sklearn.linear_model import LogisticRegression\n",
    "logreg = LogisticRegression()\n",
    "logreg.fit(X_train, y_train)\n",
    "\n",
    "y_est_test = logreg.predict(X_test)\n",
    "y_est_train = logreg.predict(X_train)\n",
    "\n",
    "test_class_error = 1-np.mean(np.round(y_est_test,0) == y_test)\n",
    "train_class_error = 1-np.mean(np.round(y_est_train,0) == y_train)\n",
    "\n",
    "print('Test error: {:.4f}'.format(test_class_error))\n",
    "print('Training error: {:.4f}'.format(train_class_error))"
   ]
  },
  {
   "cell_type": "markdown",
   "metadata": {},
   "source": [
    "# K-Nearest Neighbors"
   ]
  },
  {
   "cell_type": "code",
   "execution_count": 42,
   "metadata": {},
   "outputs": [
    {
     "name": "stdout",
     "output_type": "stream",
     "text": [
      "Test error k =  2 : 0.7100\n",
      "Training error k =  2 : 0.3513\n",
      "Test error k =  3 : 0.6884\n",
      "Training error k =  3 : 0.3930\n",
      "Test error k =  4 : 0.6879\n",
      "Training error k =  4 : 0.4325\n",
      "Test error k =  5 : 0.6755\n",
      "Training error k =  5 : 0.4586\n",
      "Test error k =  6 : 0.6741\n",
      "Training error k =  6 : 0.4848\n",
      "Test error k =  7 : 0.6705\n",
      "Training error k =  7 : 0.4957\n",
      "Test error k =  8 : 0.6780\n",
      "Training error k =  8 : 0.5013\n",
      "Test error k =  9 : 0.6705\n",
      "Training error k =  9 : 0.5147\n",
      "Test error k =  10 : 0.6680\n",
      "Training error k =  10 : 0.5279\n",
      "Test error k =  11 : 0.6688\n",
      "Training error k =  11 : 0.5348\n",
      "Test error k =  12 : 0.6656\n",
      "Training error k =  12 : 0.5390\n",
      "Test error k =  13 : 0.6644\n",
      "Training error k =  13 : 0.5423\n",
      "Test error k =  14 : 0.6643\n",
      "Training error k =  14 : 0.5484\n",
      "Test error k =  15 : 0.6608\n",
      "Training error k =  15 : 0.5502\n",
      "Test error k =  16 : 0.6625\n",
      "Training error k =  16 : 0.5544\n",
      "Lowest average error is 0.6608 at 2 using 50.0 percent for testing\n",
      "Lowest unweighted error is 0.5306 at 2\n",
      "Lowest test error is 0.6608 at 13\n"
     ]
    }
   ],
   "source": [
    "from sklearn.neighbors import KNeighborsClassifier\n",
    "ks = []\n",
    "y_est_tests = []\n",
    "y_est_trains = []\n",
    "test_class_errors = []\n",
    "train_class_errors = []\n",
    "for k in range(15):\n",
    "    ks.append(KNeighborsClassifier(k+2))\n",
    "    ks[k].fit(X_train, y_train)\n",
    "    \n",
    "    y_est_tests.append(ks[k].predict(X_test))\n",
    "    y_est_trains.append(ks[k].predict(X_train))\n",
    "    \n",
    "    test_class_errors.append(1-np.mean(np.round(y_est_tests[k],0) == y_test))\n",
    "    train_class_errors.append(1-np.mean(np.round(y_est_trains[k],0) == y_train))\n",
    "\n",
    "    print('Test error k = ', k+2 ,': {:.4f}'.format(test_class_errors[k]))\n",
    "    print('Training error k = ', k+2 ,': {:.4f}'.format(train_class_errors[k]))\n",
    "\n",
    "error = [train_class_errors, test_class_errors]\n",
    "error_equal = []\n",
    "for e in range(len(error[0])):\n",
    "    error_equal.append(error[0][e] + error[1][e])\n",
    "\n",
    "print('Lowest average error is {:.4f} at {} using {} percent for testing'.format(min(test_class_errors), np.argmin(train_class_errors)+2,test_proportion*100))\n",
    "print('Lowest unweighted error is {:.4f} at {}'.format(min(error_equal)/2,np.argmin(error_equal)+2))\n",
    "print('Lowest test error is {:.4f} at {}'.format(min(error[1]),np.argmin(error[1])))\n",
    "ktests = y_est_tests"
   ]
  },
  {
   "cell_type": "code",
   "execution_count": 43,
   "metadata": {},
   "outputs": [
    {
     "ename": "ValueError",
     "evalue": "x and y must have same first dimension, but have shapes (16,) and (15,)",
     "output_type": "error",
     "traceback": [
      "\u001b[0;31m---------------------------------------------------------------------------\u001b[0m",
      "\u001b[0;31mValueError\u001b[0m                                Traceback (most recent call last)",
      "\u001b[0;32m<ipython-input-43-3595039a2591>\u001b[0m in \u001b[0;36m<module>\u001b[0;34m()\u001b[0m\n\u001b[0;32m----> 1\u001b[0;31m \u001b[0mplt\u001b[0m\u001b[0;34m.\u001b[0m\u001b[0mplot\u001b[0m\u001b[0;34m(\u001b[0m\u001b[0mrange\u001b[0m\u001b[0;34m(\u001b[0m\u001b[0;36m1\u001b[0m\u001b[0;34m,\u001b[0m\u001b[0mlen\u001b[0m\u001b[0;34m(\u001b[0m\u001b[0mks\u001b[0m\u001b[0;34m)\u001b[0m\u001b[0;34m+\u001b[0m\u001b[0;36m2\u001b[0m\u001b[0;34m)\u001b[0m\u001b[0;34m,\u001b[0m\u001b[0mtrain_class_errors\u001b[0m\u001b[0;34m)\u001b[0m\u001b[0;34m\u001b[0m\u001b[0m\n\u001b[0m\u001b[1;32m      2\u001b[0m \u001b[0mplt\u001b[0m\u001b[0;34m.\u001b[0m\u001b[0mplot\u001b[0m\u001b[0;34m(\u001b[0m\u001b[0mrange\u001b[0m\u001b[0;34m(\u001b[0m\u001b[0;36m1\u001b[0m\u001b[0;34m,\u001b[0m\u001b[0mlen\u001b[0m\u001b[0;34m(\u001b[0m\u001b[0mks\u001b[0m\u001b[0;34m)\u001b[0m\u001b[0;34m+\u001b[0m\u001b[0;36m2\u001b[0m\u001b[0;34m)\u001b[0m\u001b[0;34m,\u001b[0m\u001b[0mtest_class_errors\u001b[0m\u001b[0;34m)\u001b[0m\u001b[0;34m\u001b[0m\u001b[0m\n\u001b[1;32m      3\u001b[0m \u001b[0mplt\u001b[0m\u001b[0;34m.\u001b[0m\u001b[0mxlabel\u001b[0m\u001b[0;34m(\u001b[0m\u001b[0;34m'k'\u001b[0m\u001b[0;34m)\u001b[0m\u001b[0;34m\u001b[0m\u001b[0m\n\u001b[1;32m      4\u001b[0m \u001b[0mplt\u001b[0m\u001b[0;34m.\u001b[0m\u001b[0mylabel\u001b[0m\u001b[0;34m(\u001b[0m\u001b[0;34m'Error (misclassification rate)'\u001b[0m\u001b[0;34m)\u001b[0m\u001b[0;34m\u001b[0m\u001b[0m\n\u001b[1;32m      5\u001b[0m \u001b[0mplt\u001b[0m\u001b[0;34m.\u001b[0m\u001b[0mlegend\u001b[0m\u001b[0;34m(\u001b[0m\u001b[0;34m[\u001b[0m\u001b[0;34m'Error_train'\u001b[0m\u001b[0;34m,\u001b[0m\u001b[0;34m'Error_test'\u001b[0m\u001b[0;34m]\u001b[0m\u001b[0;34m)\u001b[0m\u001b[0;34m\u001b[0m\u001b[0m\n",
      "\u001b[0;32m/anaconda3/lib/python3.5/site-packages/matplotlib/pyplot.py\u001b[0m in \u001b[0;36mplot\u001b[0;34m(*args, **kwargs)\u001b[0m\n\u001b[1;32m   3356\u001b[0m                       mplDeprecation)\n\u001b[1;32m   3357\u001b[0m     \u001b[0;32mtry\u001b[0m\u001b[0;34m:\u001b[0m\u001b[0;34m\u001b[0m\u001b[0m\n\u001b[0;32m-> 3358\u001b[0;31m         \u001b[0mret\u001b[0m \u001b[0;34m=\u001b[0m \u001b[0max\u001b[0m\u001b[0;34m.\u001b[0m\u001b[0mplot\u001b[0m\u001b[0;34m(\u001b[0m\u001b[0;34m*\u001b[0m\u001b[0margs\u001b[0m\u001b[0;34m,\u001b[0m \u001b[0;34m**\u001b[0m\u001b[0mkwargs\u001b[0m\u001b[0;34m)\u001b[0m\u001b[0;34m\u001b[0m\u001b[0m\n\u001b[0m\u001b[1;32m   3359\u001b[0m     \u001b[0;32mfinally\u001b[0m\u001b[0;34m:\u001b[0m\u001b[0;34m\u001b[0m\u001b[0m\n\u001b[1;32m   3360\u001b[0m         \u001b[0max\u001b[0m\u001b[0;34m.\u001b[0m\u001b[0m_hold\u001b[0m \u001b[0;34m=\u001b[0m \u001b[0mwashold\u001b[0m\u001b[0;34m\u001b[0m\u001b[0m\n",
      "\u001b[0;32m/anaconda3/lib/python3.5/site-packages/matplotlib/__init__.py\u001b[0m in \u001b[0;36minner\u001b[0;34m(ax, *args, **kwargs)\u001b[0m\n\u001b[1;32m   1853\u001b[0m                         \u001b[0;34m\"the Matplotlib list!)\"\u001b[0m \u001b[0;34m%\u001b[0m \u001b[0;34m(\u001b[0m\u001b[0mlabel_namer\u001b[0m\u001b[0;34m,\u001b[0m \u001b[0mfunc\u001b[0m\u001b[0;34m.\u001b[0m\u001b[0m__name__\u001b[0m\u001b[0;34m)\u001b[0m\u001b[0;34m,\u001b[0m\u001b[0;34m\u001b[0m\u001b[0m\n\u001b[1;32m   1854\u001b[0m                         RuntimeWarning, stacklevel=2)\n\u001b[0;32m-> 1855\u001b[0;31m             \u001b[0;32mreturn\u001b[0m \u001b[0mfunc\u001b[0m\u001b[0;34m(\u001b[0m\u001b[0max\u001b[0m\u001b[0;34m,\u001b[0m \u001b[0;34m*\u001b[0m\u001b[0margs\u001b[0m\u001b[0;34m,\u001b[0m \u001b[0;34m**\u001b[0m\u001b[0mkwargs\u001b[0m\u001b[0;34m)\u001b[0m\u001b[0;34m\u001b[0m\u001b[0m\n\u001b[0m\u001b[1;32m   1856\u001b[0m \u001b[0;34m\u001b[0m\u001b[0m\n\u001b[1;32m   1857\u001b[0m         inner.__doc__ = _add_data_doc(inner.__doc__,\n",
      "\u001b[0;32m/anaconda3/lib/python3.5/site-packages/matplotlib/axes/_axes.py\u001b[0m in \u001b[0;36mplot\u001b[0;34m(self, *args, **kwargs)\u001b[0m\n\u001b[1;32m   1525\u001b[0m         \u001b[0mkwargs\u001b[0m \u001b[0;34m=\u001b[0m \u001b[0mcbook\u001b[0m\u001b[0;34m.\u001b[0m\u001b[0mnormalize_kwargs\u001b[0m\u001b[0;34m(\u001b[0m\u001b[0mkwargs\u001b[0m\u001b[0;34m,\u001b[0m \u001b[0m_alias_map\u001b[0m\u001b[0;34m)\u001b[0m\u001b[0;34m\u001b[0m\u001b[0m\n\u001b[1;32m   1526\u001b[0m \u001b[0;34m\u001b[0m\u001b[0m\n\u001b[0;32m-> 1527\u001b[0;31m         \u001b[0;32mfor\u001b[0m \u001b[0mline\u001b[0m \u001b[0;32min\u001b[0m \u001b[0mself\u001b[0m\u001b[0;34m.\u001b[0m\u001b[0m_get_lines\u001b[0m\u001b[0;34m(\u001b[0m\u001b[0;34m*\u001b[0m\u001b[0margs\u001b[0m\u001b[0;34m,\u001b[0m \u001b[0;34m**\u001b[0m\u001b[0mkwargs\u001b[0m\u001b[0;34m)\u001b[0m\u001b[0;34m:\u001b[0m\u001b[0;34m\u001b[0m\u001b[0m\n\u001b[0m\u001b[1;32m   1528\u001b[0m             \u001b[0mself\u001b[0m\u001b[0;34m.\u001b[0m\u001b[0madd_line\u001b[0m\u001b[0;34m(\u001b[0m\u001b[0mline\u001b[0m\u001b[0;34m)\u001b[0m\u001b[0;34m\u001b[0m\u001b[0m\n\u001b[1;32m   1529\u001b[0m             \u001b[0mlines\u001b[0m\u001b[0;34m.\u001b[0m\u001b[0mappend\u001b[0m\u001b[0;34m(\u001b[0m\u001b[0mline\u001b[0m\u001b[0;34m)\u001b[0m\u001b[0;34m\u001b[0m\u001b[0m\n",
      "\u001b[0;32m/anaconda3/lib/python3.5/site-packages/matplotlib/axes/_base.py\u001b[0m in \u001b[0;36m_grab_next_args\u001b[0;34m(self, *args, **kwargs)\u001b[0m\n\u001b[1;32m    404\u001b[0m                 \u001b[0mthis\u001b[0m \u001b[0;34m+=\u001b[0m \u001b[0margs\u001b[0m\u001b[0;34m[\u001b[0m\u001b[0;36m0\u001b[0m\u001b[0;34m]\u001b[0m\u001b[0;34m,\u001b[0m\u001b[0;34m\u001b[0m\u001b[0m\n\u001b[1;32m    405\u001b[0m                 \u001b[0margs\u001b[0m \u001b[0;34m=\u001b[0m \u001b[0margs\u001b[0m\u001b[0;34m[\u001b[0m\u001b[0;36m1\u001b[0m\u001b[0;34m:\u001b[0m\u001b[0;34m]\u001b[0m\u001b[0;34m\u001b[0m\u001b[0m\n\u001b[0;32m--> 406\u001b[0;31m             \u001b[0;32mfor\u001b[0m \u001b[0mseg\u001b[0m \u001b[0;32min\u001b[0m \u001b[0mself\u001b[0m\u001b[0;34m.\u001b[0m\u001b[0m_plot_args\u001b[0m\u001b[0;34m(\u001b[0m\u001b[0mthis\u001b[0m\u001b[0;34m,\u001b[0m \u001b[0mkwargs\u001b[0m\u001b[0;34m)\u001b[0m\u001b[0;34m:\u001b[0m\u001b[0;34m\u001b[0m\u001b[0m\n\u001b[0m\u001b[1;32m    407\u001b[0m                 \u001b[0;32myield\u001b[0m \u001b[0mseg\u001b[0m\u001b[0;34m\u001b[0m\u001b[0m\n\u001b[1;32m    408\u001b[0m \u001b[0;34m\u001b[0m\u001b[0m\n",
      "\u001b[0;32m/anaconda3/lib/python3.5/site-packages/matplotlib/axes/_base.py\u001b[0m in \u001b[0;36m_plot_args\u001b[0;34m(self, tup, kwargs)\u001b[0m\n\u001b[1;32m    381\u001b[0m             \u001b[0mx\u001b[0m\u001b[0;34m,\u001b[0m \u001b[0my\u001b[0m \u001b[0;34m=\u001b[0m \u001b[0mindex_of\u001b[0m\u001b[0;34m(\u001b[0m\u001b[0mtup\u001b[0m\u001b[0;34m[\u001b[0m\u001b[0;34m-\u001b[0m\u001b[0;36m1\u001b[0m\u001b[0;34m]\u001b[0m\u001b[0;34m)\u001b[0m\u001b[0;34m\u001b[0m\u001b[0m\n\u001b[1;32m    382\u001b[0m \u001b[0;34m\u001b[0m\u001b[0m\n\u001b[0;32m--> 383\u001b[0;31m         \u001b[0mx\u001b[0m\u001b[0;34m,\u001b[0m \u001b[0my\u001b[0m \u001b[0;34m=\u001b[0m \u001b[0mself\u001b[0m\u001b[0;34m.\u001b[0m\u001b[0m_xy_from_xy\u001b[0m\u001b[0;34m(\u001b[0m\u001b[0mx\u001b[0m\u001b[0;34m,\u001b[0m \u001b[0my\u001b[0m\u001b[0;34m)\u001b[0m\u001b[0;34m\u001b[0m\u001b[0m\n\u001b[0m\u001b[1;32m    384\u001b[0m \u001b[0;34m\u001b[0m\u001b[0m\n\u001b[1;32m    385\u001b[0m         \u001b[0;32mif\u001b[0m \u001b[0mself\u001b[0m\u001b[0;34m.\u001b[0m\u001b[0mcommand\u001b[0m \u001b[0;34m==\u001b[0m \u001b[0;34m'plot'\u001b[0m\u001b[0;34m:\u001b[0m\u001b[0;34m\u001b[0m\u001b[0m\n",
      "\u001b[0;32m/anaconda3/lib/python3.5/site-packages/matplotlib/axes/_base.py\u001b[0m in \u001b[0;36m_xy_from_xy\u001b[0;34m(self, x, y)\u001b[0m\n\u001b[1;32m    240\u001b[0m         \u001b[0;32mif\u001b[0m \u001b[0mx\u001b[0m\u001b[0;34m.\u001b[0m\u001b[0mshape\u001b[0m\u001b[0;34m[\u001b[0m\u001b[0;36m0\u001b[0m\u001b[0;34m]\u001b[0m \u001b[0;34m!=\u001b[0m \u001b[0my\u001b[0m\u001b[0;34m.\u001b[0m\u001b[0mshape\u001b[0m\u001b[0;34m[\u001b[0m\u001b[0;36m0\u001b[0m\u001b[0;34m]\u001b[0m\u001b[0;34m:\u001b[0m\u001b[0;34m\u001b[0m\u001b[0m\n\u001b[1;32m    241\u001b[0m             raise ValueError(\"x and y must have same first dimension, but \"\n\u001b[0;32m--> 242\u001b[0;31m                              \"have shapes {} and {}\".format(x.shape, y.shape))\n\u001b[0m\u001b[1;32m    243\u001b[0m         \u001b[0;32mif\u001b[0m \u001b[0mx\u001b[0m\u001b[0;34m.\u001b[0m\u001b[0mndim\u001b[0m \u001b[0;34m>\u001b[0m \u001b[0;36m2\u001b[0m \u001b[0;32mor\u001b[0m \u001b[0my\u001b[0m\u001b[0;34m.\u001b[0m\u001b[0mndim\u001b[0m \u001b[0;34m>\u001b[0m \u001b[0;36m2\u001b[0m\u001b[0;34m:\u001b[0m\u001b[0;34m\u001b[0m\u001b[0m\n\u001b[1;32m    244\u001b[0m             raise ValueError(\"x and y can be no greater than 2-D, but have \"\n",
      "\u001b[0;31mValueError\u001b[0m: x and y must have same first dimension, but have shapes (16,) and (15,)"
     ]
    },
    {
     "data": {
      "image/png": "[encoded data removed]",
      "text/plain": [
       "<Figure size 432x288 with 1 Axes>"
      ]
     },
     "metadata": {
      "needs_background": "light"
     },
     "output_type": "display_data"
    }
   ],
   "source": [
    "plt.plot(range(1,len(ks)+2),train_class_errors)\n",
    "plt.plot(range(1,len(ks)+2),test_class_errors)\n",
    "plt.xlabel('k')\n",
    "plt.ylabel('Error (misclassification rate)')\n",
    "plt.legend(['Error_train','Error_test']) \n",
    "plt.title('Effectiveness through different k\\'s')\n",
    "plt.show()"
   ]
  },
  {
   "cell_type": "markdown",
   "metadata": {},
   "source": [
    "# Support Vector Machine"
   ]
  },
  {
   "cell_type": "code",
   "execution_count": 44,
   "metadata": {},
   "outputs": [
    {
     "name": "stdout",
     "output_type": "stream",
     "text": [
      "Test error: 0.6475\n",
      "Training error: 0.3126\n"
     ]
    }
   ],
   "source": [
    "from sklearn.svm import SVC\n",
    "svm = SVC()\n",
    "svm.fit(X_train, y_train)\n",
    "\n",
    "y_est_test = svm.predict(X_test)\n",
    "y_est_train = svm.predict(X_train)\n",
    "\n",
    "test_class_error = 1-np.mean(np.round(y_est_test,0) == y_test)\n",
    "train_class_error = 1-np.mean(np.round(y_est_train,0) == y_train)\n",
    "\n",
    "print('Test error: {:.4f}'.format(test_class_error))\n",
    "print('Training error: {:.4f}'.format(train_class_error))"
   ]
  },
  {
   "cell_type": "markdown",
   "metadata": {},
   "source": [
    "# Naive Bayes"
   ]
  },
  {
   "cell_type": "code",
   "execution_count": 45,
   "metadata": {},
   "outputs": [
    {
     "name": "stdout",
     "output_type": "stream",
     "text": [
      "Test error: 0.8427\n",
      "Training error: 0.8299\n"
     ]
    }
   ],
   "source": [
    "from sklearn.naive_bayes import GaussianNB\n",
    "gnb = GaussianNB()\n",
    "gnb.fit(X_train, y_train)\n",
    "\n",
    "y_est_test = gnb.predict(X_test)\n",
    "y_est_train = gnb.predict(X_train)\n",
    "\n",
    "test_class_error = 1-np.mean(np.round(y_est_test,0) == y_test)\n",
    "train_class_error = 1-np.mean(np.round(y_est_train,0) == y_train)\n",
    "\n",
    "print('Test error: {:.4f}'.format(test_class_error))\n",
    "print('Training error: {:.4f}'.format(train_class_error))"
   ]
  },
  {
   "cell_type": "code",
   "execution_count": 46,
   "metadata": {},
   "outputs": [
    {
     "name": "stdout",
     "output_type": "stream",
     "text": [
      "[4, 2, 4, 4, 2, 2, 2, 1, 3, 1, 2, 2, 4, 2, 2, 4, 2, 1, 4, 4, 4, 2, 1, 4, 4, 4, 2, 4, 4, 4, 2, 1, 2, 1, 1, 1, 2, 1, 1, 2, 4, 4, 2, 4, 4, 2, 4, 4, 4, 4, 4, 2, 4, 2, 4, 2, 1, 3, 4, 1, 2, 4, 2, 1, 1, 2, 2, 4, 4, 4, 4, 1, 4, 4, 3, 2, 1, 1, 2, 4, 1, 4, 2, 2, 2, 4, 4, 4, 1, 4, 2, 4, 2, 2, 1, 2, 4, 4, 2, 4, 3, 4, 2, 2, 2, 2, 4, 2, 4, 4, 2, 4, 4, 2, 4, 3, 1, 4, 2, 2, 4, 2, 1, 4, 1, 4, 2, 2, 1, 1, 4, 4, 2, 4, 1, 2, 2, 2, 2, 2, 4, 4, 4, 1, 2, 4, 4, 3, 1, 4, 1, 2, 4, 4, 2, 4, 4, 4, 1, 4, 2, 4, 1, 2, 4, 2, 1, 4, 2, 1, 4, 1, 1, 4, 2, 4, 2, 4, 1, 2, 2, 4, 3, 4, 4, 2, 2, 2, 1, 2, 2, 2, 2, 2, 4, 4, 1, 4, 4, 2, 1, 4, 4, 2, 3, 1, 4, 4, 2, 2, 2, 4, 3, 1, 3, 1, 2, 1, 2, 4, 2, 4, 4, 1, 2, 1, 2, 4, 2, 2, 4, 4, 4, 4, 1, 1, 2, 2, 4, 4, 4, 4, 4, 4, 2, 1, 2, 4, 2, 4, 1, 2, 1, 1, 2, 2, 4, 2, 2, 3, 4, 2, 1, 2, 4, 1, 4, 4, 2, 2, 1, 2, 4, 4, 2, 2, 3, 4, 4, 2, 4, 2, 4, 4, 4, 1, 4, 3, 2, 1, 1, 4, 3, 1, 2, 2, 0, 4, 1, 2, 2, 4, 1, 4, 4, 2, 4, 2, 2, 2, 4, 4, 2, 2, 2, 4, 4, 3, 2, 1, 4, 2, 2, 2, 4, 4, 2, 4, 2, 4, 1, 4, 4, 2, 2, 2, 4, 2, 1, 2, 3, 4, 2, 4, 1, 4, 2, 2, 4, 2, 2, 1, 2, 1, 3, 3, 2, 2, 1, 4, 4, 4, 1, 1, 4, 1, 2, 4, 2, 2, 3, 4, 4, 4, 4, 4, 4, 2, 1, 4, 1, 2, 2, 2, 3, 4, 4, 1, 1, 4, 2, 4, 1, 1, 2, 2, 4, 2, 4, 4, 4, 2, 2, 1, 1, 4, 2, 4, 4, 4, 2, 3, 4, 1, 3, 1, 2, 4, 2, 2, 4, 4, 1, 1, 4, 4, 2, 2, 1, 1, 2, 2, 1, 2, 2, 3, 4, 2, 3, 4, 2, 4, 2, 2, 1, 1, 2, 4, 0, 1, 2, 1, 4, 4, 3, 1, 1, 1, 4, 4, 4, 4, 2, 4, 1, 2, 1, 2, 4, 2, 3, 4, 4, 1, 3, 2, 2, 3, 2, 4, 1, 2, 2, 4, 1, 4, 4, 2, 4, 4, 1, 4, 1, 2, 2, 2, 1, 1, 1, 1, 1, 0, 2, 1, 4, 1, 4, 3, 4, 2, 4, 1, 4, 4, 2, 1, 2, 1, 2, 4, 2, 4, 1, 1, 1, 1, 4, 2, 2, 1, 1, 4, 4, 4, 4, 4, 2, 4, 4, 4, 4, 4, 4, 2, 2, 4, 1, 4, 1, 2, 4, 4, 4, 4, 3, 2, 1, 2, 2, 1, 2, 1, 4, 3, 4, 4, 2, 1, 4, 4, 4, 2, 4, 4, 4, 4, 4, 1, 2, 1, 4, 4, 4, 4, 3, 4, 4, 4, 2, 4, 4, 4, 4, 1, 2, 1, 3, 4, 2, 1, 3, 1, 1, 2, 1, 4, 1, 4, 1, 3, 3, 2, 3, 4, 4, 2, 4, 4, 4, 1, 1, 3, 1, 2, 1, 4, 4, 2, 3, 2, 2, 1, 2, 1, 1, 3, 1, 3, 2, 4, 1, 4, 2, 2, 1, 2, 2, 1, 2, 2, 4, 2, 3, 1, 4, 1, 3, 4, 2, 2, 2, 4, 0, 1, 2, 2, 1, 2, 4, 4, 4, 2, 2, 2, 4, 4, 4, 4, 4, 1, 1, 4, 3, 4, 2, 2, 2, 2, 4, 1, 0, 3, 4, 1, 4, 1, 1, 2, 1, 1, 2, 2, 3, 4, 4, 0, 4, 1, 2, 4, 4, 1, 4, 2, 1, 4, 2, 2, 1, 2, 4, 2, 2, 3, 2, 1, 4, 1, 1, 2, 3, 1, 4, 2, 3, 1, 2, 2, 2, 2, 4, 4, 2, 2, 4, 4, 2, 2, 1, 4, 2, 2, 2, 2, 4, 1, 4, 4, 2, 3, 2, 4, 1, 4, 4, 1, 1, 1, 4, 1, 1, 4, 4, 4, 2, 2, 4, 4, 2, 2, 4, 4, 4, 2, 4, 2, 2, 1, 4, 3, 4, 1, 4, 2, 2, 2, 4, 2, 4, 4, 1, 3, 1, 4, 4, 2, 1, 2, 2, 4, 2, 4, 4, 2, 3, 4, 4, 4, 4, 2, 4, 4, 1, 4, 2, 1, 2, 1, 4, 3, 4, 4, 2, 3, 1, 2, 1, 4, 4, 2, 1, 4, 1, 4, 2, 4, 4, 2, 4, 2, 2, 4, 2, 2, 3, 3, 4, 1, 2, 2, 2, 4, 1, 2, 2, 2, 1, 2, 1, 4, 2, 2, 4, 2, 1, 1, 2, 4, 4, 1, 4, 4, 4, 4, 2, 4, 1, 3, 4, 1, 1, 4, 2, 4, 4, 2, 2, 4, 2, 2, 4, 1, 2, 2, 2, 2, 3, 3, 1, 4, 4, 2, 2, 2, 2, 1, 3, 2, 2, 2, 4, 4, 4, 1, 4, 4, 4, 1, 2, 2, 4, 1, 1, 1, 2, 4, 4, 2, 4, 4, 1, 2, 2, 1, 1, 4, 4, 2, 1, 1, 4, 2, 2, 2, 2, 4, 1, 1, 2, 3, 4, 3, 4, 4, 1, 1, 2, 4, 1, 3, 1, 4, 1, 2, 2, 2, 2, 4, 4, 2, 2, 2, 4, 1, 4, 4, 1, 1, 4, 2, 4, 4, 4, 4, 3, 4, 4, 2, 4, 2, 2, 2, 1, 4, 4, 2, 2, 4, 2, 2, 1, 1, 4, 4, 4, 4, 2, 3, 2, 0, 1, 1, 1, 2, 4, 4, 1, 2, 4, 2, 1, 1, 1, 4, 1, 2, 2, 4, 2, 2, 1, 0, 1, 4, 1, 1, 2, 1, 2, 4, 1, 4, 4, 4, 2, 1, 2, 4, 2, 2, 1, 4, 2, 2, 2, 4, 4, 1, 2, 1, 3, 2, 1, 1, 1, 4, 2, 3, 4, 2, 2, 4, 4, 1, 1, 1, 4, 2, 4, 4, 1, 4, 2, 2, 0, 1, 3, 1, 2, 4, 2, 4, 4, 3, 1, 2, 4, 2, 1, 1, 2, 1, 4, 4, 4, 2, 1, 3, 2, 4, 4, 2, 2, 2, 4, 4, 4, 2, 2, 2, 2, 4, 2, 4, 3, 1, 3, 1, 3, 4, 2, 2, 4, 2, 4, 2, 2, 1, 3, 3, 4, 2, 4, 3, 2, 2, 2, 3, 2, 2, 3, 2, 2, 4, 2, 2, 4, 2, 2, 2, 4, 1, 1, 4, 2, 1, 1, 4, 3, 4, 4, 2, 1, 1, 2, 2, 1, 2, 2, 3, 3, 2, 4, 4, 1, 2, 1, 2, 4, 4, 3, 1, 1, 1, 1, 4, 2, 1, 2, 2, 4, 2, 4, 4, 4, 2, 2, 1, 4, 2, 4, 4, 3, 4, 1, 4, 4, 1, 1, 1, 2, 2, 3, 2, 2, 2, 1, 2, 4, 1, 3, 4, 4, 4, 2, 2, 2, 3, 4, 2, 1, 1, 1, 4, 4, 2, 4, 2, 4, 2, 2, 1, 4, 2, 2, 4, 4, 4, 4, 1, 2, 2, 4, 4, 4, 2, 4, 4, 4, 4, 2, 4, 4, 4, 2, 2, 2, 4, 3, 4, 1, 2, 2, 4, 2, 4, 4, 4, 4, 4, 4, 1, 2, 3, 1, 2, 2, 1, 2, 4, 4, 0, 4, 2, 1, 1, 2, 4, 2, 4, 4, 3, 1, 4, 3, 4, 4, 4, 2, 1, 1, 1, 1, 4, 4, 4, 2, 4, 3, 2, 4, 4, 1, 2, 3, 4, 4, 4, 4, 2, 1, 2, 2, 2, 2, 4, 2, 4, 1, 4, 4, 2, 2, 4, 4, 2, 4, 4, 2, 4, 1, 2, 4, 4, 1, 1, 4, 4, 0, 2, 2, 4, 4, 1, 2, 2, 1, 2, 1, 2, 2, 1, 2, 1, 1, 2, 2, 4, 4, 2, 4, 4, 2, 4, 2, 1, 4, 4, 4, 4, 1, 1, 4, 2, 4, 2, 4, 4, 2, 4, 1, 1, 2, 2, 1, 3, 2, 2, 4, 2, 4, 3, 1, 1, 2, 3, 4, 4, 2, 4, 2, 2, 2, 3, 4, 1, 4, 4, 4, 1, 2, 4, 1, 2, 1, 4, 4, 1, 2, 2, 2, 2, 2, 2, 4, 4, 4, 4, 2, 2, 4, 1, 1, 4, 3, 4, 2, 1, 1, 1, 4, 4, 1, 3, 2, 4, 1, 4, 3, 2, 4, 4, 4, 4, 1, 1, 2, 1, 2, 3, 3, 3, 0, 3, 4, 4, 4, 2, 2, 1, 4, 2, 4, 1, 2, 4, 4, 1, 2, 1, 3, 2, 1, 4, 1, 2, 4, 4, 2, 2, 4, 4, 4, 4, 3, 4, 2, 4, 1, 2, 4, 4, 2, 2, 1, 1, 4, 2, 4, 1, 1, 2, 2, 1, 4, 4, 1, 4, 1, 2, 2, 4, 1, 2, 4, 2, 1, 4, 2, 2, 1, 1, 2, 2, 2, 4, 1, 4, 1, 4, 2, 0, 2, 4, 2, 4, 2, 4, 4, 4, 2, 4, 1, 4, 3, 4, 4, 4, 4, 4, 2, 4, 4, 4, 1, 2, 4, 2, 2, 2, 2, 2, 4, 2, 1, 1, 1, 1, 1, 4, 1, 2, 2, 4, 1, 4, 0, 1, 4, 2, 2, 4, 2, 2, 2, 4, 2, 3, 4, 4, 4, 2, 1, 2, 3, 2, 2, 4, 4, 4, 4, 3, 1, 1, 1, 2, 4, 2, 4, 2, 4, 2, 2, 2, 3, 2, 1, 3, 2, 4, 3, 2, 2, 2, 3, 4, 4, 1, 2, 4, 2, 4, 1, 4, 4, 3, 4, 2, 1, 2, 2, 1, 2, 1, 4, 4, 1, 2, 4, 4, 4, 2, 4, 1, 2, 2, 2, 2, 4, 1, 4, 4, 2, 1, 4, 4, 4, 1, 1, 1, 3, 2, 4, 2, 1, 2, 2, 4, 2, 2, 2, 2, 4, 4, 4, 1, 2, 4, 4, 1, 2, 2, 1, 2, 1, 2, 1, 2, 4, 4, 4, 1, 4, 2, 2, 2, 2, 2, 4, 1, 2, 1, 4, 2, 2, 4, 3, 2, 1, 4, 4, 4, 4, 2, 1, 2, 2, 4, 2, 1, 4, 2, 4, 3, 2, 1, 0, 2, 2, 4, 2, 1, 2, 4, 1, 4, 2, 2, 4, 1, 4, 2, 1, 2, 3, 4, 4, 4, 1, 1, 4, 4, 1, 1, 1, 2, 4, 1, 1, 4, 4, 2, 2, 2, 2, 4, 4, 4, 4, 4, 2, 2, 2, 2, 2, 4, 4, 3, 1, 4, 4, 4, 2, 2, 1, 2, 4, 4, 2, 4, 1, 2, 4, 4, 4, 2, 3, 4, 4, 2, 4, 1, 1, 4, 2, 4, 4, 3, 2, 4, 4, 4, 2, 0, 4, 4, 4, 4, 1, 3, 4, 0, 1, 4, 4, 2, 4, 4, 4, 4, 1, 2, 2, 2, 4, 4, 4, 4, 1, 1, 4, 2, 2, 4, 3, 2, 4, 4, 1, 3, 2, 4, 2, 1, 2, 4, 4, 1, 1, 2, 4, 1, 4, 4, 0, 4, 2, 1, 2, 3, 4, 4, 4, 1, 4, 2, 2, 4, 1, 4, 1, 3, 4, 2, 2, 4, 4, 2, 4, 1, 2, 2, 4, 4, 2, 4, 4, 4, 4, 2, 4, 2, 4, 1, 4, 2, 1, 1, 4, 4, 4, 4, 2, 1, 3, 4, 2, 2, 2, 4, 2, 3, 2, 1, 2, 4, 4, 2, 2, 4, 2, 4, 4, 4, 1, 2, 1, 2, 4, 4, 1, 4, 4, 4, 2, 4, 2, 2, 2, 4, 4, 1, 1, 4, 2, 2, 2, 4, 4, 1, 1, 1, 1, 4, 4, 2, 3, 2, 2, 2, 4, 1, 2, 1, 4, 4, 2, 4, 4, 4, 2, 2, 2, 2, 1, 1, 2, 4, 2, 3, 1, 2, 3, 4, 2, 2, 4, 1, 4, 2, 3, 1, 0, 3, 4, 2, 3, 2, 2, 4, 4, 4, 1, 2, 2, 1, 2, 4, 4, 4, 2, 2, 4, 2, 3, 2, 1, 2, 0, 2, 2, 4, 1, 4, 4, 1, 4, 2, 2, 1, 4, 2, 4, 2, 4, 2, 1, 3, 1, 1, 2, 4, 2, 4, 1, 2, 2, 1, 1, 2, 1, 4, 2, 2, 4, 4, 1, 4, 1, 2, 2, 3, 2, 1, 4, 2, 3, 4, 4, 1, 2, 2, 1, 2, 1, 4, 4, 2, 2, 1, 1, 4, 4, 2, 4, 4, 2, 4, 2, 4, 4, 1, 2, 1, 4, 4, 2, 2, 4, 1, 1, 1, 4, 1, 4, 1, 4, 3, 4, 2, 2, 1, 2, 2, 3, 4, 2, 4, 4, 4, 1, 0, 4, 4, 1, 1, 0, 4, 2, 1, 2, 2, 1, 2, 4, 2, 4, 4, 4, 4, 2, 2, 4, 1, 1, 1, 2, 4, 1, 2, 2, 2, 3, 1, 2, 4, 4, 2, 2, 2, 1, 4, 4, 2, 1, 2, 0, 1, 4, 2, 1, 4, 1, 4, 2, 4, 1, 2, 2, 4, 4, 1, 2, 4, 3, 4, 4, 4, 4, 4, 1, 2, 4, 1, 1, 2, 4, 2, 2, 1, 2, 4, 2, 2, 2, 2, 2, 1, 4, 3, 4, 2, 2, 2, 2, 4, 4, 2, 2, 4, 2, 3, 4, 4, 2, 3, 4, 2, 2, 1, 2, 2, 4, 4, 4, 2, 4, 4, 4, 1, 4, 1, 4, 2, 3, 4, 1, 4, 4, 4, 4, 1, 2, 2, 4, 4, 4, 2, 2, 2, 4, 2, 4, 4, 2, 1, 2, 2, 1, 1, 3, 2, 1, 2, 4, 2, 4, 4, 1, 4, 2, 2, 4, 2, 4, 4, 2, 4, 4, 4, 1, 3, 4, 4, 1, 2, 4, 2, 2, 4, 2, 2, 1, 4, 4, 3, 4, 3, 2, 2, 4, 2, 1, 4, 3, 2, 4, 1, 4, 4, 1, 2, 2, 4, 4, 3, 4, 2, 2, 4, 3, 2, 2, 3, 2, 2, 4, 2, 1, 4, 1, 2, 2, 2, 1, 4, 1, 4, 3, 2, 1, 2, 2, 1, 4, 2, 2, 1, 2, 2, 1, 1, 4, 2, 2, 1, 2, 4, 4, 2, 1, 2, 4, 4, 2, 4, 4, 2, 4, 1, 4, 2, 2, 4, 4, 2, 4, 2, 2, 1, 4, 4, 3, 2, 4, 4, 4, 4, 2, 4, 1, 4, 1, 2, 4, 4, 1, 2, 4, 1, 4, 4, 2, 0, 4, 3, 4, 4, 3, 3, 2, 4, 2, 2, 1, 1, 3, 1, 1, 1, 4, 4, 4, 1, 2, 4, 4, 4, 2, 1, 0, 4, 4, 2, 2, 4, 4, 4, 2, 4, 4, 3, 1, 2, 4, 3, 2, 4, 4, 1, 1, 2, 0, 1, 2, 4, 4, 1, 1, 2, 2, 3, 4, 1, 4, 2, 4, 2, 2, 4, 1, 2, 3, 2, 4, 1, 4, 4, 1, 4, 1, 1, 2, 2, 1, 4, 1, 4, 2, 1, 4, 1, 1, 4, 2, 2, 2, 2, 4, 3, 2, 4, 3, 4, 2, 4, 2, 1, 4, 4, 4, 2, 1, 2, 1, 2, 4, 2, 1, 3, 4, 2, 3, 4, 1, 2, 2, 4, 1, 2, 4, 4, 2, 2, 4, 4, 4, 2, 4, 2, 4, 3, 1, 4, 1, 1, 2, 3, 4, 2, 4, 2, 2, 2, 2, 4, 1, 1, 4, 4, 2, 1, 4, 2, 2, 1, 1, 1, 2, 4, 3, 1, 2, 2, 1, 4, 2, 4, 4, 2, 2, 2, 2, 4, 2, 3, 2, 2, 2, 1, 4, 2, 4, 2, 2, 2, 0, 4, 4, 4, 2, 1, 1, 4, 2, 4, 4, 3, 2, 4, 3, 1, 1, 4, 4, 4, 2, 1, 4, 2, 2, 4, 2, 4, 4, 2, 4, 2, 4, 3, 4, 3, 4, 4, 3, 1, 4, 2, 2, 1, 1, 2, 1, 2, 4, 3, 4, 2, 1, 3, 2, 3, 4, 2, 4, 4, 1, 4, 2, 4, 2, 2, 2, 2, 4, 2, 2, 2, 1, 1, 1, 2, 2, 1, 4, 1, 2, 4, 2, 4, 4, 2, 1, 1, 2, 2, 4, 1, 4, 1, 2, 1, 4, 4, 4, 2, 1, 4, 2, 1, 4, 2, 4, 4, 2, 1, 4, 4, 2, 4, 4, 4, 1, 4, 4, 4, 1, 2, 4, 2, 4, 2, 1, 1, 2, 4, 2, 2, 4, 1, 4, 2, 1, 4, 2, 1, 4, 4, 1, 2, 1, 2, 4, 4, 2, 4, 1, 2, 4, 4, 2, 2, 4, 2, 2, 4, 2, 4, 4, 2, 1, 4, 1, 3, 2, 4, 4, 1, 4, 1, 4, 1, 2, 2, 1, 4, 2, 4, 2, 2, 1, 4, 1, 4, 0, 4, 1, 4, 4, 2, 2, 2, 1, 1, 1, 4, 2, 1, 4, 4, 3, 3, 4, 2, 4, 3, 1, 4, 4, 2, 1, 1, 4, 2, 3, 4, 1, 2, 4, 3, 2, 2, 1, 3, 3, 1, 2, 4, 4, 2, 2, 4, 2, 1, 3, 4, 2, 2, 4, 1, 1, 1, 1, 2, 1, 1, 2, 1, 4, 1, 4, 1, 1, 2, 4, 4, 4, 4, 2, 1, 1, 4, 4, 1, 2, 1, 4, 4, 2, 4, 2, 2, 2, 4, 4, 2, 2, 4, 2, 2, 1, 4, 4, 3, 4, 2, 4, 3, 2, 1, 2, 2, 2, 2, 2, 1, 4, 4, 4, 1, 2, 2, 1, 2, 2, 2, 4, 4, 2, 1, 2, 1, 2, 2, 2, 4, 4, 4, 2, 1, 4, 1, 1, 2, 2, 2, 2, 4, 4, 2, 2, 0, 2, 2, 2, 2, 2, 2, 4, 1, 1, 2, 2, 4, 4, 2, 2, 2, 1, 1, 1, 0, 2, 4, 2, 1, 2, 4, 4, 1, 4, 2, 4, 1, 3, 2, 4, 4, 2, 4, 2, 0, 4, 4, 4, 2, 2, 4, 4, 2, 2, 1, 2, 2, 4, 4, 2, 2, 1, 4, 3, 2, 1, 2, 1, 2, 2, 4, 4, 4, 1, 4, 3, 2, 4, 2, 1, 2, 4, 2, 2, 4, 2, 2, 4, 2, 1, 2, 3, 4, 4, 4, 2, 4, 4, 0, 4, 1, 4, 1, 4, 1, 4, 2, 2, 4, 1, 4, 3, 2, 4, 3, 2, 1, 2, 3, 4, 2, 2, 2, 4, 4, 2, 1, 4, 2, 4, 4, 3, 3, 1, 3, 2, 2, 2, 2, 4, 1, 2, 4, 4, 1, 2, 4, 4, 2, 2, 2, 1, 2, 2, 1, 3, 3, 4, 4, 2, 4, 4, 4, 4, 2, 1, 4, 3, 1, 4, 1, 3, 4, 3, 2, 2, 2, 4, 1, 2, 4, 2, 0, 2, 4, 2, 4, 4, 1, 4, 2, 3, 1, 4, 4, 4, 2, 4, 4, 4, 2, 2, 2, 2, 2, 2, 4, 4, 2, 4, 4, 2, 4, 2, 1, 4, 2, 1, 4, 2, 2, 4, 4, 2, 2, 2, 2, 4, 1, 0, 4, 2, 4, 4, 4, 1, 2, 4, 2, 0, 4, 4, 1, 2, 1, 2, 2, 4, 2, 1, 2, 2, 4, 4, 1, 1, 3, 2, 4, 3, 4, 3, 1, 2, 4, 4, 1, 2, 4, 2, 1, 1, 1, 2, 2, 2, 1, 4, 4, 2, 4, 1, 2, 2, 4, 4, 2, 4, 4, 2, 4, 2, 4, 1, 4, 4, 4, 1, 4, 2, 4, 2, 4, 4, 2, 1, 2, 4, 2, 2, 4, 4, 2, 1, 1, 4, 4, 4, 1, 4, 4, 4, 4, 2, 4, 4, 4, 4, 2, 2, 4, 2, 4, 4, 1, 2, 1, 4, 4, 4, 1, 4, 2, 2, 4, 2, 2, 1, 4, 2, 1, 0, 3, 2, 1, 2, 2, 4, 4, 4, 1, 1, 4, 4, 4, 1, 4, 2, 1, 4, 4, 4, 4, 2, 2, 4, 1, 2, 1, 4, 2, 1, 3, 1, 4, 2, 4, 2, 4, 2, 2, 4, 4, 2, 3, 4, 2, 1, 2, 1, 4, 2, 4, 3, 4, 0, 1, 2, 1, 2, 2, 1, 2, 4, 4, 4, 1, 2, 4, 2, 1, 4, 4, 1, 1, 1, 2, 2, 0, 4, 1, 2, 2, 4, 4, 2, 4, 2, 4, 1, 1, 1, 4, 1, 4, 2, 0, 4, 2, 2, 2, 1, 1, 4, 1, 4, 4, 1, 1, 4, 1, 2, 4, 4, 1, 4, 2, 1, 2, 4, 2, 2, 2, 2, 2, 2, 1, 2, 2, 2, 3, 2, 2, 2, 1, 1, 4, 1, 2, 4, 2, 3, 2, 2, 0, 2, 2, 2, 1, 2, 1, 4, 4, 4, 4, 1, 2, 1, 1, 4, 1, 2, 2, 4, 4, 2, 2, 4, 4, 4, 2, 2, 2, 2, 3, 4, 4, 2, 4, 3, 4, 2, 2, 4, 4, 2, 1, 2, 4, 1, 4, 4, 4, 3, 1, 4, 4, 2, 4, 3, 4, 2, 4, 2, 3, 4, 2, 2, 1, 4, 2, 0, 2, 2, 2, 1, 1, 1, 2, 4, 1, 2, 4, 2, 4, 2, 1, 3, 3, 4, 4, 4, 1, 2, 1, 2, 3, 4, 2, 1, 4, 2, 4, 2, 1, 2, 1, 2, 2, 2, 4, 4, 1, 4, 2, 1, 1, 4, 1, 4, 4, 1, 4, 4, 4, 4, 3, 2, 4, 4, 4, 2, 2, 1, 4, 1, 2, 1, 4, 4, 4, 2, 4, 2, 2, 1, 2, 1, 2, 3, 4, 4, 4, 3, 4, 4, 1, 2, 1, 2, 1, 4, 2, 2, 1, 1, 2, 2, 2, 2, 4, 2, 4, 4, 4, 1, 4, 4, 1, 2, 4, 4, 2, 3, 2, 3, 1, 1, 4, 2, 2, 2, 2, 1, 1, 2, 4, 4, 2, 1, 2, 4, 2, 4, 2, 4, 2, 2, 2, 2, 1, 1, 3, 4, 1, 3, 1, 4, 2, 1, 2, 1, 2, 4, 4, 2, 2, 3, 4, 3, 1, 3, 4, 2, 2, 4, 2, 4, 4, 4, 2, 4, 2, 4, 4, 4, 3, 2, 2, 2, 4, 1, 4, 2, 4, 1, 2, 2, 4, 4, 2, 2, 2, 2, 4, 4, 2, 1, 1, 2, 2, 4, 4, 2, 3, 2, 2, 4, 4, 4, 1, 4, 1, 2, 4, 3, 2, 1, 1, 1, 4, 4, 2, 4, 3, 4, 1, 4, 3, 2, 2, 4, 2, 4, 4, 2, 2, 2, 2, 2, 2, 4, 2, 2, 1, 4, 2, 1, 2, 1, 2, 4, 2, 2, 2, 1, 1, 2, 3, 4, 4, 4, 3, 4, 2, 4, 1, 4, 4, 4, 4, 1, 2, 4, 1, 1, 1, 4, 2, 2, 2, 2, 4, 4, 4, 2, 1, 2, 4, 4, 2, 4, 1, 4, 1, 4, 4, 4, 2, 2, 2, 4, 2, 4, 2, 1, 2, 2, 1, 4, 4, 4, 2, 4, 1, 4, 4, 4, 1, 4, 1, 2, 2, 4, 4, 3, 2, 4, 1, 1, 1, 1, 2, 4, 4, 4, 4, 2, 2, 1, 4, 3, 2, 2, 3, 2, 1, 1, 1, 2, 4, 4, 2, 4, 2, 2, 4, 2, 2, 4, 2, 4, 4, 1, 2, 2, 1, 4, 2, 4, 4, 2, 2, 4, 3, 4, 2, 3, 4, 4, 3, 1, 2, 3, 2, 2, 2, 4, 1, 1, 4, 1, 3, 4, 4, 4, 4, 1, 2, 2, 4, 2, 2, 2, 4, 2, 4, 4, 4, 2, 2, 2, 4, 2, 2, 1, 2, 3, 4, 4, 3, 2, 2, 1, 4, 1, 4, 2, 1, 2, 1, 4, 2, 1, 2, 2, 4, 2, 2, 2, 2, 1, 4, 3, 4, 1, 4, 2, 2, 4, 0, 2, 2, 4, 2, 2, 2, 2, 4, 4, 2, 4, 1, 4, 2, 1, 1, 2, 2, 1, 1, 2, 3, 4, 1, 1, 4, 2, 3, 4, 4, 4, 1, 2, 4, 2, 4, 4, 2, 2, 4, 4, 2, 4, 4, 1, 4, 4, 2, 2, 1, 2, 1, 1, 4, 3, 3, 2, 1, 1, 2, 1, 4, 1, 2, 2, 4, 1, 4, 2, 2, 4, 4, 2, 1, 4, 4, 4, 4, 2, 0, 2, 4, 4, 4, 2, 2, 2, 2, 1, 2, 4, 1, 4, 1, 4, 1, 2, 4, 2, 1, 4, 4, 4, 2, 1, 4, 1, 2, 4, 2, 4, 1, 4, 1, 2, 1, 4, 1, 2, 2, 4, 4, 4, 2, 4, 4, 2, 4, 4, 4, 4, 2, 2, 2, 4, 4, 2, 2, 1, 4, 1, 4, 2, 4, 2, 1, 3, 3, 1, 4, 1, 1, 1, 2, 2, 2, 2, 2, 1, 2, 1, 2, 1, 4, 2, 4, 2, 1, 4, 2, 2, 1, 4, 1, 4, 4, 2, 2, 1, 2, 2, 2, 4, 1, 2, 1, 2, 4, 4, 1, 4, 2, 2, 1, 2, 4, 1, 1, 2, 2, 1, 2, 0, 2, 2, 2, 4, 3, 1, 2, 1, 4, 1, 2, 4, 4, 1, 4, 2, 4, 4, 1, 2, 4, 4, 3, 4, 1, 1, 1, 1, 4, 4, 2, 4, 2, 1, 3, 4, 4, 3, 4, 4, 2, 4, 2, 4, 1, 4, 3, 3, 1, 2, 1, 4, 1, 2, 1, 2, 4, 2, 4, 4, 1, 4, 4, 4, 4, 2, 4, 2, 4, 4, 4, 4, 1, 4, 4, 4, 1, 2, 2, 4, 2, 2, 1, 2, 2, 2, 3, 2, 2, 4, 1, 4, 4, 2, 4, 2, 2, 1, 4, 4, 4, 1, 4, 2, 2, 2, 4, 0, 3, 4, 2, 4, 4, 4, 4, 4, 2, 2, 1, 4, 4, 1, 4, 1, 2, 2, 2, 1, 4, 1, 4, 4, 2, 3, 4, 4, 4, 1, 3, 4, 4, 4, 4, 4, 4, 4, 1, 2, 1, 1, 2, 1, 4, 2, 1, 1, 2, 1, 4, 4, 4, 1, 0, 1, 2, 4, 2, 4, 1, 1, 1, 4, 4, 2, 4, 2, 4, 2, 4, 2, 3, 1, 1, 2, 2, 4, 4, 2, 4, 3, 2, 1, 2, 3, 4, 1, 2, 4, 2, 2, 2, 1, 2, 1, 2, 4, 2, 2, 0, 4, 3, 2, 4, 1, 3, 2, 2, 4, 4, 2, 3, 4, 4, 2, 1, 2, 1, 2, 2, 2, 4, 4, 4, 4, 2, 1, 1, 2, 1, 4, 2, 4, 1, 4, 4, 4, 3, 2, 2, 1, 4, 2, 3, 1, 1, 1, 4, 1, 2, 1, 1, 1, 4, 2, 4, 4, 4, 2, 1, 2, 2, 1, 1, 2, 4, 4, 3, 4, 4, 2, 2, 3, 4, 2, 1, 4, 4, 1, 2, 4, 1, 4, 4, 4, 2, 4, 2, 4, 4, 2, 4, 4, 4, 4, 1, 1, 4, 2, 2, 4, 1, 4, 2, 2, 1, 2, 3, 4, 4, 2, 2, 1, 1, 4, 4, 4, 4, 1, 2, 1, 1, 4, 2, 2, 1, 2, 2, 1, 4, 4, 4, 4, 4, 2, 2, 4, 3, 1, 2, 4, 4, 1, 4, 2, 1, 4, 4, 1, 2, 2, 2, 2, 2, 2, 1, 4, 1, 4, 2, 4, 4, 4, 2, 2, 4, 2, 4, 2, 2, 4, 4, 2, 1, 2, 2, 2, 1, 4, 4, 2, 4, 4, 2, 4, 4, 1, 4, 2, 2, 2, 2, 1, 2, 2, 1, 4, 2, 2, 4, 4, 3, 4, 2, 4, 2, 3, 2, 2, 2, 2, 1, 4, 2, 4, 1, 4, 4, 4, 4, 2, 4, 2, 2, 2, 1, 2, 2, 1, 1, 4, 1, 2, 1, 3, 2, 2, 2, 2, 1, 1, 2, 2, 4, 2, 2, 1, 4, 3, 2, 2, 4, 2, 1, 2, 1, 2, 4, 2, 0, 2, 2, 4, 2, 2, 2, 4, 1, 4, 4, 1, 2, 1, 2, 4, 2, 3, 4, 2, 2, 2, 2, 4, 4, 4, 4, 1, 2, 4, 4, 4, 2, 4, 4, 2, 2, 4, 4, 2, 2, 2, 2, 1, 2, 2, 4, 1, 2, 4, 3, 2, 1, 1, 1, 2, 1, 4, 2, 1, 1, 2, 4, 2, 4, 2, 2, 4, 2, 1, 2, 1, 0, 1, 4, 2, 4, 1, 2, 1, 4, 2, 4, 1, 2, 2, 2, 2, 2, 2, 4, 2, 4, 4, 1, 4, 4, 2, 2, 1, 2, 3, 4, 1, 4, 4, 2, 2, 4, 4, 2, 1, 2, 1, 2, 4, 2, 2, 2, 2, 1, 2, 3, 1, 4, 1, 4, 2, 4, 2, 1, 2, 2, 4, 1, 2, 2, 4, 1, 2, 2, 2, 1, 4, 1, 4, 4, 4, 2, 1, 4, 1, 2, 2, 1, 2, 3, 4, 2, 4, 2, 2, 2, 2, 2, 2, 4, 1, 4, 2, 2, 1, 2, 2, 1, 2, 4, 4, 2, 4, 4, 2, 4, 4, 1, 1, 4, 1, 3, 2, 2, 1, 2, 4, 2, 1, 1, 2, 4, 2, 4, 4, 4, 2, 4, 4, 2, 2, 4, 4, 4, 2, 2, 3, 2, 2, 1, 1, 4, 0, 4, 1, 2, 2, 2, 1, 4, 1, 4, 2, 2, 4, 2, 2, 3, 4, 2, 3, 4, 2, 2, 2, 2, 3, 2, 2, 1, 2, 4, 2, 0, 2, 1, 4, 4, 2, 2, 4, 1, 4, 4, 1, 3, 2, 1, 1, 2, 4, 4, 1, 4, 4, 1, 4, 2, 4, 4, 1, 1, 1, 2, 2, 4, 3, 1, 2, 2, 1, 1, 2, 1, 2, 2, 2, 1, 4, 2, 3, 2, 1, 1, 4, 2, 1, 2, 2, 2, 4, 2, 4, 4, 2, 4, 2, 2, 1, 1, 1, 2, 4, 2, 0, 1, 4, 1, 4, 1, 2, 4, 4, 2, 4, 2, 1, 1, 1, 2, 4, 1, 1, 4, 2, 1, 2, 1, 3, 4, 2, 3, 2, 2, 4, 4, 1, 1, 2, 1, 2, 1, 1, 4, 2, 4, 3, 4, 4, 2, 1, 4, 2, 1, 2, 2, 2, 1, 2, 2, 3, 1, 2, 2, 4, 4, 4, 1, 2, 2, 2, 2, 2, 2, 4, 2, 3, 3, 1, 2, 2, 2, 4, 2, 2, 4, 3, 4, 2, 4, 4, 4, 4, 2, 1, 2, 4, 2, 2, 4, 2, 2, 1, 2, 2, 1, 2, 4, 2, 2, 4, 4, 1, 2, 2, 1, 4, 2, 4, 4, 3, 2, 4, 3, 4, 2, 2, 2, 4, 2, 1, 3, 3, 2, 2, 4, 2, 4, 4, 4, 0, 1, 4, 4, 1, 4, 0, 2, 1, 1, 1, 2, 3, 2, 4, 3, 2, 4, 4, 4, 4, 2, 4, 4, 1, 2, 4, 2, 2, 4, 4, 4, 1, 4, 4, 4, 2, 2, 1, 4, 4, 2, 4, 2, 2, 2, 1, 4, 2, 4, 2, 4, 4, 1, 4, 4, 1, 2, 2, 1, 4, 2, 2, 4, 1, 4, 2, 4, 1, 2, 1, 4, 4, 4, 2, 1, 2, 1, 4, 2, 4, 4, 2, 4, 1, 2, 2, 4, 2, 1, 4, 4, 2, 4, 4, 2, 2, 4, 2, 4, 4, 3, 4, 2, 1, 4, 4, 2, 1, 4, 2, 1, 2, 1, 4, 2, 2, 4, 1, 2, 4, 1, 4, 1, 1, 2, 2, 4, 1, 2, 2, 4, 4, 2, 2, 4, 1, 1, 2, 2, 4, 1, 0, 1, 2, 2, 1, 2, 1, 2, 4, 4, 2, 4, 4, 4, 2, 4, 1, 4, 4, 4, 1, 2, 4, 1, 4, 4, 2, 1, 1, 1, 4, 1, 2, 3, 2, 0, 2, 1, 4, 4, 2, 4, 4, 2, 1, 4, 1, 2, 1, 4, 4, 1, 4, 4, 3, 2, 4, 2, 2, 4, 1, 2, 1, 1, 4, 2, 4, 1, 2, 2, 4, 4, 4, 1, 2, 4, 4, 1, 1, 1, 2, 2, 3, 4, 1, 2, 4, 1, 4, 2, 2, 2, 4, 4, 2, 2, 2, 2, 4, 2, 1, 2, 2, 2, 4, 2, 4, 4, 1, 2, 2, 4, 1, 4, 4, 4, 2, 4, 3, 3, 1, 4, 3, 4, 1, 1, 2, 1, 3, 3, 1, 4, 4, 1, 2, 1, 1, 2, 2, 1, 2, 4, 1, 2, 4, 2, 2, 4, 2, 4, 4, 2, 4, 4, 2, 1, 1, 2, 3, 4, 4, 4, 2, 4, 4, 1, 2, 2, 4, 2, 4, 2, 4, 2, 4, 1, 1, 4, 2, 4, 4, 2, 1, 4, 4, 3, 2, 4, 4, 2, 2, 3, 4, 4, 4, 2, 4, 3, 2, 2, 2, 4, 4, 4, 1, 4, 4, 4, 1, 2, 4, 2, 2, 1, 1, 4, 1, 4, 1, 2, 2, 1, 4, 2, 1, 4, 1, 2, 2, 4, 4, 4, 2, 4, 2, 4, 2, 2, 1, 4, 2, 4, 1, 2, 1, 2, 2, 2, 4, 1, 2, 4, 2, 4, 4, 2, 1, 4, 1, 4, 0, 1, 2, 4, 4, 2, 4, 3, 2, 2, 4, 2, 3, 4, 1, 4, 4, 2, 2, 2, 1, 4, 4, 4, 1, 2, 2, 4, 4, 4, 2, 1, 2, 2, 1, 4, 4, 4, 4, 4, 4, 4, 2, 1, 4, 4, 1, 4, 2, 2, 2, 2, 4, 2, 2, 2, 4, 3, 1, 4, 2, 1, 1, 2, 3, 4, 4, 2, 4, 1, 4, 2, 4, 3, 1, 1, 2, 4, 1, 4, 4, 2, 4, 4, 4, 2, 3, 1, 1, 2, 3, 4, 2, 2, 2, 4, 4, 4, 4, 2, 1, 2, 2, 2, 1, 1, 4, 2, 3, 4, 4, 4, 2, 2, 2, 1, 4, 2, 1, 1, 2, 4, 4, 3, 4, 2, 2, 4, 4, 4, 2, 2, 2, 2, 2, 4, 2, 4, 2, 2, 3, 2, 4, 2, 2, 3, 3, 2, 2, 4, 1, 4, 4, 4, 4, 2, 1, 2, 2, 2, 2, 2, 4, 3, 3, 4, 2, 4, 4, 1, 1, 4, 4, 2, 4, 2, 1, 4, 1, 1, 4, 4, 1, 2, 3, 2, 3, 2, 4, 4, 3, 1, 3, 4, 4, 2, 4, 1, 1, 4, 2, 3, 2, 3, 1, 1, 1, 4, 4, 2, 2, 2, 4, 1, 2, 2, 2, 4, 2, 3, 1, 1, 1, 2, 3, 4, 4, 4, 4, 3, 3, 1, 2, 2, 4, 1, 3, 4, 4, 1, 4, 4, 0, 1, 2, 2, 2, 1, 4, 4, 1, 4, 1, 1, 4, 2, 2, 4, 3, 2, 2, 4, 1, 4, 4, 0, 4, 4, 2, 4, 2, 3, 2, 4, 4, 4, 2, 2, 2, 2, 4, 4, 4, 1, 3, 2, 4, 4, 2, 4, 4, 2, 3, 3, 2, 2, 4, 2, 1, 1, 2, 1, 1, 4, 3, 2, 1, 1, 1, 3, 4, 4, 3, 2, 4, 1, 4, 4, 2, 1, 4, 3, 4, 4, 2, 2, 2, 4, 1, 4, 2, 2, 2, 4, 2, 2, 4, 4, 1, 4, 4, 4, 4, 4, 2, 4, 1, 2, 4, 2, 1, 2, 2, 3, 4, 2, 2, 1, 2, 4, 4, 0, 4, 1, 4, 4, 2, 4, 2, 1, 2, 1, 2, 4, 2, 4, 2, 2, 2, 1, 2, 2, 3, 1, 4, 1, 4, 1, 2, 4, 1, 2, 4, 2, 2, 4, 1, 2, 4, 2, 2, 1, 4, 4, 4, 4, 2, 4, 2, 4, 2, 2, 2, 1, 2, 1, 2, 4, 2, 1, 4, 4, 2, 1, 2, 1, 2, 1, 1, 4, 4, 3, 3, 3, 4, 2, 4, 2, 4, 3, 4, 4, 1, 2, 1, 3, 2, 2, 2, 2, 4, 4, 2, 3, 4, 2, 1, 2, 2, 4, 3, 1, 2, 2, 2, 1, 4, 1, 4, 2, 1, 4, 4, 1, 2, 1, 4, 1, 2, 2, 2, 2, 2, 2, 2, 4, 2, 4, 1, 4, 0, 1, 2, 2, 1, 2, 2, 1, 2, 2, 2, 2, 2, 2, 4, 2, 4, 3, 4, 4, 1, 2, 2, 2, 4, 3, 2, 1, 2, 4, 1, 2, 4, 4, 4, 4, 4, 4, 1, 0, 4, 4, 2, 2, 2, 4, 2, 2, 4, 4, 1, 4, 2, 1, 2, 2, 1, 1, 4, 4, 1, 4, 2, 4, 4, 1, 2, 2, 4, 4, 4, 2, 2, 2, 2, 1, 4, 2, 4, 2, 4, 4, 2, 4, 2, 2, 4, 2, 4, 4, 2, 1, 4, 4, 1, 4, 0, 4, 2, 4, 4, 3, 2, 4, 2, 2, 4, 1, 2, 4, 4, 4, 4, 1, 1, 2, 2, 3, 4, 2, 2, 2, 1, 4, 1, 4, 4, 4, 1, 4, 4, 4, 4, 4, 2, 2, 3, 4, 4, 3, 4, 2, 4, 2, 1, 1, 3, 1, 2, 4, 3, 4, 2, 4, 1, 1, 4, 1, 4, 1, 4, 2, 2, 1, 2, 2, 4, 4, 2, 2, 4, 2, 4, 4, 3, 2, 4, 2, 4, 4, 2, 2, 2, 2, 2, 4, 2, 1, 2, 4, 2, 3, 2, 2, 1, 1, 2, 1, 1, 4, 2, 4, 4, 2, 4, 1, 4, 1, 2, 2, 4, 2, 2, 4, 2, 4, 2, 4, 2, 4, 4, 0, 4, 3, 1, 1, 2, 4, 2, 1, 3, 4, 1, 4, 4, 1, 1, 2, 2, 1, 1, 1, 2, 2, 4, 1, 1, 2, 4, 1, 2, 4, 4, 2, 4, 4, 4, 2, 2, 1, 4, 2, 2, 2, 1, 2, 1, 4, 1, 4, 2, 3, 2, 4, 4, 2, 3, 1, 4, 1, 2, 2, 4, 4, 3, 1, 1, 4, 1, 2, 2, 1, 4, 2, 3, 1, 4, 2, 2, 2, 4, 1, 1, 2, 2, 2, 2, 4, 1, 2, 4, 1, 2, 2, 1, 1, 2, 2, 4, 4, 4, 1, 4, 2, 2, 4, 1, 1, 4, 1, 4, 2, 4, 4, 1, 3, 1, 4, 4, 2, 2, 1, 4, 2, 1, 4, 2, 2, 4, 2, 2, 3, 4, 4, 4, 2, 1, 2, 4, 2, 4, 2, 4, 2, 0, 2, 2, 1, 4, 2, 4, 1, 2, 2, 2, 1, 1, 1, 3, 4, 4, 1, 1, 1, 2, 1, 1, 4, 2, 2, 4, 4, 1, 4, 4, 2, 1, 3, 3, 4, 2, 4, 4, 1, 4, 2, 1, 4, 1, 2, 4, 4, 4, 4, 1, 1, 4, 1, 1, 2, 2, 2, 2, 4, 1, 4, 4, 2, 1, 1, 4, 4, 2, 3, 2, 4, 1, 2, 0, 2, 3, 1, 4, 4, 2, 1, 1, 2, 4, 4, 4, 4, 4, 4, 4, 2, 2, 4, 2, 4, 4, 4, 4, 2, 2, 2, 2, 4, 4, 4, 1, 1, 4, 1, 2, 4, 1, 2, 4, 1, 1, 3, 4, 1, 2, 4, 2, 4, 3, 2, 1, 4, 1, 3, 2, 4, 2, 4, 2, 4, 2, 2, 3, 4, 1, 2, 2, 4, 1, 4, 2, 4, 4, 4, 4, 4, 1, 4, 2, 4, 2, 4, 4, 2, 4, 2, 2, 1, 3, 2, 2, 4, 3, 2, 2, 2, 1, 1, 1, 2, 2, 4, 4, 2, 1, 4, 3, 4, 2, 1, 4, 2, 2, 4, 4, 4, 4, 1, 1, 4, 2, 0, 4, 2, 3, 4, 2, 2, 4, 4, 4, 4, 2, 4, 2, 4, 1, 1, 2, 1, 1, 1, 4, 2, 4, 4, 4, 2, 4, 2, 2, 2, 4, 2, 4, 4, 1, 1, 4, 2, 4, 2, 1, 1, 4, 4, 4, 4, 4, 4, 2, 2, 2, 4, 2, 0, 4, 4, 4, 4, 2, 4, 1, 2, 4, 4, 4, 2, 4, 4, 1, 4, 1, 2, 2, 2, 2, 4, 2, 2, 1, 4, 3, 2, 4, 2, 4, 4, 2, 2, 3, 3, 4, 4, 3, 2, 4, 1, 2, 4, 3, 2, 1, 4, 2, 2, 4, 1, 4, 4, 4, 4, 4, 4, 4, 2, 2, 2, 2, 2, 4, 4, 4, 4, 1, 1, 2, 1, 4, 2, 1, 2, 3, 4, 4, 4, 4, 1, 4, 1, 2, 4, 1, 4, 2, 1, 3, 2, 4, 1, 2, 4, 1, 4, 2, 4, 2, 2, 4, 4, 1, 2, 4, 4, 2, 0, 1, 4, 2, 4, 4, 4, 1, 4, 4, 1, 4, 4, 1, 2, 1, 4, 4, 4, 2, 4, 4, 2, 1, 2, 3, 2, 1, 1, 2, 1, 2, 3, 2, 4, 2, 4, 2, 4, 2, 2, 4, 1, 1, 2, 1, 4, 2, 2, 3, 1, 4, 2, 2, 1, 2, 2, 4, 4, 2, 4, 2, 2, 2, 4, 2, 2, 1, 1, 4, 4, 2, 2, 1, 4, 3, 2, 2, 4, 4, 2, 4, 2, 4, 4, 4, 3, 4, 4, 1, 4, 4, 4, 2, 3, 4, 4, 4, 4, 2, 1, 2, 3, 1, 4, 3, 1, 1, 4, 2, 1, 4, 2, 1, 4, 2, 4, 1, 4, 2, 2, 2, 4, 4, 2, 4, 1, 4, 2, 1, 4, 1, 2, 4, 2, 4, 4, 2, 1, 1, 4, 2, 4, 4, 2, 4, 1, 2, 1, 4, 4, 2, 4, 4, 4, 1, 4, 1, 2, 4, 1, 2, 1, 2, 4, 4, 2, 4, 1, 2, 2, 2, 2, 4, 2, 2, 4, 4, 3, 2, 2, 2, 4, 3, 2, 4, 4, 2, 4, 4, 2, 4, 2, 2, 2, 2, 4, 4, 4, 4, 1, 2, 4, 4, 2, 4, 2, 4, 4, 2, 2, 2, 4, 1, 1, 2, 4, 2, 1, 4, 2, 1, 1, 3, 4, 4, 2, 2, 2, 4, 3, 4, 0, 4, 4, 4, 2, 2, 1, 2, 4, 2, 3, 3, 2, 1, 2, 4, 2, 1, 4, 2, 1, 4, 2, 2, 2, 3, 4, 4, 2, 4, 1, 1, 1, 2, 2, 2, 4, 2, 4, 4, 1, 0, 2, 4, 1, 2, 4, 4, 2, 2, 4, 3, 4, 1, 4, 1, 2, 2, 2, 1, 1, 4, 2, 1, 2, 4, 2, 3, 2, 4, 2, 2, 3, 4, 1, 3, 2, 1, 1, 4, 1, 4, 2, 2, 2, 2, 4, 4, 4, 4, 1, 2, 3, 2, 2, 3, 2, 3, 1, 2, 4, 2, 3, 4, 4, 2, 2, 2, 4, 1, 4, 2, 4, 4, 4, 2, 1, 4, 4, 2, 1, 4, 2, 1, 4, 4, 1, 4, 2, 2, 2, 4, 3, 2, 4, 4, 4, 4, 2, 2, 2, 4, 2, 2, 1, 4, 1, 4, 4, 3, 1, 4, 2, 1, 4, 2, 4, 4, 4, 2, 2, 1, 1, 4, 1, 1, 4, 4, 2, 2, 4, 4, 4, 4, 4, 1, 1, 2, 4, 4, 4, 1, 4, 4, 4, 4, 4, 3, 2, 2, 4, 4, 1, 1, 1, 2, 4, 2, 2, 1, 2, 4, 1, 2, 2, 4, 4, 2, 2, 4, 2, 4, 1, 1, 1, 4, 4, 1, 2, 1, 3, 2, 4, 4, 1, 1, 2, 2, 1, 2, 2, 1, 1, 3, 0, 4, 2, 4, 3, 2, 3, 2, 2, 2, 1, 2, 2, 4, 4, 4, 2, 3, 2, 2, 1, 2, 1, 4, 1, 4, 2, 1, 4, 1, 2, 4, 4, 2, 2, 2, 2, 3, 2, 4, 2, 4, 4, 4, 4, 4, 1, 3, 2, 4, 4, 2, 2, 4, 2, 4, 2, 2, 4, 1, 2, 1, 4, 2, 4, 4, 2, 3, 4, 2, 4, 4, 4, 2, 1, 2, 1, 4, 2, 2, 3, 2, 1, 2, 4, 0, 3, 2, 1, 4, 2, 4, 4, 2, 1, 2, 1, 4, 1, 1, 4, 1, 4, 2, 2, 4, 2, 4, 4, 2, 3, 4, 2, 1, 1, 1, 1, 4, 2, 1, 1, 4, 1, 2, 3, 4, 1, 4, 4, 4, 2, 1, 2, 4, 2, 2, 4, 4, 2, 2, 1, 4, 2, 4, 4, 3, 2, 2, 3, 1, 2, 3, 1, 3, 2, 1, 1, 2, 3, 4, 0, 4, 4, 1, 2, 4, 3, 2, 4, 4, 3, 4, 2, 4, 4, 1, 4, 4, 2, 1, 4, 2, 2, 1, 1, 2, 1, 2, 2, 4, 4, 1, 2, 4, 1, 4, 1, 2, 4, 1, 2, 3, 1, 2, 4, 2, 2, 2, 4, 1, 2, 2, 2, 2, 4, 2, 2, 1, 4, 4, 4, 2, 2, 4, 4, 3, 4, 2, 1, 4, 4, 2, 1, 2, 2, 4, 4, 4, 4, 2, 2, 3, 2, 1, 4, 2, 4, 2, 2, 2, 4, 1, 1, 2, 4, 1, 4, 3, 4, 0, 2, 4, 4, 4, 4, 2, 4, 4]\n"
     ]
    }
   ],
   "source": [
    "dtc = dtc.predict(X_test)\n",
    "rf = rf.predict(X_test)\n",
    "logreg = logreg.predict(X_test)\n",
    "svm = svm.predict(X_test)\n",
    "gnb = gnb.predict(X_test)\n",
    "    \n",
    "def majorityVote(x):\n",
    "    maj = [0,0,0,0,0]\n",
    "    def majority(y):#Do this once for each classifier\n",
    "        if(y == 0):\n",
    "            maj[0] = maj[0] + 1\n",
    "        if(y == 1): \n",
    "            maj[1] = maj[1] + 1\n",
    "        if(y == 2):\n",
    "            maj[2] = maj[2] + 1\n",
    "        if(y == 3):\n",
    "            maj[3] = maj[3] + 1\n",
    "        if(y == 4):\n",
    "            maj[4] = maj[4] + 1\n",
    "    majority(dtc[x])\n",
    "    majority(rf[x])\n",
    "    majority(logreg[x])\n",
    "    majority(ktests[-1][x])\n",
    "    majority(svm[x])\n",
    "    majority(gnb[x])\n",
    "\n",
    "    if(max(maj) == maj[0]):\n",
    "        return 0\n",
    "    if(max(maj) == maj[1]):\n",
    "        return 1\n",
    "    if(max(maj) == maj[2]):\n",
    "        return 2\n",
    "    if(max(maj) == maj[3]):\n",
    "        return 3\n",
    "    if(max(maj) == maj[4]):\n",
    "        return 4\n",
    "\n",
    "combined = []\n",
    "for x in range(len(X_test)):\n",
    "    combined.append(majorityVote(x))\n",
    "print(combined)\n",
    "\n",
    "#check against actual labels"
   ]
  },
  {
   "cell_type": "code",
   "execution_count": null,
   "metadata": {},
   "outputs": [],
   "source": []
  }
 ],
 "metadata": {
  "kernelspec": {
   "display_name": "Python 3",
   "language": "python",
   "name": "python3"
  },
  "language_info": {
   "codemirror_mode": {
    "name": "ipython",
    "version": 3
   },
   "file_extension": ".py",
   "mimetype": "text/x-python",
   "name": "python",
   "nbconvert_exporter": "python",
   "pygments_lexer": "ipython3",
   "version": "3.5.5"
  }
 },
 "nbformat": 4,
 "nbformat_minor": 2
}
