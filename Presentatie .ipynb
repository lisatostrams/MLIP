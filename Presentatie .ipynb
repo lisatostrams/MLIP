{
 "cells": [
  {
   "cell_type": "code",
   "execution_count": 7,
   "metadata": {},
   "outputs": [
    {
     "name": "stdout",
     "output_type": "stream",
     "text": [
      "Features in order of importance:\n",
      "PhotoAmt: 0.0944\n",
      "Age: 0.0847\n",
      "Breed1: 0.0592\n",
      "Color2: 0.0556\n",
      "Color1: 0.0497\n",
      "State: 0.0461\n",
      "Breed2: 0.0402\n",
      "FurLength: 0.0300\n",
      "MaturitySize: 0.0293\n",
      "Quantity: 0.0276\n",
      "Fee: 0.0271\n",
      "adopt: 0.0269\n",
      "Gender: 0.0241\n",
      "Dewormed: 0.0239\n",
      "Sterilized: 0.0238\n",
      "Color3: 0.0236\n",
      "Vaccinated: 0.0212\n",
      "play: 0.0184\n",
      "red: 0.0162\n",
      "friend: 0.0156\n",
      "good: 0.0155\n",
      "love: 0.0154\n",
      "activ: 0.0148\n",
      "health: 0.0144\n",
      "vaccin: 0.0142\n",
      "sweet: 0.0133\n",
      "cute: 0.0133\n",
      "Name: 0.0126\n",
      "ador: 0.0119\n",
      "family: 0.0117\n",
      "puppy: 0.0117\n",
      "abandon: 0.0115\n",
      "black: 0.0104\n",
      "kitten: 0.0097\n",
      "mix: 0.0084\n",
      "stray: 0.0082\n",
      "white: 0.0078\n",
      "vet: 0.0075\n",
      "VideoAmt: 0.0066\n",
      "beaut: 0.0052\n",
      "spayed: 0.0049\n",
      "indoor: 0.0049\n",
      "best: 0.0049\n",
      "Health: 0.0046\n",
      "great: 0.0044\n",
      "injur: 0.0043\n",
      "fun: 0.0041\n",
      "Type: 0.0034\n",
      "energ: 0.0030\n"
     ]
    },
    {
     "data": {
      "image/png": "[encoded data removed]",
      "text/plain": [
       "<matplotlib.figure.Figure at 0x22f5b60deb8>"
      ]
     },
     "metadata": {},
     "output_type": "display_data"
    },
    {
     "name": "stdout",
     "output_type": "stream",
     "text": [
      "Lowest error is 0.62 at 21\n",
      "Lowest test error is 0.62 at 13\n",
      "Lowest train error is 0.61 at 21\n"
     ]
    }
   ],
   "source": [
    "\"\"\"\n",
    "Created on Fri Mar  1 11:01:24 2019\n",
    "\n",
    "@author: Lisa\n",
    "\"\"\"\n",
    "\n",
    "import pandas as pd\n",
    "from sklearn import tree\n",
    "from Toolbox import treeprint\n",
    "from sklearn import model_selection\n",
    "import matplotlib.pyplot as plt\n",
    "import numpy as np\n",
    "from collections import Counter\n",
    "data = pd.read_csv('Data/preprocessedTrain.csv') #import data\n",
    "X = data.loc[:, data.columns != 'AdoptionSpeed'] #create X without labels\n",
    "X = X.drop('Description',axis=1) #drop non numerical values\n",
    "X = X.drop('PetID',axis=1) #\n",
    "X = X.drop('RescuerID',axis=1)\n",
    "#X = X.drop('Type',axis=1)\n",
    "\n",
    "y = data['AdoptionSpeed'] #label vector\n",
    "\n",
    "test_proportion = 0.5  # set crossval proportion\n",
    "X_train, X_test, y_train, y_test = model_selection.train_test_split(X,y,test_size=test_proportion)\n",
    "dtc = tree.DecisionTreeClassifier(criterion='gini') #train decision tree\n",
    "dtc = dtc.fit(X_train,y_train)\n",
    "\n",
    "\n",
    "#%%\n",
    "attributeNames = list(X)\n",
    "levels = range(1,len(attributeNames))\n",
    "error = np.zeros((2,len(levels)))\n",
    "\n",
    "\n",
    "attribute_importance = [(attributeNames[i],dtc.feature_importances_[i]) for i in range(len(attributeNames))]\n",
    "attributes_sorted = sorted(attribute_importance, key=lambda item: item[1], reverse=True)\n",
    "\n",
    "\n",
    "print('Features in order of importance:')\n",
    "print(*['{}: {:.4f}'.format(i[0],i[1]) for i in attributes_sorted],sep='\\n')\n",
    "\n",
    "for t in levels:\n",
    "    attributes = [i[0] for i in attributes_sorted][:t+1]\n",
    "    dtc = tree.DecisionTreeClassifier(criterion='gini',max_depth=5)\n",
    "    Xnew = X_train[attributes]\n",
    "    Xnew_test = X_test[attributes]\n",
    "    dtc = dtc.fit(Xnew,y_train)\n",
    "    y_est_test = dtc.predict(Xnew_test)\n",
    "    y_est_train = dtc.predict(Xnew)\n",
    "    \n",
    "    test_class_error = 1-np.mean(y_est_test == y_test)\n",
    "    train_class_error = 1-np.mean(y_est_train == y_train)\n",
    "    error[0,t-1], error[1,t-1]= train_class_error, test_class_error\n",
    "\n",
    "plt.plot(levels, error[0,:])\n",
    "plt.plot(levels, error[1,:])\n",
    "plt.xlabel('Model complexity (number of attributes used)')\n",
    "plt.ylabel('Error (misclassification rate)')\n",
    "plt.legend(['Error_train','Error_test']) \n",
    "plt.title('Cross validation over number of attributes')\n",
    "plt.show()  \n",
    "errorSum = sum(error)\n",
    "print('Lowest error is {:.2f} at {}'.format(min(errorSum)/2, np.argmin(errorSum)))\n",
    "print('Lowest test error is {:.2f} at {}'.format(min(error[1,:]), np.argmin(error[1,:])))\n",
    "print('Lowest train error is {:.2f} at {}'.format(min(error[0,:]), np.argmin(error[0,:])))"
   ]
  },
  {
   "cell_type": "markdown",
   "metadata": {},
   "source": [
    "# Number of attributes\n",
    "\n",
    "Bovenstaande code geeft aan hoeveel van de attributes je moet gebruiken om de boom te trainen om het beste generaliseren naar de test data set. "
   ]
  }
 ],
 "metadata": {
  "kernelspec": {
   "display_name": "Python 3",
   "language": "python",
   "name": "python3"
  },
  "language_info": {
   "codemirror_mode": {
    "name": "ipython",
    "version": 3
   },
   "file_extension": ".py",
   "mimetype": "text/x-python",
   "name": "python",
   "nbconvert_exporter": "python",
   "pygments_lexer": "ipython3",
   "version": "3.6.4"
  }
 },
 "nbformat": 4,
 "nbformat_minor": 2
}
