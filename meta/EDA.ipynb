{
 "cells": [
  {
   "cell_type": "markdown",
   "metadata": {},
   "source": [
    "# Petfinder EDA\n",
    "\n",
    "Predict the speed at which a pet is adopted. "
   ]
  },
  {
   "cell_type": "code",
   "execution_count": 14,
   "metadata": {},
   "outputs": [],
   "source": [
    "#imports 1\n",
    "import numpy as np\n",
    "import pandas as pd\n",
    "import matplotlib.pyplot as plt\n",
    "import keras\n",
    "from sklearn.model_selection import KFold\n",
    "\n",
    "data = pd.read_csv('petfinder-adoption-prediction/train/train.csv')"
   ]
  },
  {
   "cell_type": "code",
   "execution_count": 54,
   "metadata": {},
   "outputs": [],
   "source": [
    "#imports 2\n",
    "from keras.models import Sequential\n",
    "from keras.layers import Activation, Dense, MaxPooling2D"
   ]
  },
  {
   "cell_type": "code",
   "execution_count": 55,
   "metadata": {},
   "outputs": [
    {
     "data": {
      "text/html": [
       "<div>\n",
       "<style scoped>\n",
       "    .dataframe tbody tr th:only-of-type {\n",
       "        vertical-align: middle;\n",
       "    }\n",
       "\n",
       "    .dataframe tbody tr th {\n",
       "        vertical-align: top;\n",
       "    }\n",
       "\n",
       "    .dataframe thead th {\n",
       "        text-align: right;\n",
       "    }\n",
       "</style>\n",
       "<table border=\"1\" class=\"dataframe\">\n",
       "  <thead>\n",
       "    <tr style=\"text-align: right;\">\n",
       "      <th></th>\n",
       "      <th>Type</th>\n",
       "      <th>Name</th>\n",
       "      <th>Age</th>\n",
       "      <th>Breed1</th>\n",
       "      <th>Breed2</th>\n",
       "      <th>Gender</th>\n",
       "      <th>Color1</th>\n",
       "      <th>Color2</th>\n",
       "      <th>Color3</th>\n",
       "      <th>MaturitySize</th>\n",
       "      <th>...</th>\n",
       "      <th>Health</th>\n",
       "      <th>Quantity</th>\n",
       "      <th>Fee</th>\n",
       "      <th>State</th>\n",
       "      <th>RescuerID</th>\n",
       "      <th>VideoAmt</th>\n",
       "      <th>Description</th>\n",
       "      <th>PetID</th>\n",
       "      <th>PhotoAmt</th>\n",
       "      <th>AdoptionSpeed</th>\n",
       "    </tr>\n",
       "  </thead>\n",
       "  <tbody>\n",
       "    <tr>\n",
       "      <th>0</th>\n",
       "      <td>2</td>\n",
       "      <td>Nibble</td>\n",
       "      <td>3</td>\n",
       "      <td>299</td>\n",
       "      <td>0</td>\n",
       "      <td>1</td>\n",
       "      <td>1</td>\n",
       "      <td>7</td>\n",
       "      <td>0</td>\n",
       "      <td>1</td>\n",
       "      <td>...</td>\n",
       "      <td>1</td>\n",
       "      <td>1</td>\n",
       "      <td>100</td>\n",
       "      <td>41326</td>\n",
       "      <td>8480853f516546f6cf33aa88cd76c379</td>\n",
       "      <td>0</td>\n",
       "      <td>Nibble is a 3+ month old ball of cuteness. He ...</td>\n",
       "      <td>86e1089a3</td>\n",
       "      <td>1.0</td>\n",
       "      <td>2</td>\n",
       "    </tr>\n",
       "    <tr>\n",
       "      <th>1</th>\n",
       "      <td>2</td>\n",
       "      <td>No Name Yet</td>\n",
       "      <td>1</td>\n",
       "      <td>265</td>\n",
       "      <td>0</td>\n",
       "      <td>1</td>\n",
       "      <td>1</td>\n",
       "      <td>2</td>\n",
       "      <td>0</td>\n",
       "      <td>2</td>\n",
       "      <td>...</td>\n",
       "      <td>1</td>\n",
       "      <td>1</td>\n",
       "      <td>0</td>\n",
       "      <td>41401</td>\n",
       "      <td>3082c7125d8fb66f7dd4bff4192c8b14</td>\n",
       "      <td>0</td>\n",
       "      <td>I just found it alone yesterday near my apartm...</td>\n",
       "      <td>6296e909a</td>\n",
       "      <td>2.0</td>\n",
       "      <td>0</td>\n",
       "    </tr>\n",
       "    <tr>\n",
       "      <th>2</th>\n",
       "      <td>1</td>\n",
       "      <td>Brisco</td>\n",
       "      <td>1</td>\n",
       "      <td>307</td>\n",
       "      <td>0</td>\n",
       "      <td>1</td>\n",
       "      <td>2</td>\n",
       "      <td>7</td>\n",
       "      <td>0</td>\n",
       "      <td>2</td>\n",
       "      <td>...</td>\n",
       "      <td>1</td>\n",
       "      <td>1</td>\n",
       "      <td>0</td>\n",
       "      <td>41326</td>\n",
       "      <td>fa90fa5b1ee11c86938398b60abc32cb</td>\n",
       "      <td>0</td>\n",
       "      <td>Their pregnant mother was dumped by her irresp...</td>\n",
       "      <td>3422e4906</td>\n",
       "      <td>7.0</td>\n",
       "      <td>3</td>\n",
       "    </tr>\n",
       "    <tr>\n",
       "      <th>3</th>\n",
       "      <td>1</td>\n",
       "      <td>Miko</td>\n",
       "      <td>4</td>\n",
       "      <td>307</td>\n",
       "      <td>0</td>\n",
       "      <td>2</td>\n",
       "      <td>1</td>\n",
       "      <td>2</td>\n",
       "      <td>0</td>\n",
       "      <td>2</td>\n",
       "      <td>...</td>\n",
       "      <td>1</td>\n",
       "      <td>1</td>\n",
       "      <td>150</td>\n",
       "      <td>41401</td>\n",
       "      <td>9238e4f44c71a75282e62f7136c6b240</td>\n",
       "      <td>0</td>\n",
       "      <td>Good guard dog, very alert, active, obedience ...</td>\n",
       "      <td>5842f1ff5</td>\n",
       "      <td>8.0</td>\n",
       "      <td>2</td>\n",
       "    </tr>\n",
       "    <tr>\n",
       "      <th>4</th>\n",
       "      <td>1</td>\n",
       "      <td>Hunter</td>\n",
       "      <td>1</td>\n",
       "      <td>307</td>\n",
       "      <td>0</td>\n",
       "      <td>1</td>\n",
       "      <td>1</td>\n",
       "      <td>0</td>\n",
       "      <td>0</td>\n",
       "      <td>2</td>\n",
       "      <td>...</td>\n",
       "      <td>1</td>\n",
       "      <td>1</td>\n",
       "      <td>0</td>\n",
       "      <td>41326</td>\n",
       "      <td>95481e953f8aed9ec3d16fc4509537e8</td>\n",
       "      <td>0</td>\n",
       "      <td>This handsome yet cute boy is up for adoption....</td>\n",
       "      <td>850a43f90</td>\n",
       "      <td>3.0</td>\n",
       "      <td>2</td>\n",
       "    </tr>\n",
       "  </tbody>\n",
       "</table>\n",
       "<p>5 rows × 24 columns</p>\n",
       "</div>"
      ],
      "text/plain": [
       "   Type         Name  Age  Breed1  Breed2  Gender  Color1  Color2  Color3  \\\n",
       "0     2       Nibble    3     299       0       1       1       7       0   \n",
       "1     2  No Name Yet    1     265       0       1       1       2       0   \n",
       "2     1       Brisco    1     307       0       1       2       7       0   \n",
       "3     1         Miko    4     307       0       2       1       2       0   \n",
       "4     1       Hunter    1     307       0       1       1       0       0   \n",
       "\n",
       "   MaturitySize      ...        Health  Quantity  Fee  State  \\\n",
       "0             1      ...             1         1  100  41326   \n",
       "1             2      ...             1         1    0  41401   \n",
       "2             2      ...             1         1    0  41326   \n",
       "3             2      ...             1         1  150  41401   \n",
       "4             2      ...             1         1    0  41326   \n",
       "\n",
       "                          RescuerID  VideoAmt  \\\n",
       "0  8480853f516546f6cf33aa88cd76c379         0   \n",
       "1  3082c7125d8fb66f7dd4bff4192c8b14         0   \n",
       "2  fa90fa5b1ee11c86938398b60abc32cb         0   \n",
       "3  9238e4f44c71a75282e62f7136c6b240         0   \n",
       "4  95481e953f8aed9ec3d16fc4509537e8         0   \n",
       "\n",
       "                                         Description      PetID PhotoAmt  \\\n",
       "0  Nibble is a 3+ month old ball of cuteness. He ...  86e1089a3      1.0   \n",
       "1  I just found it alone yesterday near my apartm...  6296e909a      2.0   \n",
       "2  Their pregnant mother was dumped by her irresp...  3422e4906      7.0   \n",
       "3  Good guard dog, very alert, active, obedience ...  5842f1ff5      8.0   \n",
       "4  This handsome yet cute boy is up for adoption....  850a43f90      3.0   \n",
       "\n",
       "   AdoptionSpeed  \n",
       "0              2  \n",
       "1              0  \n",
       "2              3  \n",
       "3              2  \n",
       "4              2  \n",
       "\n",
       "[5 rows x 24 columns]"
      ]
     },
     "execution_count": 55,
     "metadata": {},
     "output_type": "execute_result"
    }
   ],
   "source": [
    "data.head()"
   ]
  },
  {
   "cell_type": "code",
   "execution_count": 56,
   "metadata": {},
   "outputs": [
    {
     "data": {
      "text/plain": [
       "<matplotlib.axes._subplots.AxesSubplot at 0x21f0b21c278>"
      ]
     },
     "execution_count": 56,
     "metadata": {},
     "output_type": "execute_result"
    },
    {
     "data": {
      "image/png": "iVBORw0KGgoAAAANSUhEUgAAAYAAAAEuCAYAAACH0cUhAAAABHNCSVQICAgIfAhkiAAAAAlwSFlzAAALEgAACxIB0t1+/AAAADl0RVh0U29mdHdhcmUAbWF0cGxvdGxpYiB2ZXJzaW9uIDMuMC4wLCBodHRwOi8vbWF0cGxvdGxpYi5vcmcvqOYd8AAAIABJREFUeJzt3Xm0HFW5/vHvQxISZB4CKEGDGpQhjAERGRSuIgoyCAqiRMWLLEHAEdB7L1xHRLmgqAwyBUVABQSUQQwgIFMSCAQI/IiKcGQKg4AiSOD9/bF3k85Jp7uqq3MG6vms1et0DXv37tPd9dYeapciAjMzq58lBrsAZmY2OBwAzMxqygHAzKymHADMzGrKAcDMrKYcAMzMasoBwMysphwAzMxqygHAzKymRg52AdpZZZVVYvz48YNdDDOzYWXGjBmPR8TYTvsN6QAwfvx4pk+fPtjFMDMbViT9tch+bgIyM6spBwAzs5pyADAzq6kh3QdgZtbOiy++SF9fH88///xgF2VQjBkzhnHjxjFq1Kiu0jsAmNmw1dfXx7LLLsv48eORNNjFGVARwRNPPEFfXx9rrbVWV3m4CcjMhq3nn3+elVdeuXYHfwBJrLzyypVqPw4AZjas1fHg31D1vTsAmJnVlPsAzOxVY/zhv+1pfvcf/f6O+zzyyCMceuihTJs2jdGjRzN+/HiOP/541l577Z6U4ZprrmHJJZdkyy237El+zYZdAOj0ARf5wMzMeiEi2G233Zg8eTLnnnsuADNnzuTRRx/taQBYZpllFksAcBOQmVmXrr76akaNGsUBBxzwyrqNNtqIrbbaii996Uusv/76TJw4kfPOOw9IB/OddtrplX0POuggzjzzTCBNfXPkkUeyySabMHHiRO655x7uv/9+TjrpJI477jg22mgjrrvuup6Wf9jVAMzMhoo777yTTTfddKH1F1xwATNnzuT222/n8ccfZ7PNNmObbbbpmN8qq6zCrbfeyo9//GO+973vceqpp3LAAQewzDLL8MUvfrHn5XcNwMysx66//nr23ntvRowYwWqrrca2227LtGnTOqbbfffdAdh00025//77F3MpHQDMzLq23nrrMWPGjIXWR0TL/UeOHMnLL7/8ynL/MfyjR48GYMSIEcybN6+HJW2tYwCQdLqkxyTd2bTuu5LukXSHpAslrdC07QhJcyTdK2mHpvXvzevmSDq892/FzGxgbbfddrzwwgv85Cc/eWXdtGnTWHHFFTnvvPN46aWXmDt3Ltdeey2bb745b3jDG7j77rt54YUXePrpp5k6dWrH11h22WV59tlnF0v5i/QBnAn8EDirad2VwBERMU/Sd4AjgMMkrQvsBawHvA74vaRGV/iPgHcDfcA0SRdHxN29eRtmZgM/ClASF154IYceeihHH300Y8aMeWUY6D/+8Q823HBDJHHMMcew+uqrA/ChD32IDTbYgAkTJrDxxht3fI2dd96ZPfbYg4suuogTTjiBrbfeunflX1RVZYGdpPHAbyJi/RbbdgP2iIh9JB0BEBHfztuuAI7Kux4VETvk9QvstyiTJk2K/jeE8TBQM2uYPXs266yzzmAXY1C1+h9ImhERkzql7UUfwCeBy/LzNYAHm7b15XWLWm9mZoOkUgCQ9FVgHnB2Y1WL3aLN+lZ57i9puqTpc+fOrVI8MzNro+sAIGkysBOwT8xvR+oD1mzabRzwUJv1C4mIUyJiUkRMGju24z2NzazmijRjv1pVfe9dBQBJ7wUOAz4QEc81bboY2EvSaElrAROAW4BpwARJa0laktRRfHGlkptZ7Y0ZM4YnnniilkGgcT+AMWPGdJ1Hx1FAks4B3gmsIqkPOJI06mc0cGWejvSmiDggIu6S9AvgblLT0IER8VLO5yDgCmAEcHpE3NV1qc3MgHHjxtHX10ddm4sbdwTrVscAEBF7t1h9Wpv9vwl8s8X6S4FLS5XOzKyNUaNGdX03LPOVwGZmteUAYGZWUw4AZmY15QBgZlZTDgBmZjXlAGBmVlMOAGZmNeUAYGZWUw4AZmY15QBgZlZTDgBmZjXlAGBmVlMOAGZmNeUAYGZWUw4AZmY15QBgZlZTDgBmZjXlAGBmVlMOAGZmNeUAYGZWUw4AZmY15QBgZlZTDgBmZjXlAGBmVlMdA4Ck0yU9JunOpnUrSbpS0n3574p5vST9QNIcSXdI2qQpzeS8/32SJi+et2NmZkUVqQGcCby337rDgakRMQGYmpcBdgQm5Mf+wImQAgZwJPA2YHPgyEbQMDOzwdExAETEtcCT/VbvAkzJz6cAuzatPyuSm4AVJL0W2AG4MiKejIingCtZOKiYmdkA6rYPYLWIeBgg/101r18DeLBpv768blHrzcxskPS6E1gt1kWb9QtnIO0vabqk6XPnzu1p4czMbL5uA8CjuWmH/PexvL4PWLNpv3HAQ23WLyQiTomISRExaezYsV0Wz8zMOuk2AFwMNEbyTAYualq/bx4NtAXwdG4iugJ4j6QVc+fve/I6MzMbJCM77SDpHOCdwCqS+kijeY4GfiFpP+ABYM+8+6XA+4A5wHPAJwAi4klJXwem5f2+FhH9O5bNzGwAdQwAEbH3IjZt32LfAA5cRD6nA6eXKp2ZmS02vhLYzKymHADMzGrKAcDMrKYcAMzMasoBwMysphwAzMxqygHAzKymHADMzGrKAcDMrKYcAMzMasoBwMysphwAzMxqygHAzKymHADMzGrKAcDMrKYcAMzMasoBwMysphwAzMxqygHAzKymHADMzGrKAcDMrKYcAMzMasoBwMysphwAzMxqqlIAkPQ5SXdJulPSOZLGSFpL0s2S7pN0nqQl876j8/KcvH18L96AmZl1p+sAIGkN4GBgUkSsD4wA9gK+AxwXEROAp4D9cpL9gKci4s3AcXk/MzMbJFWbgEYCS0kaCbwGeBjYDvhV3j4F2DU/3yUvk7dvL0kVX9/MzLrUdQCIiL8B3wMeIB34nwZmAH+PiHl5tz5gjfx8DeDBnHZe3n/lbl/fzMyqqdIEtCLprH4t4HXA0sCOLXaNRpI225rz3V/SdEnT586d223xzMysgypNQP8B/CUi5kbEi8AFwJbACrlJCGAc8FB+3gesCZC3Lw882T/TiDglIiZFxKSxY8dWKJ6ZmbVTJQA8AGwh6TW5LX974G7gamCPvM9k4KL8/OK8TN5+VUQsVAMwM7OBUaUP4GZSZ+6twKyc1ynAYcDnJc0htfGflpOcBqyc138eOLxCuc3MrKKRnXdZtIg4Ejiy3+o/A5u32Pd5YM8qr2dmZr3jK4HNzGrKAcDMrKYcAMzMasoBwMysphwAzMxqygHAzKymHADMzGrKAcDMrKYcAMzMasoBwMysphwAzMxqygHAzKymHADMzGrKAcDMrKYcAMzMasoBwMysphwAzMxqygHAzKymHADMzGrKAcDMrKYcAMzMasoBwMysphwAzMxqygHAzKymKgUASStI+pWkeyTNlvR2SStJulLSffnvinlfSfqBpDmS7pC0SW/egpmZdaNqDeD7wOUR8VZgQ2A2cDgwNSImAFPzMsCOwIT82B84seJrm5lZBV0HAEnLAdsApwFExL8j4u/ALsCUvNsUYNf8fBfgrEhuAlaQ9NquS25mZpVUqQG8EZgLnCHpNkmnSloaWC0iHgbIf1fN+68BPNiUvi+vMzOzQVAlAIwENgFOjIiNgX8yv7mnFbVYFwvtJO0vabqk6XPnzq1QPDMza6dKAOgD+iLi5rz8K1JAeLTRtJP/Pta0/5pN6ccBD/XPNCJOiYhJETFp7NixFYpnZmbtdB0AIuIR4EFJb8mrtgfuBi4GJud1k4GL8vOLgX3zaKAtgKcbTUVmZjbwRlZM/1ngbElLAn8GPkEKKr+QtB/wALBn3vdS4H3AHOC5vK+ZmQ2SSgEgImYCk1ps2r7FvgEcWOX1zMysd3wlsJlZTTkAmJnVlAOAmVlNOQCYmdWUA4CZWU05AJiZ1ZQDgJlZTTkAmJnVlAOAmVlNOQCYmdWUA4CZWU05AJiZ1ZQDgJlZTTkAmJnVlAOAmVlNOQCYmdWUA4CZWU05AJiZ1ZQDgJlZTTkAmJnVlAOAmVlNOQCYmdWUA4CZWU05AJiZ1VTlACBphKTbJP0mL68l6WZJ90k6T9KSef3ovDwnbx9f9bXNzKx7vagBHALMblr+DnBcREwAngL2y+v3A56KiDcDx+X9zMxskFQKAJLGAe8HTs3LArYDfpV3mQLsmp/vkpfJ27fP+5uZ2SCoWgM4Hvgy8HJeXhn4e0TMy8t9wBr5+RrAgwB5+9N5fzMzGwRdBwBJOwGPRcSM5tUtdo0C25rz3V/SdEnT586d223xzMysgyo1gHcAH5B0P3AuqenneGAFSSPzPuOAh/LzPmBNgLx9eeDJ/plGxCkRMSkiJo0dO7ZC8czMrJ2uA0BEHBER4yJiPLAXcFVE7ANcDeyRd5sMXJSfX5yXyduvioiFagBmZjYwFsd1AIcBn5c0h9TGf1pefxqwcl7/eeDwxfDaZmZW0MjOu3QWEdcA1+TnfwY2b7HP88CevXg9MzOrzlcCm5nVlAOAmVlNOQCYmdWUA4CZWU05AJiZ1ZQDgJlZTTkAmJnVlAOAmVlNOQCYmdWUA4CZWU05AJiZ1ZQDgJlZTTkAmJnVlAOAmVlNOQCYmdWUA4CZWU05AJiZ1ZQDgJlZTTkAmJnVlAOAmVlNOQCYmdWUA4CZWU05AJiZ1ZQDgJlZTXUdACStKelqSbMl3SXpkLx+JUlXSrov/10xr5ekH0iaI+kOSZv06k2YmVl5VWoA84AvRMQ6wBbAgZLWBQ4HpkbEBGBqXgbYEZiQH/sDJ1Z4bTMzq6jrABARD0fErfn5s8BsYA1gF2BK3m0KsGt+vgtwViQ3AStIem3XJTczs0p60gcgaTywMXAzsFpEPAwpSACr5t3WAB5sStaX15mZ2SCoHAAkLQOcDxwaEc+027XFumiR3/6SpkuaPnfu3KrFMzOzRagUACSNIh38z46IC/LqRxtNO/nvY3l9H7BmU/JxwEP984yIUyJiUkRMGjt2bJXimZlZG1VGAQk4DZgdEf/XtOliYHJ+Phm4qGn9vnk00BbA042mIjMzG3gjK6R9B/AxYJakmXndV4CjgV9I2g94ANgzb7sUeB8wB3gO+ESF1zYzs4q6DgARcT2t2/UBtm+xfwAHdvt6ZmbWW74S2MysphwAzMxqygHAzKymHADMzGrKAcDMrKYcAMzMasoBwMysphwAzMxqygHAzKymHADMzGrKAcDMrKYcAMzMasoBwMysphwAzMxqygHAzKymHADMzGrKAcDMrKaq3BJyeDpq+QL7PN1288QpE9tunzV5VpkSmZkNCtcAzMxqqn41gCFi9lvXabt9nXtmd8zjRwdc1Xb7gSdt13b7sR/eqeNrfOG833Tcx8yGJwcAq6Tv8Ovabh939NYd8zjqqKMqbTez7jgA2KvC1Kve1Hb79tv9qe321a+e2fE1HnnXRm23jz/8t22333/0+zu+htlAcgAwG0J6EkQ6DXSoOMgBOg906EUTpy1+DgBmNiQNhT6uTk2c0LmZsxdNnFVruIsy4KOAJL1X0r2S5kg6fKBf38zMkgENAJJGAD8CdgTWBfaWtO5AlsHMzJKBrgFsDsyJiD9HxL+Bc4FdBrgMZmbGwAeANYAHm5b78jozMxtgioiBezFpT2CHiPhUXv4YsHlEfLZpn/2B/fPiW4B7O2S7CvB4xaJVzWMolGGo5DEUytCLPIZCGYZKHkOhDEMlj6FQhiJ5vCEixnbMJSIG7AG8HbiiafkI4IiKeU7vQbkq5TEUyjBU8hgKZfD78P/C/4tij4FuApoGTJC0lqQlgb2Aiwe4DGZmxgBfBxAR8yQdBFwBjABOj4i7BrIMZmaWDPiFYBFxKXBpD7M8ZQjkMRTKMFTyGApl6EUeQ6EMQyWPoVCGoZLHUChDr/IY2E5gMzMbOnw/ADOzmnIAMDOrKQeAYU7SVpI+kZ+PlbTWYJfJhi9JIyR9brDLYQOjtgFA0vmS3i+pq/+BpO9JWq/X5SpZhiOBw0jXUwCMAn5WIv1y+e9KrR4l8pGkj0r6n7z8ekmbF38nIGmnbj+LpjzGtFi3Son0lT9TSUs33oektSV9QNKoknlsKOmg/NiwSnnKioiXeBVNzyJp/R7kMV3SgZJWHIw8evU7bWVYBgBJu0u6T9LTkp6R9KykZ0pmcyLwEeA+SUdLemvJ9PcAp0i6WdIBkgrcbX5B+QAxVdKdeXkDSf9VIovdgA8A/wSIiIeAZUuk/3n+OwOYnv/OaFou6seki/z2zsvPkib9K2Mv0mdxjKT2k8kv2jRJWzQWJH0QuKFE+sqfKXAtMEbSGsBU4BPAmUUTSzoEOBtYNT9+Jumz7VMtlMfyko7LB53pko4t+V7+KOmHkraWtEnjUfC1L5F08aIeZd5Hj97LSZJukfQZSSuUff1sL+B1pO/XuZJ2kKQBzKNXv9OF9eJqsoF+AHOAdXqU1/LAAaQ5im4g/WBHlUj/FuBo4K/5g3pXibR/IE2Qd1vTujtLpL8l/701/10auGMQPo/G6ze/j9u7yGc54NPATcCNpClBli2RfiLpYsPvkg6ilwPjuihHlc+08b/4LPDl/v+XAunvAJZuWi79mQLnA/8LvDE/jgQuKJH+6haPqwqm3bbdo4vPotJ7yXlMAL6djxs/B97d5fd8CdIJ19/y8eJ/gZUGOo9++anbtBExbAPAH3uUz8rAIaQoejHwYeAE4JqC6UeQqsu/JkXjw4BLgHMLpp+W/zYfOGeWKP8XgZOBPwP/mQ+an+3yf7FB/mLu3niUSHtz/l80Dn5jyxz0+uW1CnAocD9wGXBfmfcE7EqqgTwEvLmL16/6md5Gqg3dBKyX180q8fqzgDFNy2PKpF/Ud6jM96pXD2Ap4C0V8+jJe8mf6wfzgXc2qbZX5ju+AXAcaW6yHwBvA75Q8vdaKQ/ga/2WlwDOrvT/HegvRY++WN8HziM1OZQ+YOU8LgDuJrWfv7bfto7zbAD/lw9OJ5MmtGvedm/BMlwGvKnpwLkHcFnJ9/Fu0hnv9+j+zOZ0UhCcApyRH6eXSL8PKYD2Ad/MX/A9S5ZhZ+BC0hnwl4BV8/rXAH8tmMdpwDXAWsAO+Yd+YIky9OIz3Sb/Lw7Ly28EflCiDJ8HbgeOyo+ZwKEl/5c3Als1Lb8DuLFE+tXy//KyvLwusF8Xn+e9wF/y8kbAxV18N6u+l8ZB9/+RmiU3yetfV+J7NYPUnPcRYHS/bYVqIz3K40zy3GnA6Pw9O6rs/3SBPKskHqxH00Gq+VH4gJXz2K5iGT4JvGYR25YvmMcbgd8Dz5HOTK4HxndRluWAlRqPLtLf3YPP5K3AgcBBdNE8B5wFbLOIbdsXzONzNFWJSc17pw3kZ9qLB7AJcDCpdrpxF+k3ykHk/vy4DdiwRPrLgA+Rm/FIMwaUrYXMyP//5tpt6ebJfu/lr128l2uBjwFLtdj2sYJ5vLEHn2kv8hCpCesI4HfA56rmWdsrgfOIkc8AWwFBOvieGBHPF0z/tYj4n6blEcBZEbFPF2VZGlgiIp4tme7TwNeAfwEvk74gERFvLJnPacCxEXF3yXTLRcQzixqJEBFPlsxvdVKfSJCaxx4pk74qSVMjYvtO6zrksTapaW48TVOtRET7G9gumMdWwISIOEPSWGCZiPhL0fRN+SyXX7vUAAlJ0yJiM0m3RcTGed3MiNioRB43R8Tb+uVxR0RsUKYsTfl1+162J9UYnuvmdXMeK5P6HpqPFV+LiCdK5PEt4JiI+HteXhH4QkR0HPTRrwN+FKmG+kdSLY2IuLVoOfobljeFzwfv/YD1SG2kAETEJ0tkcxaprfiEvLw38FNgz4LpXy/piIj4tqTRwC+BQh+EpI9GxM8kfb7fegAi4v8KluGLpHbmqnOLTwFulPQI8ALzA0mnH+vPgZ1IZ3vNZxLKy4UDkaT9SD+yq3L6E3KQPb1EHo3OvnVZ8HvRthz5+/QaYJX8w2yMzliO1FRQxi+Bk4BTgZdKpm0M7Z1E6og+g/lDe99RIo+uDzbZP/NBL3L6LYCnC7+J5E5JHwFG5M/lYEqMyOr/22haD5T6jUwGTpT0BHBdflwfEU8VLQvpzoXXkvoQIDV5ngf8R4k8doyIrzQWIuIpSe8Dinwmx/Zbfor0HT+W9BkVPrnob1gGANKB+h5SO+/XSB/I7JJ5vCUimsdYXy3p9hLpPwGcLekI4F2k9tLjCqZdOv8tM2SzlT+Rmo+qOp1UTZ5FqkkUEhE75b8LXXzWxTC5L5OaO57I6VcmHTAKBwDSAfNIUpvvu0ifUZFyfJrU8fw6UjBrpHmG8sNZ50XEiSXTNNsN2Jh8MhERD0kq+z2pcrCB1A9xMfAmSX8kdervUbIMnwW+SjqhOIc0A/DXS6Sv+tsAICL2BZD0OtJ7+BHpcy5z7FspIprL/g1Ju5YsyghJoyPihVyepUjt+B1FxLtKvlZhw7IJqFGtbFQplS60uaJkNftM4KSIuCkvvw2YHBGf6ZBusVXHypK0MemgdzPph0Yuw8El87mqzP+uRfr+zWFLAD8t0xwmaSrpwPXvvLwkcGlEFD7LkjQjIjaVNCsiJuZ110XE1gXTHxwRP+i37pUfbcE8jgIeI3VoN38mhZrDJN0SEZtLujUiNsnNgzeWaTqRdAewWb+DzfSIKHyRm6SRpFqISB3gLxZNO5RI+iiwNWmI8OOk5pvrIuLGEnl8jzRI4hd51R6kmveRJfL4MmmU3Rmks/ZPkjrFjynyHlq1GDSUqA0tZLjWABpfxr8rXen3CKnNtSNJs0gfwChgX0kP5OU3kEYFddKz6lhu3/1PFm4vLtqUdTKpyaTUmXsL90j6OWm4Y/NB64KC6btuDmvyN+BmSReR/o+7ALc0vvQFv+TP5+Bzn9J9J/5GupiqqI+Thuc1u5HUKVvU5Pz3S03ryjSH/ULSycAKkv6TdKD4SYnXh9RkNFVS88FmStHEknbvt2ptSU+TOoIfK5jHJSzYLAipGWk6cHKnvjZJX46IYySd0CKfMic5x5NqyicBV0fE/QXTIenZ/Noi1YoaV9kvAfyDVNssJL+XWcD2Ob+vR8QVBZO3azGodAY/XGsAnyJdIDKRNDRqGeC/I+LkAmnf0G57RPy1F2UsQtINpDbJGTS1F0fE+UXTR8SWPSjHGS1WR9FAlJt7ziYForLNYY082v6YIuJ/C+SxGakpcAVSc8PypLbwmzqkWx1Yg/QD/wgL9gGcFBFlrxKvRNK7gffkclwREVd2kcd7md9GfWWJgw2Sfku6luHqvOqdpOsa1iZ1fv60QB7fJzUdnZNXfZh0orYUsFxEfKxD+p0j4hJJk1ttj4gyAW090vDcrUgXhd3b6fWHEknjIqJvEdt2johLus57mAaA0aQOmfGkM3lIB6yvdZHXqizYYfhAwXRVO9pKj6xokf6bpKFx/c/cS42+qfD6PW8Oy6M9ouyIqCryQebjpM7X5kvrnwXOLFETQtJrSGeLr4+I/XMH6Fsi4jcF0o4gHfDLdC4uKq/VmD+i6paiZ+457SXApyLi0aa8TgQ+BVwbER3n15F0bURs02qdpLvKNEdVkb9P7yBdibw16ULDmyKiZWBpk8/uzB8FdF1E/Lpk+kZtAmBJ0u/lnxGxXIG09wI79K+9KE0C+V8R8aYyZVkgj2EaAC4nVSf7nzn3b55pl8cHSM02ryO12b4BmF30i6mm4W1N626NiMLNBZK+AdwQ6S5ppUlqNTQwOo16aUpfqZot6eo2m6Nkn8wkUvtoo5r7NPDJiJhRIG3bOWYi4gMFy/DBorWvNnmcR/pe7hsR6+f29xuLBvr8Xj4WEWVH3TTn8SHSxYHXkGoRWwNfiohfFUz/Sh9KXhap+Wf9Vt/7ReQxm3TQeiAvvx64PCLWLZJHDz/TO0jt/teTglfLM+kOefwYeDML1mb+FBEHls2rKc9dSRcbfqXAvu8jXfz6voi4L687glRb3bGb99QwXPsAxkXEeyvm8XVgC+D3uUP5XcyfzKyIrnv1mxwCfEXSC6R+jcbwy45nBdB69E1JjZFTXU0o1ePRCacDn4mI64DGWPgzSFdydvJ20rwq55A6xEuNQGp0sgHjW3W0lexke1NEfFjS3jntv/IBtKjngVmSriRP8pfzKdOx/1VSJ/Bj8Epf0++BQgEAuE7Sb0h9OZBq29fmDum/F8zjC8D1kv5E+jzWAj6T8yjSfFPpM21odJ4rjaTq9mx3W2D9yGfLkqaQmju7FhG/lnR4wX0vzceIy3Lg+BSwGenCyTLDWRcyXAPADZImRkSVD+HFiHhC0hKSloiIqyV9p0T6Sh1tABFReahb7gTvP+79rIKvf0n+W6rcLcpQuTkMeLZx8M9luj5Xm4tYnTQlxt6ks6LfAudExF0F0zc62ZZpsa3sQePf+WSgcbB4E03NcwVcTeoXeplUu/1XydeHdFFhc5PPE5Sb+fdA0kH/HaQD71nA+fkAWCjo54PWBNIV4gLuaer4Pb5AFlU/U+CV38dPSVfJS9Jc0mi/O0tkcy/welJzK8CapClLypSjuWN9CVJzY+HvVkRMlfRxUq3uBtLV8YUuWm1brmHaBHQ3qUr2F8pduNScx+9JE4d9m9Qu+BjprKlwp6qkHZnfq/+7Mh1tOf1Z5ItTIuKeMmlz+iNJHXTrApcCO5Iucik0ZruH1exeNIcdR7oY6xzSD+PDpBFW5+eyFL3IbjTpoPFdUoflCR2S9LSTTdJ7SGfg65Iu138H8ImIaNdc1hh2+S3SicRfSQeJNUm1oK9EiWGYkr5Lqjk1N1ncERGHFc2jFyRtycIj3AqdnPTLp/Rn2pT2BuCrjf+/pHcC3yryO9f8kUzLk864b8mbNic13ZYZotw80GIeaWqLUyJiboG0zaORRpNaC16iZItBy7yHaQBoOZInSozgyVXRf5F+aPuQPuSzo8Tl3VVJ2o7UsbQ1aZjgTFI75fcLpp8FbEiab2XD3Fl3akTsXDD9XNpUsyPiDwXz6cW480r9Cfkg8X7SgWI86UKm0yPibwVeu6edbEoXsW1B+n/eFAWu1M4BcFlnHtMtAAAKR0lEQVTS/C7P5nXLkSb5ey4iDi2Qx5uB1SLij02dliIF0rMj4k8d0l8fEVv167CELg40kn5KmuhwJvP76aJMU1aVz7Qpj9tjwQs+W65bRNpt220v+vtok/+hEVGkNrT4RMXJhF4ND1INoNS82qQRIs/kx/OkL/kzXbz2CNLB4gjSmd89JdI27gcwgzRkUcBdJV/7vaSmq9uAb5CnMC75Hr5M6mTbj3QGez15LvwB+vym5P/BN0httWXTv480C+iEpnVHkNp5S91PAJhaZF2Lfe5r9R3Mn9F9BV/7N8AGLdZPAi4pkL6rKbwXkdfssr+pXn6mTflcCPw3KYCMJ10N/esu8lmNNO3JTuSZanvwP3qgV//vbh/DtQ+ga0rzmhwNPEnqCP4pKQAsIWnfiLi8SD7Rr/2+0atfsixTSe3PN5Kagl7puCtoutJdjn5C+rH8g/nV1I4i3f7vcuDypmr2NUpX9hauZke1i1wAUL6dZIu8iwzt/Ripw3Rt4OCmPtdCZ67Rg042VZ9PKCIfFfqtfElS0Wr6+IhYqG06IqZLGl+kDAVfp4g7Se34D3eZvtJn2uSTpJuuXJDTXkuaIqSwFqOqTpBUeFRVu6wrpq+sdgEA+CHwFVKTz1WkYVQ3Kd0S8hzSAbG0KNGr3+QOYFNgfdKwx79LujEiCnX8xfxpK05SGhq7XKsDQDstqtk/IP1YSomIy0jTCHfrn03Px5DOtArN7xQRlW9tGtU72arOJ3R3PgFZoI1caSqDov1DC90TuclSBdKv2moUVEOUGw21Cuk93cL8TvCIiEL3G+7FZ5rzeYo0EV0VVUdVLbJ4FdNXNiz7AKpQ08VXkmZHxDpN2wqNcc77turV3zYi3t5FmZYhnZV8EVg9ItoOJ81jqhcpil/MNoUUfC4j3fGqzMiI5ny2IM2qug7pIpcRFLzIpU2eo0lzpezQbR4lXqtnnWzqcj4hpXsIX0Dql2rMrroZ6cC9WxTryziHdOvGn/Rbvx/wnoj4cIf0D5Mu+Gp5ZhoFrsZuyqu5/Vyk/oi9Y4AuAGsqRy+m5+5/XcQSpHslTGyTrLFv//6UVzaR7lEwqCfhdQwAr4xO6T9SpczIlSq9+k15HETqAN6U1P5/LWlE0FUd0jXmM2r+oQbp0vtVI2JEwdd/mfln3l13+kmaTrrp9S9JgXBf0u0Yv1ok/SLyXJHUxzGh2zwGQ6vvUMnv1Xakac4b/TlTS7z2aqQ273+Tggikz2NJUhBpe3+FsiO3CpRnI9IQzg+RRuxdUKZpsUdluJ00D1D/i0Y7XmDYlMeQGFW1ONSxCWhDSc+QI3B+Tl5uV4VeQEQs1I4o6VCKjXFuWIp0G8IZETGvxGsvcOaR23cPI8398q0S+fSkmp3zmiNpRO5XOCMPvyusKahBqkGMJU31PSxo/nxCSynN0trcB/Caovnk4N/2BKBN2keBLZUuamxM1/DbTicUTSq3Secz7r1ITYpPkObNVyzGKY07qDo9NxHxpX6jqk6JiAt7UrpBVrsawOIk6YGIaNs80yLNhqRaAKSz/8L3JFC60OarpJtLHwtMiUGYtlfStaTgcyppwq+HgY9HgaF2TXk0D+2dBzxaJigONvVwPqHBImmlqDiPVK5VXke6h/CcvO7PUfIudb2iitNzt8hvFeCJVh32w5EDQA9JejAi1iyx/8HA/szvdN2NdHbRtpqsdHXjV0lNBceQrpAsffepXskH78dIE1x9jtTB/uPGAaBD2jHAAaQL+2aR7uE7bA78/akH8wkNZ5J2I9UAtiQNqDiXdG1K1WlLui1PY76sBQ50RQJSuxGDpLmeuhowMpQ4APRQ2RpAvoDq7RHxz7xc6OYfkl4iXcD1W1rcdjBK3hBmMClNnvYi6axxR+CvEXHI4JaqPM2/accXaD2xXtc37RiO8nd5V1JT0Hakcf0XRsTvBuj1NwMebPR75BraB0l9dUcVqQHkvq3GiMFT6DdisOiAkaGsjn0AlXTq1S+bHQsewBsjTzopc+/jxaZfu/1COgWybN2Yf/eu0yhxHcMQ08v5hIa9fFJzNum2qSuR7rV9OGl6jIFwMvl+CJK2IU358llgI9LBvMh0KSMbAStfG3MTQETco9J3PB2aHABKih5M4NbkDNJdsBodSruS59LvUIZKk7f10E49yOOVPouImDeMf1i/hdZDJSUVmprj1SqfbZ+cHwNlRNNZ/odJTavnA+dLmlkwj+a77PW/NudVEdTdBDTIlG6q0hhdcG1E3DbIRaqkbCdZbs5qDEVt1KKeo4sx+INJi/GmHVaepDuBjfJJxT3A/hFxbWNbFLupTeO72fy9JC+PiYhRi0o7XLgGMEjyxSR35C/igN1IvpfadZKp4LQaRa9ZGAY+B1wpqdVNO9pOKmaLxTnAHyQ9Tjp7b9xn4s2kq+47ehV9NxfJNYBBJOls4IiiV+4ONXXoJCtD0vakZo7m+YR2ioo37bDu5BOU15Kmam8MtFgbWCa6uF3pq5EDwCCSdBXz5xlvvvtT0Xn4x5GmYNiK1F55PXBIVLhFXBm9mlbj1UTpTma/Js0n9KHowU07zBYXNwENrsJzqyzCGcDPSSMsAD6a1727Yr5Fveo7yYpqMZ/Q9sBjSr3aw6Yvw+rFNYAhopsrDJvPwNutW1zq0Elm9mrWs7lgrDhJW0i6RtIFkjbOIxbuBB6VVOZm949L+qikEfnxUdL8KwMiIkZExHIRsWxEjMzPG8s++JsNca4BDIJedZ4qTQv9Q+DtpOaHG0h9AIVvjWlm9eUAMAjceWpmQ4E7gQdHpc5TLeL2iY30EfH1rkplZrXiGsAgqNp5micc629p0k3ZV46IVvPRmJktwAFgmJO0LHAI6eD/C+DYKHdjeTOrKTcBDVN5hsXPA/uQptrdxFecmlkZDgDDUL5H6e6kEUQTI+Ifg1wkMxuG3AQ0DOXb7r1AunVi1zdzN7N6cwAwM6spXwlsZlZTDgBmZjXlAGBmVlMOAFZ7kkLSsU3LX5R01CAWyWxAOACYpRFVu+cpuc1qwwHALA2nPYV0X98FSNpZ0s2SbpP0e0mr5fVHSZoi6XeS7pe0u6RjJM2SdLmkUXm/TSX9QdIMSVdIeu3AvjWzRXMAMEt+BOwjafl+668HtsgztJ4LfLlp25uA9wO7AD8Dro6IiaQJ/t6fg8AJwB4RsSlwOvDNxfs2zIrzlcBmQEQ8I+ks4GAWnKF1HHBePnNfEvhL07bLIuJFSbOAEcDlef0sYDzwFmB94Mp0Z0hGAA8vzvdhVoZrAGbzHU+aVG/ppnUnAD/MZ/afBsY0bXsBICJeBl5sup3ny6STKwF3RcRG+TExIt6zuN+EWVEOAGZZRDxJmlF1v6bVywN/y88nl8zyXmCspLcDSBolab3KBTXrEQcAswUdCzSPBjoK+KWk64DHy2QUEf8G9gC+I+l2YCawZY/KaVaZ5wIyM6sp1wDMzGrKAcDMrKYcAMzMasoBwMysphwAzMxqygHAzKymHADMzGrKAcDMrKb+P9yYtEG9MlXWAAAAAElFTkSuQmCC\n",
      "text/plain": [
       "<Figure size 432x288 with 1 Axes>"
      ]
     },
     "metadata": {
      "needs_background": "light"
     },
     "output_type": "display_data"
    }
   ],
   "source": [
    "import collections\n",
    "\n",
    "name_counter = collections.Counter(data['Name'].values)\n",
    "lst = name_counter.most_common(20)\n",
    "df = pd.DataFrame(lst, columns = ['Name', 'Count'])\n",
    "df.plot.bar(x='Name',y='Count')\n"
   ]
  },
  {
   "cell_type": "markdown",
   "metadata": {},
   "source": [
    "A convolutional network is a neural network which receives an image (pixels) as input and spits out one or more feature values. One problem arises from the dataset in which the images have different sizes. One option would be to resize the image to a certain dimension. This will cause the image to be less detailed (or duplicate pixels are made when the image is very small and the ConvNet requires more pixels, but this i think would not be wise). Shapes in the images will be altered and information will be lost. This preprocessing will have the advantage of not having to create a separate neural network for every image size. \n",
    "It is also possible to cut the image to the right input shape. Again information will be lost but proportions will be maintained. \n",
    "\n",
    "Maybe this webpage is helpful:\n",
    "https://stackoverflow.com/questions/41907598/how-to-train-images-when-they-have-different-size\n",
    "One of the things it says: convolutional layers are fine for variable image size but fully connected layers require a set amount of pixels.\n",
    "\n",
    "After preprocessing:\n",
    "Other factors that can play a role in the final categorization:\n",
    "- Width and height of the image\n",
    "- letters in the image\n",
    "- Cage in image\n",
    "- Dog or cat in image\n"
   ]
  },
  {
   "cell_type": "code",
   "execution_count": 57,
   "metadata": {},
   "outputs": [],
   "source": [
    "#create the model itself\n",
    "\n",
    "def createModel():\n",
    "    model = Sequential()\n",
    "    \n",
    "    #conv. layer 1\n",
    "    model.add(keras.layers.Conv3D(10, [3, 5, 5], strides=(1, 1, 1), padding='valid', data_format=None, dilation_rate=(1, 1, 1), activation=None, use_bias=True, kernel_initializer='glorot_uniform', bias_initializer='zeros'))\n",
    "    model.add(Activation('relu'))\n",
    "    \n",
    "    #max. pooling layer 2\n",
    "    model.add(MaxPooling2D(pool_size=(2, 2), dim_ordering=\"th\"))\n",
    "    return model"
   ]
  },
  {
   "cell_type": "code",
   "execution_count": 58,
   "metadata": {},
   "outputs": [
    {
     "name": "stdout",
     "output_type": "stream",
     "text": [
      "Found 2 images belonging to 1 classes.\n",
      "Found 2 images belonging to 1 classes.\n"
     ]
    },
    {
     "name": "stderr",
     "output_type": "stream",
     "text": [
      "C:\\Users\\Casper\\Anaconda3\\envs\\Medical_Imaging\\lib\\site-packages\\ipykernel_launcher.py:11: UserWarning: Update your `MaxPooling2D` call to the Keras 2 API: `MaxPooling2D(pool_size=(2, 2), data_format=\"channels_first\")`\n",
      "  # This is added back by InteractiveShellApp.init_path()\n"
     ]
    }
   ],
   "source": [
    "#initialize the model and learning\n",
    "\n",
    "\n",
    "# k-fold data\n",
    "des_img_width, des_img_height = 400, 400\n",
    "\n",
    "# k-fold data (if not already done so) (10-fold)\n",
    "kf = KFold(n_splits=10)\n",
    "#for train_index, test_index in kf.split(data):\n",
    "    #put the right images (or references of images) into the right folders\n",
    "\n",
    "\n",
    "train_data_dir = 'petfinder-adoption-prediction/train/train'\n",
    "validation_data_dir = 'petfinder-adoption-prediction/train/validation'\n",
    "\n",
    "\n",
    "#preprocess image\n",
    "datagen = keras.preprocessing.image.ImageDataGenerator(\n",
    "    featurewise_center=True,\n",
    "    featurewise_std_normalization=True,\n",
    "    rotation_range=20,\n",
    "    width_shift_range=0.2,\n",
    "    height_shift_range=0.2,\n",
    "    horizontal_flip=True)\n",
    "\n",
    "#datagen for train\n",
    "datagen.flow_from_directory(\n",
    "        'petfinder-adoption-prediction/train_images/train_set',\n",
    "        target_size=(des_img_width, des_img_height),\n",
    "        batch_size=32,\n",
    "        class_mode='categorical')\n",
    "\n",
    "#datagen for validation\n",
    "datagen.flow_from_directory(\n",
    "        'petfinder-adoption-prediction/train_images/validation_set',\n",
    "        target_size=(des_img_width, des_img_height),\n",
    "        batch_size=32,\n",
    "        class_mode='categorical')\n",
    "\n",
    "# The above flow from directory requires the images to be categorized in folders. \n",
    "# We can make a script that sorts them according to their category(adoption rate).\n",
    "model = createModel()\n",
    "\n",
    "\n",
    "#learn model\n"
   ]
  },
  {
   "cell_type": "code",
   "execution_count": null,
   "metadata": {},
   "outputs": [],
   "source": []
  },
  {
   "cell_type": "code",
   "execution_count": null,
   "metadata": {},
   "outputs": [],
   "source": []
  },
  {
   "cell_type": "code",
   "execution_count": null,
   "metadata": {},
   "outputs": [],
   "source": []
  }
 ],
 "metadata": {
  "kernelspec": {
   "display_name": "Python 3",
   "language": "python",
   "name": "python3"
  },
  "language_info": {
   "codemirror_mode": {
    "name": "ipython",
    "version": 3
   },
   "file_extension": ".py",
   "mimetype": "text/x-python",
   "name": "python",
   "nbconvert_exporter": "python",
   "pygments_lexer": "ipython3",
<<<<<<< HEAD:EDA.ipynb
   "version": "3.5.6"
=======
   "version": "3.5.5"
>>>>>>> cb9834198af66905a022693b5dbe0d8bad00603d:meta/EDA.ipynb
  }
 },
 "nbformat": 4,
 "nbformat_minor": 2
}
